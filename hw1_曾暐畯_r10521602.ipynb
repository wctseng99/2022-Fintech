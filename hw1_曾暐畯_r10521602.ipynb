{
  "cells": [
    {
      "cell_type": "code",
      "execution_count": 1,
      "metadata": {
        "colab": {
          "base_uri": "https://localhost:8080/"
        },
        "id": "z9NSn8ZGPYjs",
        "outputId": "81a6b6f7-39d5-48a4-8e2f-fb0d981fcbc6"
      },
      "outputs": [
        {
          "output_type": "execute_result",
          "data": {
            "text/plain": [
              "<torch._C.Generator at 0x7fa79d164e90>"
            ]
          },
          "metadata": {},
          "execution_count": 1
        }
      ],
      "source": [
        "import numpy as np\n",
        "import pandas as pd\n",
        "import seaborn as sns\n",
        "import matplotlib.pyplot as plt\n",
        "import matplotlib.font_manager as font_manager\n",
        "import torch\n",
        "import torch.nn as nn\n",
        "import torch.nn.functional as F\n",
        "from torch import optim\n",
        "import copy\n",
        "from datetime import datetime\n",
        "from torch.utils.data import Dataset, DataLoader, TensorDataset\n",
        "from tqdm.auto import tqdm\n",
        "import gdown\n",
        "\n",
        "# data preprocessing\n",
        "from sklearn.preprocessing import StandardScaler\n",
        "from sklearn.preprocessing import MinMaxScaler\n",
        "\n",
        "from sklearn.model_selection import train_test_split\n",
        "from sklearn.model_selection import StratifiedShuffleSplit\n",
        "\n",
        "# model import\n",
        "from sklearn.linear_model import LogisticRegression\n",
        "from sklearn.svm import SVC\n",
        "from sklearn.ensemble import RandomForestClassifier\n",
        "\n",
        "# performance measurement\n",
        "from sklearn.metrics import recall_score\n",
        "from sklearn.metrics import classification_report\n",
        "from sklearn.metrics import confusion_matrix\n",
        "from sklearn.metrics import roc_curve\n",
        "from sklearn.metrics import plot_roc_curve\n",
        "from sklearn.metrics import precision_recall_curve\n",
        "from sklearn.metrics import auc\n",
        "\n",
        "np.random.seed(20221003)\n",
        "torch.manual_seed(20221003)"
      ]
    },
    {
      "cell_type": "code",
      "execution_count": 2,
      "metadata": {
        "colab": {
          "base_uri": "https://localhost:8080/"
        },
        "id": "XB8eSB9uPYjw",
        "outputId": "6b47bd32-1c1d-4607-88d2-48bda55c2b9f"
      },
      "outputs": [
        {
          "output_type": "stream",
          "name": "stdout",
          "text": [
            "Using cuda device\n"
          ]
        }
      ],
      "source": [
        "# check whether gpu is working\n",
        "device = 'cuda' if torch.cuda.is_available() else 'cpu'\n",
        "print(f'Using {device} device')"
      ]
    },
    {
      "cell_type": "code",
      "source": [
        "!gdown --id '1b5ccXxxbDgQHWKJnTt0mimNbr4BDy_Ck' --output creditcard_sample.csv"
      ],
      "metadata": {
        "id": "17asGwQbf59n",
        "outputId": "eb0364c8-0d4d-4c71-8169-b5a74283a9ca",
        "colab": {
          "base_uri": "https://localhost:8080/"
        }
      },
      "execution_count": 3,
      "outputs": [
        {
          "output_type": "stream",
          "name": "stdout",
          "text": [
            "/usr/local/lib/python3.7/dist-packages/gdown/cli.py:131: FutureWarning: Option `--id` was deprecated in version 4.3.1 and will be removed in 5.0. You don't need to pass it anymore to use a file ID.\n",
            "  category=FutureWarning,\n",
            "Downloading...\n",
            "From: https://drive.google.com/uc?id=1b5ccXxxbDgQHWKJnTt0mimNbr4BDy_Ck\n",
            "To: /content/creditcard_sample.csv\n",
            "100% 35.9M/35.9M [00:00<00:00, 127MB/s]\n"
          ]
        }
      ]
    },
    {
      "cell_type": "code",
      "execution_count": 4,
      "metadata": {
        "colab": {
          "base_uri": "https://localhost:8080/",
          "height": 300
        },
        "id": "5zKKoma7PYjw",
        "outputId": "9a2941fe-7b55-4818-c342-89ed3002d045"
      },
      "outputs": [
        {
          "output_type": "execute_result",
          "data": {
            "text/plain": [
              "   Time        V1        V2        V3        V4        V5        V6        V7  \\\n",
              "0     0 -1.359807 -0.072781  2.536347  1.378155 -0.338321  0.462388  0.239599   \n",
              "1     0  1.191857  0.266151  0.166480  0.448154  0.060018 -0.082361 -0.078803   \n",
              "2     1 -1.358354 -1.340163  1.773209  0.379780 -0.503198  1.800499  0.791461   \n",
              "3     1 -0.966272 -0.185226  1.792993 -0.863291 -0.010309  1.247203  0.237609   \n",
              "4     2 -1.158233  0.877737  1.548718  0.403034 -0.407193  0.095921  0.592941   \n",
              "\n",
              "         V8        V9  ...       V21       V22       V23       V24       V25  \\\n",
              "0  0.098698  0.363787  ... -0.018307  0.277838 -0.110474  0.066928  0.128539   \n",
              "1  0.085102 -0.255425  ... -0.225775 -0.638672  0.101288 -0.339846  0.167170   \n",
              "2  0.247676 -1.514654  ...  0.247998  0.771679  0.909412 -0.689281 -0.327642   \n",
              "3  0.377436 -1.387024  ... -0.108300  0.005274 -0.190321 -1.175575  0.647376   \n",
              "4 -0.270533  0.817739  ... -0.009431  0.798278 -0.137458  0.141267 -0.206010   \n",
              "\n",
              "        V26       V27       V28  Amount  Class  \n",
              "0 -0.189115  0.133558 -0.021053  149.62      0  \n",
              "1  0.125895 -0.008983  0.014724    2.69      0  \n",
              "2 -0.139097 -0.055353 -0.059752  378.66      0  \n",
              "3 -0.221929  0.062723  0.061458  123.50      0  \n",
              "4  0.502292  0.219422  0.215153   69.99      0  \n",
              "\n",
              "[5 rows x 31 columns]"
            ],
            "text/html": [
              "\n",
              "  <div id=\"df-0fc0a106-613d-432a-9bd1-a0ed0518d226\">\n",
              "    <div class=\"colab-df-container\">\n",
              "      <div>\n",
              "<style scoped>\n",
              "    .dataframe tbody tr th:only-of-type {\n",
              "        vertical-align: middle;\n",
              "    }\n",
              "\n",
              "    .dataframe tbody tr th {\n",
              "        vertical-align: top;\n",
              "    }\n",
              "\n",
              "    .dataframe thead th {\n",
              "        text-align: right;\n",
              "    }\n",
              "</style>\n",
              "<table border=\"1\" class=\"dataframe\">\n",
              "  <thead>\n",
              "    <tr style=\"text-align: right;\">\n",
              "      <th></th>\n",
              "      <th>Time</th>\n",
              "      <th>V1</th>\n",
              "      <th>V2</th>\n",
              "      <th>V3</th>\n",
              "      <th>V4</th>\n",
              "      <th>V5</th>\n",
              "      <th>V6</th>\n",
              "      <th>V7</th>\n",
              "      <th>V8</th>\n",
              "      <th>V9</th>\n",
              "      <th>...</th>\n",
              "      <th>V21</th>\n",
              "      <th>V22</th>\n",
              "      <th>V23</th>\n",
              "      <th>V24</th>\n",
              "      <th>V25</th>\n",
              "      <th>V26</th>\n",
              "      <th>V27</th>\n",
              "      <th>V28</th>\n",
              "      <th>Amount</th>\n",
              "      <th>Class</th>\n",
              "    </tr>\n",
              "  </thead>\n",
              "  <tbody>\n",
              "    <tr>\n",
              "      <th>0</th>\n",
              "      <td>0</td>\n",
              "      <td>-1.359807</td>\n",
              "      <td>-0.072781</td>\n",
              "      <td>2.536347</td>\n",
              "      <td>1.378155</td>\n",
              "      <td>-0.338321</td>\n",
              "      <td>0.462388</td>\n",
              "      <td>0.239599</td>\n",
              "      <td>0.098698</td>\n",
              "      <td>0.363787</td>\n",
              "      <td>...</td>\n",
              "      <td>-0.018307</td>\n",
              "      <td>0.277838</td>\n",
              "      <td>-0.110474</td>\n",
              "      <td>0.066928</td>\n",
              "      <td>0.128539</td>\n",
              "      <td>-0.189115</td>\n",
              "      <td>0.133558</td>\n",
              "      <td>-0.021053</td>\n",
              "      <td>149.62</td>\n",
              "      <td>0</td>\n",
              "    </tr>\n",
              "    <tr>\n",
              "      <th>1</th>\n",
              "      <td>0</td>\n",
              "      <td>1.191857</td>\n",
              "      <td>0.266151</td>\n",
              "      <td>0.166480</td>\n",
              "      <td>0.448154</td>\n",
              "      <td>0.060018</td>\n",
              "      <td>-0.082361</td>\n",
              "      <td>-0.078803</td>\n",
              "      <td>0.085102</td>\n",
              "      <td>-0.255425</td>\n",
              "      <td>...</td>\n",
              "      <td>-0.225775</td>\n",
              "      <td>-0.638672</td>\n",
              "      <td>0.101288</td>\n",
              "      <td>-0.339846</td>\n",
              "      <td>0.167170</td>\n",
              "      <td>0.125895</td>\n",
              "      <td>-0.008983</td>\n",
              "      <td>0.014724</td>\n",
              "      <td>2.69</td>\n",
              "      <td>0</td>\n",
              "    </tr>\n",
              "    <tr>\n",
              "      <th>2</th>\n",
              "      <td>1</td>\n",
              "      <td>-1.358354</td>\n",
              "      <td>-1.340163</td>\n",
              "      <td>1.773209</td>\n",
              "      <td>0.379780</td>\n",
              "      <td>-0.503198</td>\n",
              "      <td>1.800499</td>\n",
              "      <td>0.791461</td>\n",
              "      <td>0.247676</td>\n",
              "      <td>-1.514654</td>\n",
              "      <td>...</td>\n",
              "      <td>0.247998</td>\n",
              "      <td>0.771679</td>\n",
              "      <td>0.909412</td>\n",
              "      <td>-0.689281</td>\n",
              "      <td>-0.327642</td>\n",
              "      <td>-0.139097</td>\n",
              "      <td>-0.055353</td>\n",
              "      <td>-0.059752</td>\n",
              "      <td>378.66</td>\n",
              "      <td>0</td>\n",
              "    </tr>\n",
              "    <tr>\n",
              "      <th>3</th>\n",
              "      <td>1</td>\n",
              "      <td>-0.966272</td>\n",
              "      <td>-0.185226</td>\n",
              "      <td>1.792993</td>\n",
              "      <td>-0.863291</td>\n",
              "      <td>-0.010309</td>\n",
              "      <td>1.247203</td>\n",
              "      <td>0.237609</td>\n",
              "      <td>0.377436</td>\n",
              "      <td>-1.387024</td>\n",
              "      <td>...</td>\n",
              "      <td>-0.108300</td>\n",
              "      <td>0.005274</td>\n",
              "      <td>-0.190321</td>\n",
              "      <td>-1.175575</td>\n",
              "      <td>0.647376</td>\n",
              "      <td>-0.221929</td>\n",
              "      <td>0.062723</td>\n",
              "      <td>0.061458</td>\n",
              "      <td>123.50</td>\n",
              "      <td>0</td>\n",
              "    </tr>\n",
              "    <tr>\n",
              "      <th>4</th>\n",
              "      <td>2</td>\n",
              "      <td>-1.158233</td>\n",
              "      <td>0.877737</td>\n",
              "      <td>1.548718</td>\n",
              "      <td>0.403034</td>\n",
              "      <td>-0.407193</td>\n",
              "      <td>0.095921</td>\n",
              "      <td>0.592941</td>\n",
              "      <td>-0.270533</td>\n",
              "      <td>0.817739</td>\n",
              "      <td>...</td>\n",
              "      <td>-0.009431</td>\n",
              "      <td>0.798278</td>\n",
              "      <td>-0.137458</td>\n",
              "      <td>0.141267</td>\n",
              "      <td>-0.206010</td>\n",
              "      <td>0.502292</td>\n",
              "      <td>0.219422</td>\n",
              "      <td>0.215153</td>\n",
              "      <td>69.99</td>\n",
              "      <td>0</td>\n",
              "    </tr>\n",
              "  </tbody>\n",
              "</table>\n",
              "<p>5 rows × 31 columns</p>\n",
              "</div>\n",
              "      <button class=\"colab-df-convert\" onclick=\"convertToInteractive('df-0fc0a106-613d-432a-9bd1-a0ed0518d226')\"\n",
              "              title=\"Convert this dataframe to an interactive table.\"\n",
              "              style=\"display:none;\">\n",
              "        \n",
              "  <svg xmlns=\"http://www.w3.org/2000/svg\" height=\"24px\"viewBox=\"0 0 24 24\"\n",
              "       width=\"24px\">\n",
              "    <path d=\"M0 0h24v24H0V0z\" fill=\"none\"/>\n",
              "    <path d=\"M18.56 5.44l.94 2.06.94-2.06 2.06-.94-2.06-.94-.94-2.06-.94 2.06-2.06.94zm-11 1L8.5 8.5l.94-2.06 2.06-.94-2.06-.94L8.5 2.5l-.94 2.06-2.06.94zm10 10l.94 2.06.94-2.06 2.06-.94-2.06-.94-.94-2.06-.94 2.06-2.06.94z\"/><path d=\"M17.41 7.96l-1.37-1.37c-.4-.4-.92-.59-1.43-.59-.52 0-1.04.2-1.43.59L10.3 9.45l-7.72 7.72c-.78.78-.78 2.05 0 2.83L4 21.41c.39.39.9.59 1.41.59.51 0 1.02-.2 1.41-.59l7.78-7.78 2.81-2.81c.8-.78.8-2.07 0-2.86zM5.41 20L4 18.59l7.72-7.72 1.47 1.35L5.41 20z\"/>\n",
              "  </svg>\n",
              "      </button>\n",
              "      \n",
              "  <style>\n",
              "    .colab-df-container {\n",
              "      display:flex;\n",
              "      flex-wrap:wrap;\n",
              "      gap: 12px;\n",
              "    }\n",
              "\n",
              "    .colab-df-convert {\n",
              "      background-color: #E8F0FE;\n",
              "      border: none;\n",
              "      border-radius: 50%;\n",
              "      cursor: pointer;\n",
              "      display: none;\n",
              "      fill: #1967D2;\n",
              "      height: 32px;\n",
              "      padding: 0 0 0 0;\n",
              "      width: 32px;\n",
              "    }\n",
              "\n",
              "    .colab-df-convert:hover {\n",
              "      background-color: #E2EBFA;\n",
              "      box-shadow: 0px 1px 2px rgba(60, 64, 67, 0.3), 0px 1px 3px 1px rgba(60, 64, 67, 0.15);\n",
              "      fill: #174EA6;\n",
              "    }\n",
              "\n",
              "    [theme=dark] .colab-df-convert {\n",
              "      background-color: #3B4455;\n",
              "      fill: #D2E3FC;\n",
              "    }\n",
              "\n",
              "    [theme=dark] .colab-df-convert:hover {\n",
              "      background-color: #434B5C;\n",
              "      box-shadow: 0px 1px 3px 1px rgba(0, 0, 0, 0.15);\n",
              "      filter: drop-shadow(0px 1px 2px rgba(0, 0, 0, 0.3));\n",
              "      fill: #FFFFFF;\n",
              "    }\n",
              "  </style>\n",
              "\n",
              "      <script>\n",
              "        const buttonEl =\n",
              "          document.querySelector('#df-0fc0a106-613d-432a-9bd1-a0ed0518d226 button.colab-df-convert');\n",
              "        buttonEl.style.display =\n",
              "          google.colab.kernel.accessAllowed ? 'block' : 'none';\n",
              "\n",
              "        async function convertToInteractive(key) {\n",
              "          const element = document.querySelector('#df-0fc0a106-613d-432a-9bd1-a0ed0518d226');\n",
              "          const dataTable =\n",
              "            await google.colab.kernel.invokeFunction('convertToInteractive',\n",
              "                                                     [key], {});\n",
              "          if (!dataTable) return;\n",
              "\n",
              "          const docLinkHtml = 'Like what you see? Visit the ' +\n",
              "            '<a target=\"_blank\" href=https://colab.research.google.com/notebooks/data_table.ipynb>data table notebook</a>'\n",
              "            + ' to learn more about interactive tables.';\n",
              "          element.innerHTML = '';\n",
              "          dataTable['output_type'] = 'display_data';\n",
              "          await google.colab.output.renderOutput(dataTable, element);\n",
              "          const docLink = document.createElement('div');\n",
              "          docLink.innerHTML = docLinkHtml;\n",
              "          element.appendChild(docLink);\n",
              "        }\n",
              "      </script>\n",
              "    </div>\n",
              "  </div>\n",
              "  "
            ]
          },
          "metadata": {},
          "execution_count": 4
        }
      ],
      "source": [
        "data = pd.read_csv('/content/creditcard_sample.csv')\n",
        "data.head(5)"
      ]
    },
    {
      "cell_type": "code",
      "execution_count": 5,
      "metadata": {
        "id": "PYPBnltgPYjx",
        "colab": {
          "base_uri": "https://localhost:8080/",
          "height": 394
        },
        "outputId": "ae6c1636-abcb-4a0e-d3a2-04283d22ed90"
      },
      "outputs": [
        {
          "output_type": "execute_result",
          "data": {
            "text/plain": [
              "               Time            V1            V2            V3            V4  \\\n",
              "count  99999.000000  99999.000000  99999.000000  99999.000000  99999.000000   \n",
              "mean   42432.982130     -0.262096     -0.032374      0.676251      0.162603   \n",
              "std    17044.825093      1.859057      1.656854      1.322888      1.349249   \n",
              "min        0.000000    -56.407510    -72.715728    -33.680984     -5.172595   \n",
              "25%    33471.500000     -1.028101     -0.598711      0.176781     -0.711442   \n",
              "50%    44299.000000     -0.260556      0.078315      0.753991      0.192567   \n",
              "75%    55851.000000      1.153327      0.735736      1.376333      1.032416   \n",
              "max    67374.000000      1.960497     18.902453      4.226108     16.715537   \n",
              "\n",
              "                 V5            V6            V7            V8            V9  \\\n",
              "count  99999.000000  99999.000000  99999.000000  99999.000000  99999.000000   \n",
              "mean      -0.278507      0.094066     -0.108712      0.056009     -0.046529   \n",
              "std        1.356376      1.301356      1.210925      1.207528      1.121255   \n",
              "min      -42.147898    -26.160506    -31.764946    -73.216718     -9.283925   \n",
              "25%       -0.898645     -0.647870     -0.600209     -0.137457     -0.698812   \n",
              "50%       -0.314370     -0.157022     -0.069107      0.074130     -0.119105   \n",
              "75%        0.249733      0.486356      0.414667      0.360506      0.558226   \n",
              "max       34.801666     22.529298     36.677268     20.007208     10.392889   \n",
              "\n",
              "       ...           V21           V22           V23           V24  \\\n",
              "count  ...  99999.000000  99999.000000  99999.000000  99999.000000   \n",
              "mean   ...     -0.030852     -0.109079     -0.037027      0.008982   \n",
              "std    ...      0.718882      0.634301      0.632911      0.595255   \n",
              "min    ...    -34.830382    -10.933144    -44.807735     -2.836627   \n",
              "25%    ...     -0.224509     -0.531305     -0.176416     -0.323712   \n",
              "50%    ...     -0.057669     -0.083855     -0.049239      0.064999   \n",
              "75%    ...      0.119190      0.308337      0.081522      0.406281   \n",
              "max    ...     22.614889     10.503090     19.002942      4.014444   \n",
              "\n",
              "                V25           V26           V27           V28        Amount  \\\n",
              "count  99999.000000  99999.000000  99999.000000  99999.000000  99999.000000   \n",
              "mean       0.132193      0.026657      0.000606      0.001730     97.962094   \n",
              "std        0.441065      0.494541      0.393700      0.325159    264.624210   \n",
              "min      -10.295397     -2.534330     -9.390980     -9.617915      0.000000   \n",
              "25%       -0.131794     -0.325102     -0.062534     -0.005355      7.570000   \n",
              "50%        0.170104     -0.070347      0.009832      0.023318     26.310000   \n",
              "75%        0.419906      0.300683      0.083025      0.076568     89.000000   \n",
              "max        5.541598      3.517346     12.152401     33.847808  19656.530000   \n",
              "\n",
              "              Class  \n",
              "count  99999.000000  \n",
              "mean       0.002230  \n",
              "std        0.047171  \n",
              "min        0.000000  \n",
              "25%        0.000000  \n",
              "50%        0.000000  \n",
              "75%        0.000000  \n",
              "max        1.000000  \n",
              "\n",
              "[8 rows x 31 columns]"
            ],
            "text/html": [
              "\n",
              "  <div id=\"df-54ee4128-4d62-4dda-8e6b-61127625ecd3\">\n",
              "    <div class=\"colab-df-container\">\n",
              "      <div>\n",
              "<style scoped>\n",
              "    .dataframe tbody tr th:only-of-type {\n",
              "        vertical-align: middle;\n",
              "    }\n",
              "\n",
              "    .dataframe tbody tr th {\n",
              "        vertical-align: top;\n",
              "    }\n",
              "\n",
              "    .dataframe thead th {\n",
              "        text-align: right;\n",
              "    }\n",
              "</style>\n",
              "<table border=\"1\" class=\"dataframe\">\n",
              "  <thead>\n",
              "    <tr style=\"text-align: right;\">\n",
              "      <th></th>\n",
              "      <th>Time</th>\n",
              "      <th>V1</th>\n",
              "      <th>V2</th>\n",
              "      <th>V3</th>\n",
              "      <th>V4</th>\n",
              "      <th>V5</th>\n",
              "      <th>V6</th>\n",
              "      <th>V7</th>\n",
              "      <th>V8</th>\n",
              "      <th>V9</th>\n",
              "      <th>...</th>\n",
              "      <th>V21</th>\n",
              "      <th>V22</th>\n",
              "      <th>V23</th>\n",
              "      <th>V24</th>\n",
              "      <th>V25</th>\n",
              "      <th>V26</th>\n",
              "      <th>V27</th>\n",
              "      <th>V28</th>\n",
              "      <th>Amount</th>\n",
              "      <th>Class</th>\n",
              "    </tr>\n",
              "  </thead>\n",
              "  <tbody>\n",
              "    <tr>\n",
              "      <th>count</th>\n",
              "      <td>99999.000000</td>\n",
              "      <td>99999.000000</td>\n",
              "      <td>99999.000000</td>\n",
              "      <td>99999.000000</td>\n",
              "      <td>99999.000000</td>\n",
              "      <td>99999.000000</td>\n",
              "      <td>99999.000000</td>\n",
              "      <td>99999.000000</td>\n",
              "      <td>99999.000000</td>\n",
              "      <td>99999.000000</td>\n",
              "      <td>...</td>\n",
              "      <td>99999.000000</td>\n",
              "      <td>99999.000000</td>\n",
              "      <td>99999.000000</td>\n",
              "      <td>99999.000000</td>\n",
              "      <td>99999.000000</td>\n",
              "      <td>99999.000000</td>\n",
              "      <td>99999.000000</td>\n",
              "      <td>99999.000000</td>\n",
              "      <td>99999.000000</td>\n",
              "      <td>99999.000000</td>\n",
              "    </tr>\n",
              "    <tr>\n",
              "      <th>mean</th>\n",
              "      <td>42432.982130</td>\n",
              "      <td>-0.262096</td>\n",
              "      <td>-0.032374</td>\n",
              "      <td>0.676251</td>\n",
              "      <td>0.162603</td>\n",
              "      <td>-0.278507</td>\n",
              "      <td>0.094066</td>\n",
              "      <td>-0.108712</td>\n",
              "      <td>0.056009</td>\n",
              "      <td>-0.046529</td>\n",
              "      <td>...</td>\n",
              "      <td>-0.030852</td>\n",
              "      <td>-0.109079</td>\n",
              "      <td>-0.037027</td>\n",
              "      <td>0.008982</td>\n",
              "      <td>0.132193</td>\n",
              "      <td>0.026657</td>\n",
              "      <td>0.000606</td>\n",
              "      <td>0.001730</td>\n",
              "      <td>97.962094</td>\n",
              "      <td>0.002230</td>\n",
              "    </tr>\n",
              "    <tr>\n",
              "      <th>std</th>\n",
              "      <td>17044.825093</td>\n",
              "      <td>1.859057</td>\n",
              "      <td>1.656854</td>\n",
              "      <td>1.322888</td>\n",
              "      <td>1.349249</td>\n",
              "      <td>1.356376</td>\n",
              "      <td>1.301356</td>\n",
              "      <td>1.210925</td>\n",
              "      <td>1.207528</td>\n",
              "      <td>1.121255</td>\n",
              "      <td>...</td>\n",
              "      <td>0.718882</td>\n",
              "      <td>0.634301</td>\n",
              "      <td>0.632911</td>\n",
              "      <td>0.595255</td>\n",
              "      <td>0.441065</td>\n",
              "      <td>0.494541</td>\n",
              "      <td>0.393700</td>\n",
              "      <td>0.325159</td>\n",
              "      <td>264.624210</td>\n",
              "      <td>0.047171</td>\n",
              "    </tr>\n",
              "    <tr>\n",
              "      <th>min</th>\n",
              "      <td>0.000000</td>\n",
              "      <td>-56.407510</td>\n",
              "      <td>-72.715728</td>\n",
              "      <td>-33.680984</td>\n",
              "      <td>-5.172595</td>\n",
              "      <td>-42.147898</td>\n",
              "      <td>-26.160506</td>\n",
              "      <td>-31.764946</td>\n",
              "      <td>-73.216718</td>\n",
              "      <td>-9.283925</td>\n",
              "      <td>...</td>\n",
              "      <td>-34.830382</td>\n",
              "      <td>-10.933144</td>\n",
              "      <td>-44.807735</td>\n",
              "      <td>-2.836627</td>\n",
              "      <td>-10.295397</td>\n",
              "      <td>-2.534330</td>\n",
              "      <td>-9.390980</td>\n",
              "      <td>-9.617915</td>\n",
              "      <td>0.000000</td>\n",
              "      <td>0.000000</td>\n",
              "    </tr>\n",
              "    <tr>\n",
              "      <th>25%</th>\n",
              "      <td>33471.500000</td>\n",
              "      <td>-1.028101</td>\n",
              "      <td>-0.598711</td>\n",
              "      <td>0.176781</td>\n",
              "      <td>-0.711442</td>\n",
              "      <td>-0.898645</td>\n",
              "      <td>-0.647870</td>\n",
              "      <td>-0.600209</td>\n",
              "      <td>-0.137457</td>\n",
              "      <td>-0.698812</td>\n",
              "      <td>...</td>\n",
              "      <td>-0.224509</td>\n",
              "      <td>-0.531305</td>\n",
              "      <td>-0.176416</td>\n",
              "      <td>-0.323712</td>\n",
              "      <td>-0.131794</td>\n",
              "      <td>-0.325102</td>\n",
              "      <td>-0.062534</td>\n",
              "      <td>-0.005355</td>\n",
              "      <td>7.570000</td>\n",
              "      <td>0.000000</td>\n",
              "    </tr>\n",
              "    <tr>\n",
              "      <th>50%</th>\n",
              "      <td>44299.000000</td>\n",
              "      <td>-0.260556</td>\n",
              "      <td>0.078315</td>\n",
              "      <td>0.753991</td>\n",
              "      <td>0.192567</td>\n",
              "      <td>-0.314370</td>\n",
              "      <td>-0.157022</td>\n",
              "      <td>-0.069107</td>\n",
              "      <td>0.074130</td>\n",
              "      <td>-0.119105</td>\n",
              "      <td>...</td>\n",
              "      <td>-0.057669</td>\n",
              "      <td>-0.083855</td>\n",
              "      <td>-0.049239</td>\n",
              "      <td>0.064999</td>\n",
              "      <td>0.170104</td>\n",
              "      <td>-0.070347</td>\n",
              "      <td>0.009832</td>\n",
              "      <td>0.023318</td>\n",
              "      <td>26.310000</td>\n",
              "      <td>0.000000</td>\n",
              "    </tr>\n",
              "    <tr>\n",
              "      <th>75%</th>\n",
              "      <td>55851.000000</td>\n",
              "      <td>1.153327</td>\n",
              "      <td>0.735736</td>\n",
              "      <td>1.376333</td>\n",
              "      <td>1.032416</td>\n",
              "      <td>0.249733</td>\n",
              "      <td>0.486356</td>\n",
              "      <td>0.414667</td>\n",
              "      <td>0.360506</td>\n",
              "      <td>0.558226</td>\n",
              "      <td>...</td>\n",
              "      <td>0.119190</td>\n",
              "      <td>0.308337</td>\n",
              "      <td>0.081522</td>\n",
              "      <td>0.406281</td>\n",
              "      <td>0.419906</td>\n",
              "      <td>0.300683</td>\n",
              "      <td>0.083025</td>\n",
              "      <td>0.076568</td>\n",
              "      <td>89.000000</td>\n",
              "      <td>0.000000</td>\n",
              "    </tr>\n",
              "    <tr>\n",
              "      <th>max</th>\n",
              "      <td>67374.000000</td>\n",
              "      <td>1.960497</td>\n",
              "      <td>18.902453</td>\n",
              "      <td>4.226108</td>\n",
              "      <td>16.715537</td>\n",
              "      <td>34.801666</td>\n",
              "      <td>22.529298</td>\n",
              "      <td>36.677268</td>\n",
              "      <td>20.007208</td>\n",
              "      <td>10.392889</td>\n",
              "      <td>...</td>\n",
              "      <td>22.614889</td>\n",
              "      <td>10.503090</td>\n",
              "      <td>19.002942</td>\n",
              "      <td>4.014444</td>\n",
              "      <td>5.541598</td>\n",
              "      <td>3.517346</td>\n",
              "      <td>12.152401</td>\n",
              "      <td>33.847808</td>\n",
              "      <td>19656.530000</td>\n",
              "      <td>1.000000</td>\n",
              "    </tr>\n",
              "  </tbody>\n",
              "</table>\n",
              "<p>8 rows × 31 columns</p>\n",
              "</div>\n",
              "      <button class=\"colab-df-convert\" onclick=\"convertToInteractive('df-54ee4128-4d62-4dda-8e6b-61127625ecd3')\"\n",
              "              title=\"Convert this dataframe to an interactive table.\"\n",
              "              style=\"display:none;\">\n",
              "        \n",
              "  <svg xmlns=\"http://www.w3.org/2000/svg\" height=\"24px\"viewBox=\"0 0 24 24\"\n",
              "       width=\"24px\">\n",
              "    <path d=\"M0 0h24v24H0V0z\" fill=\"none\"/>\n",
              "    <path d=\"M18.56 5.44l.94 2.06.94-2.06 2.06-.94-2.06-.94-.94-2.06-.94 2.06-2.06.94zm-11 1L8.5 8.5l.94-2.06 2.06-.94-2.06-.94L8.5 2.5l-.94 2.06-2.06.94zm10 10l.94 2.06.94-2.06 2.06-.94-2.06-.94-.94-2.06-.94 2.06-2.06.94z\"/><path d=\"M17.41 7.96l-1.37-1.37c-.4-.4-.92-.59-1.43-.59-.52 0-1.04.2-1.43.59L10.3 9.45l-7.72 7.72c-.78.78-.78 2.05 0 2.83L4 21.41c.39.39.9.59 1.41.59.51 0 1.02-.2 1.41-.59l7.78-7.78 2.81-2.81c.8-.78.8-2.07 0-2.86zM5.41 20L4 18.59l7.72-7.72 1.47 1.35L5.41 20z\"/>\n",
              "  </svg>\n",
              "      </button>\n",
              "      \n",
              "  <style>\n",
              "    .colab-df-container {\n",
              "      display:flex;\n",
              "      flex-wrap:wrap;\n",
              "      gap: 12px;\n",
              "    }\n",
              "\n",
              "    .colab-df-convert {\n",
              "      background-color: #E8F0FE;\n",
              "      border: none;\n",
              "      border-radius: 50%;\n",
              "      cursor: pointer;\n",
              "      display: none;\n",
              "      fill: #1967D2;\n",
              "      height: 32px;\n",
              "      padding: 0 0 0 0;\n",
              "      width: 32px;\n",
              "    }\n",
              "\n",
              "    .colab-df-convert:hover {\n",
              "      background-color: #E2EBFA;\n",
              "      box-shadow: 0px 1px 2px rgba(60, 64, 67, 0.3), 0px 1px 3px 1px rgba(60, 64, 67, 0.15);\n",
              "      fill: #174EA6;\n",
              "    }\n",
              "\n",
              "    [theme=dark] .colab-df-convert {\n",
              "      background-color: #3B4455;\n",
              "      fill: #D2E3FC;\n",
              "    }\n",
              "\n",
              "    [theme=dark] .colab-df-convert:hover {\n",
              "      background-color: #434B5C;\n",
              "      box-shadow: 0px 1px 3px 1px rgba(0, 0, 0, 0.15);\n",
              "      filter: drop-shadow(0px 1px 2px rgba(0, 0, 0, 0.3));\n",
              "      fill: #FFFFFF;\n",
              "    }\n",
              "  </style>\n",
              "\n",
              "      <script>\n",
              "        const buttonEl =\n",
              "          document.querySelector('#df-54ee4128-4d62-4dda-8e6b-61127625ecd3 button.colab-df-convert');\n",
              "        buttonEl.style.display =\n",
              "          google.colab.kernel.accessAllowed ? 'block' : 'none';\n",
              "\n",
              "        async function convertToInteractive(key) {\n",
              "          const element = document.querySelector('#df-54ee4128-4d62-4dda-8e6b-61127625ecd3');\n",
              "          const dataTable =\n",
              "            await google.colab.kernel.invokeFunction('convertToInteractive',\n",
              "                                                     [key], {});\n",
              "          if (!dataTable) return;\n",
              "\n",
              "          const docLinkHtml = 'Like what you see? Visit the ' +\n",
              "            '<a target=\"_blank\" href=https://colab.research.google.com/notebooks/data_table.ipynb>data table notebook</a>'\n",
              "            + ' to learn more about interactive tables.';\n",
              "          element.innerHTML = '';\n",
              "          dataTable['output_type'] = 'display_data';\n",
              "          await google.colab.output.renderOutput(dataTable, element);\n",
              "          const docLink = document.createElement('div');\n",
              "          docLink.innerHTML = docLinkHtml;\n",
              "          element.appendChild(docLink);\n",
              "        }\n",
              "      </script>\n",
              "    </div>\n",
              "  </div>\n",
              "  "
            ]
          },
          "metadata": {},
          "execution_count": 5
        }
      ],
      "source": [
        "data.describe()"
      ]
    },
    {
      "cell_type": "code",
      "execution_count": 6,
      "metadata": {
        "id": "W_EVyLYEPYjx",
        "colab": {
          "base_uri": "https://localhost:8080/",
          "height": 419
        },
        "outputId": "84d010ae-d64b-499d-c321-dd1a6a0a8cad"
      },
      "outputs": [
        {
          "output_type": "stream",
          "name": "stdout",
          "text": [
            "The amount of Null: 0\n"
          ]
        },
        {
          "output_type": "execute_result",
          "data": {
            "text/plain": [
              "0    99776\n",
              "1      223\n",
              "Name: Class, dtype: int64"
            ]
          },
          "metadata": {},
          "execution_count": 6
        },
        {
          "output_type": "display_data",
          "data": {
            "text/plain": [
              "<Figure size 576x360 with 1 Axes>"
            ],
            "image/png": "[encoded data removed]"
          },
          "metadata": {
            "needs_background": "light"
          }
        }
      ],
      "source": [
        "print(f'The amount of Null: {data.isnull().sum().max()}')\n",
        "plt.figure(figsize=(8,5))\n",
        "sns.countplot(x='Class', data=data)\n",
        "plt.title('Target Distribution')\n",
        "data['Class'].value_counts()\n"
      ]
    },
    {
      "cell_type": "code",
      "execution_count": 7,
      "metadata": {
        "id": "LHu1z05LPYjy",
        "colab": {
          "base_uri": "https://localhost:8080/"
        },
        "outputId": "43d625cf-bcab-4eb8-b783-f14a89a507bc"
      },
      "outputs": [
        {
          "output_type": "stream",
          "name": "stdout",
          "text": [
            "The Percent of Fraud: 0.2230022300223002 %\n",
            "The Percent of Not Fraud: 99.7769977699777 %\n"
          ]
        }
      ],
      "source": [
        "fraud_percent = len(data[data.Class ==1])/len(data)\n",
        "not_fraud_percent = len(data[data.Class ==0])/len(data)\n",
        "print(f'The Percent of Fraud: {fraud_percent*100} %')\n",
        "print(f'The Percent of Not Fraud: {not_fraud_percent*100} %')"
      ]
    },
    {
      "cell_type": "code",
      "execution_count": 8,
      "metadata": {
        "id": "dJPq_hC3PYjy",
        "colab": {
          "base_uri": "https://localhost:8080/",
          "height": 350
        },
        "outputId": "01854c7f-4e28-4cdb-b658-9f54e7385800"
      },
      "outputs": [
        {
          "output_type": "display_data",
          "data": {
            "text/plain": [
              "<Figure size 576x360 with 1 Axes>"
            ],
            "image/png": "[encoded data removed]"
          },
          "metadata": {
            "needs_background": "light"
          }
        }
      ],
      "source": [
        "df_fraud = data[data['Class'] == 1]\n",
        "plt.figure(figsize=(8,5))\n",
        "plt.scatter(df_fraud['Time'], df_fraud['Amount'], s=10)\n",
        "plt.title('The relationship of Time and Amount')\n",
        "plt.xlabel('Time')\n",
        "plt.ylabel('Amount')\n",
        "plt.show()"
      ]
    },
    {
      "cell_type": "code",
      "execution_count": 9,
      "metadata": {
        "id": "28pnVkk9PYjz",
        "colab": {
          "base_uri": "https://localhost:8080/",
          "height": 365
        },
        "outputId": "b8ede52c-08b5-4132-fe6d-43f88e6456f8"
      },
      "outputs": [
        {
          "output_type": "display_data",
          "data": {
            "text/plain": [
              "<Figure size 576x360 with 2 Axes>"
            ],
            "image/png": "[encoded data removed]"
          },
          "metadata": {
            "needs_background": "light"
          }
        }
      ],
      "source": [
        "data_corr = data.corr()\n",
        "plt.figure(figsize=(8,5))\n",
        "sns.heatmap(data_corr, cmap='viridis_r')\n",
        "plt.title('Features Correlation')\n",
        "plt.show()"
      ]
    },
    {
      "cell_type": "code",
      "execution_count": 10,
      "metadata": {
        "id": "ZlttSUhHPYjz"
      },
      "outputs": [],
      "source": [
        "def measurement(y, prediction):\n",
        "    cm = confusion_matrix(y, prediction)\n",
        "    plt.figure(figsize = (8,5))\n",
        "    sns.heatmap(cm, square=True, annot=True, cbar=False)\n",
        "    plt.xlabel('Prediction')\n",
        "    plt.ylabel('True value')\n",
        "    plt.show()\n",
        "\n",
        "    report = classification_report(y_true=y, y_pred=prediction)\n",
        "    print(report)\n",
        "\n",
        "    # ROC\n",
        "    fpr, tpr, thresholds = roc_curve(y, prediction, pos_label=1)\n",
        "    auc_roc = auc(fpr, tpr)\n",
        "    print(f'auc_roc: {auc_roc}')\n",
        "\n",
        "    plt.title('Receiver Operating Characteristic')\n",
        "    plt.plot(fpr, tpr, 'b', label = 'AUC = %0.2f' % auc_roc)\n",
        "    plt.legend(loc = 'lower right')\n",
        "    # plt.plot([0, 1], [0, 1],'r--')\n",
        "    plt.xlim([0, 1])\n",
        "    plt.ylim([0, 1])\n",
        "    plt.ylabel('True Positive Rate')\n",
        "    plt.xlabel('False Positive Rate')\n",
        "    plt.show()\n",
        "\n",
        "    # RPC\n",
        "    precision, recall, _  = precision_recall_curve(y, prediction)\n",
        "    auc_prc = auc(precision, recall)\n",
        "    print(f'auc_prc: {auc_prc}')\n",
        "\n",
        "    plt.title('Precision Recall Characteristic')\n",
        "    plt.plot(precision, recall, 'b', label = 'AUC = %0.2f' % auc_prc)\n",
        "    plt.legend(loc = 'lower right')\n",
        "    # plt.plot([1, 0], [0, 1],'r--')\n",
        "    plt.xlim([0, 1])\n",
        "    plt.ylim([0, 1])\n",
        "    plt.ylabel('Precision')\n",
        "    plt.xlabel('Recall')\n",
        "    plt.show()\n",
        "\n",
        "\n",
        "    "
      ]
    },
    {
      "cell_type": "code",
      "execution_count": 11,
      "metadata": {
        "id": "ZzZ98FzjPYj0"
      },
      "outputs": [],
      "source": [
        "scaler = StandardScaler()\n",
        "data['Amount'] = scaler.fit_transform(data['Amount'].values.reshape(-1,1))\n",
        "data['Time'] = scaler.fit_transform(data['Time'].values.reshape(-1,1))"
      ]
    },
    {
      "cell_type": "markdown",
      "metadata": {
        "id": "jRsO4Cl7PYj0"
      },
      "source": [
        "## Part 1"
      ]
    },
    {
      "cell_type": "markdown",
      "metadata": {
        "id": "Z2sLvxuHPYj1"
      },
      "source": [
        "### Training derectly without undersample"
      ]
    },
    {
      "cell_type": "code",
      "execution_count": 12,
      "metadata": {
        "id": "tC_dn2Q3PYj1"
      },
      "outputs": [],
      "source": [
        "# X_data = data.drop('Class', axis=1)\n",
        "# y_data = data['Class']\n",
        "\n",
        "X_data = data.iloc[:, 0:-1]\n",
        "y_data = data.iloc[:, -1]\n",
        "X_train, X_test, y_train, y_test= train_test_split(X_data,y_data, test_size=0.2, random_state=25)"
      ]
    },
    {
      "cell_type": "code",
      "execution_count": 13,
      "metadata": {
        "id": "xyXv5Wh0PYj2",
        "colab": {
          "base_uri": "https://localhost:8080/"
        },
        "outputId": "bb68cad8-6ce5-4c50-a23c-90842c6811b9"
      },
      "outputs": [
        {
          "output_type": "stream",
          "name": "stdout",
          "text": [
            "\n",
            "--Training data samples--\n",
            "(79999, 30)\n"
          ]
        }
      ],
      "source": [
        "print(\"\\n--Training data samples--\")\n",
        "print(X_train.shape)"
      ]
    },
    {
      "cell_type": "markdown",
      "metadata": {
        "id": "7Sl4sbpgPYj2"
      },
      "source": [
        "#### Logistic regression"
      ]
    },
    {
      "cell_type": "code",
      "execution_count": 14,
      "metadata": {
        "id": "0uTps5rWPYj2",
        "colab": {
          "base_uri": "https://localhost:8080/",
          "height": 1000
        },
        "outputId": "f2f0fc43-d573-4eed-ea5e-527e928e446a"
      },
      "outputs": [
        {
          "output_type": "stream",
          "name": "stderr",
          "text": [
            "/usr/local/lib/python3.7/dist-packages/sklearn/linear_model/_logistic.py:818: ConvergenceWarning: lbfgs failed to converge (status=1):\n",
            "STOP: TOTAL NO. of ITERATIONS REACHED LIMIT.\n",
            "\n",
            "Increase the number of iterations (max_iter) or scale the data as shown in:\n",
            "    https://scikit-learn.org/stable/modules/preprocessing.html\n",
            "Please also refer to the documentation for alternative solver options:\n",
            "    https://scikit-learn.org/stable/modules/linear_model.html#logistic-regression\n",
            "  extra_warning_msg=_LOGISTIC_SOLVER_CONVERGENCE_MSG,\n"
          ]
        },
        {
          "output_type": "display_data",
          "data": {
            "text/plain": [
              "<Figure size 576x360 with 1 Axes>"
            ],
            "image/png": "[encoded data removed]"
          },
          "metadata": {
            "needs_background": "light"
          }
        },
        {
          "output_type": "stream",
          "name": "stdout",
          "text": [
            "              precision    recall  f1-score   support\n",
            "\n",
            "           0       1.00      1.00      1.00     19949\n",
            "           1       0.80      0.65      0.72        51\n",
            "\n",
            "    accuracy                           1.00     20000\n",
            "   macro avg       0.90      0.82      0.86     20000\n",
            "weighted avg       1.00      1.00      1.00     20000\n",
            "\n",
            "auc_roc: 0.823328900460881\n"
          ]
        },
        {
          "output_type": "display_data",
          "data": {
            "text/plain": [
              "<Figure size 432x288 with 1 Axes>"
            ],
            "image/png": "[encoded data removed]"
          },
          "metadata": {
            "needs_background": "light"
          }
        },
        {
          "output_type": "stream",
          "name": "stdout",
          "text": [
            "auc_prc: 0.7238684361549498\n"
          ]
        },
        {
          "output_type": "display_data",
          "data": {
            "text/plain": [
              "<Figure size 432x288 with 1 Axes>"
            ],
            "image/png": "[encoded data removed]"
          },
          "metadata": {
            "needs_background": "light"
          }
        }
      ],
      "source": [
        "lr_classifier = LogisticRegression()\n",
        "lr_classifier.fit(X_train, y_train)\n",
        "lr_prediction = lr_classifier.predict(X_test)\n",
        "measurement(y_test, lr_prediction)"
      ]
    },
    {
      "cell_type": "markdown",
      "metadata": {
        "id": "QCzQCkZqPYj2"
      },
      "source": [
        "#### Support Vector Machine"
      ]
    },
    {
      "cell_type": "code",
      "execution_count": 15,
      "metadata": {
        "id": "DxBxeOgiPYj3",
        "colab": {
          "base_uri": "https://localhost:8080/",
          "height": 1000
        },
        "outputId": "acbf617a-8cb0-4f8a-c1f3-229991d95383"
      },
      "outputs": [
        {
          "output_type": "display_data",
          "data": {
            "text/plain": [
              "<Figure size 576x360 with 1 Axes>"
            ],
            "image/png": "[encoded data removed]"
          },
          "metadata": {
            "needs_background": "light"
          }
        },
        {
          "output_type": "stream",
          "name": "stdout",
          "text": [
            "              precision    recall  f1-score   support\n",
            "\n",
            "           0       1.00      1.00      1.00     19949\n",
            "           1       0.83      0.78      0.81        51\n",
            "\n",
            "    accuracy                           1.00     20000\n",
            "   macro avg       0.92      0.89      0.90     20000\n",
            "weighted avg       1.00      1.00      1.00     20000\n",
            "\n",
            "auc_roc: 0.8919563514412732\n"
          ]
        },
        {
          "output_type": "display_data",
          "data": {
            "text/plain": [
              "<Figure size 432x288 with 1 Axes>"
            ],
            "image/png": "[encoded data removed]"
          },
          "metadata": {
            "needs_background": "light"
          }
        },
        {
          "output_type": "stream",
          "name": "stdout",
          "text": [
            "auc_prc: 0.8065485294117646\n"
          ]
        },
        {
          "output_type": "display_data",
          "data": {
            "text/plain": [
              "<Figure size 432x288 with 1 Axes>"
            ],
            "image/png": "[encoded data removed]"
          },
          "metadata": {
            "needs_background": "light"
          }
        }
      ],
      "source": [
        "SVC_classifier = SVC(kernel='linear')\n",
        "SVC_classifier.fit(X_train, y_train)\n",
        "svm_prediction = SVC_classifier.predict(X_test)\n",
        "measurement(y_test, svm_prediction)"
      ]
    },
    {
      "cell_type": "markdown",
      "metadata": {
        "id": "sTUnL8Q_PYj3"
      },
      "source": [
        "#### Random Forest"
      ]
    },
    {
      "cell_type": "code",
      "execution_count": 16,
      "metadata": {
        "id": "s1azNvZDPYj3",
        "colab": {
          "base_uri": "https://localhost:8080/",
          "height": 1000
        },
        "outputId": "af91131c-ef68-43ec-a6f7-4307b2567a29"
      },
      "outputs": [
        {
          "output_type": "display_data",
          "data": {
            "text/plain": [
              "<Figure size 576x360 with 1 Axes>"
            ],
            "image/png": "[encoded data removed]"
          },
          "metadata": {
            "needs_background": "light"
          }
        },
        {
          "output_type": "stream",
          "name": "stdout",
          "text": [
            "              precision    recall  f1-score   support\n",
            "\n",
            "           0       1.00      1.00      1.00     19949\n",
            "           1       0.96      0.84      0.90        51\n",
            "\n",
            "    accuracy                           1.00     20000\n",
            "   macro avg       0.98      0.92      0.95     20000\n",
            "weighted avg       1.00      1.00      1.00     20000\n",
            "\n",
            "auc_roc: 0.9215184996250243\n"
          ]
        },
        {
          "output_type": "display_data",
          "data": {
            "text/plain": [
              "<Figure size 432x288 with 1 Axes>"
            ],
            "image/png": "[encoded data removed]"
          },
          "metadata": {
            "needs_background": "light"
          }
        },
        {
          "output_type": "stream",
          "name": "stdout",
          "text": [
            "auc_prc: 0.8969964052287582\n"
          ]
        },
        {
          "output_type": "display_data",
          "data": {
            "text/plain": [
              "<Figure size 432x288 with 1 Axes>"
            ],
            "image/png": "[encoded data removed]"
          },
          "metadata": {
            "needs_background": "light"
          }
        }
      ],
      "source": [
        "rf_classifier = RandomForestClassifier()\n",
        "rf_classifier.fit(X_train, y_train)\n",
        "rf_prediction = rf_classifier.predict(X_test)\n",
        "measurement(y_test, rf_prediction)"
      ]
    },
    {
      "cell_type": "markdown",
      "metadata": {
        "id": "YCLm1JLWPYj3"
      },
      "source": [
        "## Part2"
      ]
    },
    {
      "cell_type": "markdown",
      "metadata": {
        "id": "vuycc9dkPYj4"
      },
      "source": [
        "### Undersample"
      ]
    },
    {
      "cell_type": "code",
      "execution_count": 17,
      "metadata": {
        "id": "yb15kEVQPYj4"
      },
      "outputs": [],
      "source": [
        "number_fraud = len(data[data.Class==1])\n",
        "fraud_indices = np.array(data[data.Class==1].index)\n",
        "normal_indices = np.array(data[data.Class==0].index)\n",
        "\n",
        "random_normal_indices = np.random.choice(normal_indices, number_fraud, replace = False)\n",
        "under_sample_indices = np.concatenate([fraud_indices, random_normal_indices])\n",
        "under_sample_data = data.iloc[under_sample_indices,:]\n",
        "X_under_sample_data = under_sample_data.drop('Class', axis=1)\n",
        "y_under_sample_data = under_sample_data['Class']\n"
      ]
    },
    {
      "cell_type": "markdown",
      "metadata": {
        "id": "vTyoPYv9PYj4"
      },
      "source": [
        "### Splitting training and testing data."
      ]
    },
    {
      "cell_type": "code",
      "execution_count": 18,
      "metadata": {
        "id": "5DR5ycbvPYj4"
      },
      "outputs": [],
      "source": [
        "X_train_undersample, X_test_undersample, y_train_undersample, y_test_undersample = train_test_split(X_under_sample_data,y_under_sample_data, test_size=0.2, random_state=25)"
      ]
    },
    {
      "cell_type": "code",
      "execution_count": 19,
      "metadata": {
        "id": "sYUogOjpPYj4",
        "colab": {
          "base_uri": "https://localhost:8080/",
          "height": 365
        },
        "outputId": "65e2165c-3a5a-425f-9d6d-3cd891543d7d"
      },
      "outputs": [
        {
          "output_type": "display_data",
          "data": {
            "text/plain": [
              "<Figure size 576x360 with 2 Axes>"
            ],
            "image/png": "[encoded data removed]"
          },
          "metadata": {
            "needs_background": "light"
          }
        }
      ],
      "source": [
        "under_sample_data_corr = under_sample_data.corr()\n",
        "plt.figure(figsize=(8,5))\n",
        "sns.heatmap(under_sample_data_corr , cmap='viridis_r')\n",
        "plt.title('Features Correlation After Undersampling')\n",
        "plt.show()"
      ]
    },
    {
      "cell_type": "markdown",
      "metadata": {
        "id": "AbMJ_BRlPYj5"
      },
      "source": [
        "#### Logistic regression"
      ]
    },
    {
      "cell_type": "code",
      "execution_count": 20,
      "metadata": {
        "id": "Y-V1PjYDPYj5",
        "colab": {
          "base_uri": "https://localhost:8080/",
          "height": 1000
        },
        "outputId": "ec0136c2-40fb-44af-c447-13bbe69d75f7"
      },
      "outputs": [
        {
          "output_type": "display_data",
          "data": {
            "text/plain": [
              "<Figure size 576x360 with 1 Axes>"
            ],
            "image/png": "[encoded data removed]"
          },
          "metadata": {
            "needs_background": "light"
          }
        },
        {
          "output_type": "stream",
          "name": "stdout",
          "text": [
            "              precision    recall  f1-score   support\n",
            "\n",
            "           0       0.93      1.00      0.96        50\n",
            "           1       1.00      0.90      0.95        40\n",
            "\n",
            "    accuracy                           0.96        90\n",
            "   macro avg       0.96      0.95      0.95        90\n",
            "weighted avg       0.96      0.96      0.96        90\n",
            "\n",
            "auc_roc: 0.95\n"
          ]
        },
        {
          "output_type": "display_data",
          "data": {
            "text/plain": [
              "<Figure size 432x288 with 1 Axes>"
            ],
            "image/png": "[encoded data removed]"
          },
          "metadata": {
            "needs_background": "light"
          }
        },
        {
          "output_type": "stream",
          "name": "stdout",
          "text": [
            "auc_prc: 0.5277777777777778\n"
          ]
        },
        {
          "output_type": "display_data",
          "data": {
            "text/plain": [
              "<Figure size 432x288 with 1 Axes>"
            ],
            "image/png": "[encoded data removed]"
          },
          "metadata": {
            "needs_background": "light"
          }
        }
      ],
      "source": [
        "lr_classifier_undersample = LogisticRegression()\n",
        "lr_classifier_undersample.fit(X_train_undersample, y_train_undersample)\n",
        "lr_prediction_undersample = lr_classifier_undersample.predict(X_test_undersample)\n",
        "measurement(y_test_undersample, lr_prediction_undersample)"
      ]
    },
    {
      "cell_type": "markdown",
      "metadata": {
        "id": "CcBJRtZWPYj5"
      },
      "source": [
        "#### Support Vector Machine"
      ]
    },
    {
      "cell_type": "code",
      "execution_count": 21,
      "metadata": {
        "id": "qCMk7_gUPYj5",
        "colab": {
          "base_uri": "https://localhost:8080/",
          "height": 1000
        },
        "outputId": "ba0c3daa-9724-48c7-a9ec-3fe0e7cc097e"
      },
      "outputs": [
        {
          "output_type": "display_data",
          "data": {
            "text/plain": [
              "<Figure size 576x360 with 1 Axes>"
            ],
            "image/png": "[encoded data removed]"
          },
          "metadata": {
            "needs_background": "light"
          }
        },
        {
          "output_type": "stream",
          "name": "stdout",
          "text": [
            "              precision    recall  f1-score   support\n",
            "\n",
            "           0       0.93      1.00      0.96        50\n",
            "           1       1.00      0.90      0.95        40\n",
            "\n",
            "    accuracy                           0.96        90\n",
            "   macro avg       0.96      0.95      0.95        90\n",
            "weighted avg       0.96      0.96      0.96        90\n",
            "\n",
            "auc_roc: 0.95\n"
          ]
        },
        {
          "output_type": "display_data",
          "data": {
            "text/plain": [
              "<Figure size 432x288 with 1 Axes>"
            ],
            "image/png": "[encoded data removed]"
          },
          "metadata": {
            "needs_background": "light"
          }
        },
        {
          "output_type": "stream",
          "name": "stdout",
          "text": [
            "auc_prc: 0.5277777777777778\n"
          ]
        },
        {
          "output_type": "display_data",
          "data": {
            "text/plain": [
              "<Figure size 432x288 with 1 Axes>"
            ],
            "image/png": "[encoded data removed]"
          },
          "metadata": {
            "needs_background": "light"
          }
        }
      ],
      "source": [
        "SVC_classifier_undersample = SVC(kernel='linear')\n",
        "SVC_classifier_undersample.fit(X_train_undersample, y_train_undersample)\n",
        "svm_prediction_undersample = SVC_classifier_undersample.predict(X_test_undersample)\n",
        "measurement(y_test_undersample, svm_prediction_undersample)\n"
      ]
    },
    {
      "cell_type": "markdown",
      "metadata": {
        "id": "lO1kTCojPYj5"
      },
      "source": [
        "#### Random Forest"
      ]
    },
    {
      "cell_type": "code",
      "execution_count": 22,
      "metadata": {
        "id": "v5cByWM-PYj5",
        "colab": {
          "base_uri": "https://localhost:8080/",
          "height": 1000
        },
        "outputId": "6495ef54-3a92-41ac-f496-0e86b08751a4"
      },
      "outputs": [
        {
          "output_type": "display_data",
          "data": {
            "text/plain": [
              "<Figure size 576x360 with 1 Axes>"
            ],
            "image/png": "[encoded data removed]"
          },
          "metadata": {
            "needs_background": "light"
          }
        },
        {
          "output_type": "stream",
          "name": "stdout",
          "text": [
            "              precision    recall  f1-score   support\n",
            "\n",
            "           0       0.91      1.00      0.95        50\n",
            "           1       1.00      0.88      0.93        40\n",
            "\n",
            "    accuracy                           0.94        90\n",
            "   macro avg       0.95      0.94      0.94        90\n",
            "weighted avg       0.95      0.94      0.94        90\n",
            "\n",
            "auc_roc: 0.9375\n"
          ]
        },
        {
          "output_type": "display_data",
          "data": {
            "text/plain": [
              "<Figure size 432x288 with 1 Axes>"
            ],
            "image/png": "[encoded data removed]"
          },
          "metadata": {
            "needs_background": "light"
          }
        },
        {
          "output_type": "stream",
          "name": "stdout",
          "text": [
            "auc_prc: 0.5208333333333334\n"
          ]
        },
        {
          "output_type": "display_data",
          "data": {
            "text/plain": [
              "<Figure size 432x288 with 1 Axes>"
            ],
            "image/png": "[encoded data removed]"
          },
          "metadata": {
            "needs_background": "light"
          }
        }
      ],
      "source": [
        "rf_classifier_undersample = RandomForestClassifier()\n",
        "rf_classifier_undersample.fit(X_train_undersample, y_train_undersample)\n",
        "rf_prediction_undersample = rf_classifier_undersample.predict(X_test_undersample)\n",
        "measurement(y_test_undersample, rf_prediction_undersample)"
      ]
    },
    {
      "cell_type": "markdown",
      "metadata": {
        "id": "yWX-JyH3PYj6"
      },
      "source": [
        "### Deep Neural Network (DNN)"
      ]
    },
    {
      "cell_type": "code",
      "execution_count": 23,
      "metadata": {
        "id": "GgsWPBTEPYj6"
      },
      "outputs": [],
      "source": [
        "class FraudNet(nn.Module):\n",
        "    def __init__(self, input_size=30, output_size=1):\n",
        "        super().__init__()\n",
        "        self.fc1 = nn.Linear(input_size, 64)\n",
        "        self.fc2 = nn.Linear(64, 32)\n",
        "        self.fc3 = nn.Linear(32, 16)\n",
        "        self.fc4 = nn.Linear(16, 8)\n",
        "        self.fc5 = nn.Linear(8, output_size)\n",
        "    def forward(self, x):\n",
        "        x = F.relu(self.fc1(x))\n",
        "        x = F.relu(self.fc2(x))\n",
        "        x = F.dropout(x, p=0.25)\n",
        "        x = F.relu(self.fc3(x))\n",
        "        x = F.relu(self.fc4(x))\n",
        "        x = F.sigmoid(self.fc5(x))\n",
        "\n",
        "        return x\n",
        "\n",
        "model = FraudNet()\n",
        "model = model.to(device)\n"
      ]
    },
    {
      "cell_type": "code",
      "execution_count": 24,
      "metadata": {
        "id": "pEZk4pNfPYj6"
      },
      "outputs": [],
      "source": [
        "\n",
        "# Part 1\n",
        "# X_train_np = X_train.to_numpy()\n",
        "# X_test_np = X_test.to_numpy()\n",
        "\n",
        "# X_tensor =  torch.from_numpy(X_train_np).float()\n",
        "# y_tensor =  torch.from_numpy(y_train.values.ravel()).float()\n",
        "# X_test_tensor =  torch.from_numpy(X_test_np).float()\n",
        "# y_test_tensor =  torch.from_numpy(y_test.values.ravel()).float()\n",
        "\n",
        "\n",
        "# Part 2\n",
        "X_train_np = X_train_undersample.to_numpy()\n",
        "X_test_np = X_test_undersample.to_numpy()\n",
        "\n",
        "X_tensor =  torch.from_numpy(X_train_np).float()\n",
        "y_tensor =  torch.from_numpy(y_train_undersample.values.ravel()).float()\n",
        "X_test_tensor =  torch.from_numpy(X_test_np).float()\n",
        "y_test_tensor =  torch.from_numpy(y_test_undersample.values.ravel()).float()\n"
      ]
    },
    {
      "cell_type": "code",
      "execution_count": 25,
      "metadata": {
        "id": "7_rAPe9FPYj6"
      },
      "outputs": [],
      "source": [
        "#Define a batch size\n",
        "bs = 64\n",
        "#Both x_train and y_train can be combined in a single TensorDataset, which will be easier to iterate over and slice\n",
        "y_tensor = y_tensor.unsqueeze(1)\n",
        "train_ds = TensorDataset(X_tensor, y_tensor)\n",
        "#Pytorch’s DataLoader is responsible for managing batches. \n",
        "#You can create a DataLoader from any Dataset. DataLoader makes it easier to iterate over batches\n",
        "train_dl = DataLoader(train_ds, batch_size=bs)\n",
        "\n",
        "\n",
        "#For the validation/test dataset\n",
        "y_test_tensor = y_test_tensor.unsqueeze(1)\n",
        "test_ds = TensorDataset(X_test_tensor, y_test_tensor)\n",
        "test_loader = DataLoader(test_ds, batch_size=32)"
      ]
    },
    {
      "cell_type": "code",
      "execution_count": 26,
      "metadata": {
        "id": "7v2Gks0kPYj6"
      },
      "outputs": [],
      "source": [
        "#Loss Computation\n",
        "loss_func = nn.BCELoss()\n",
        "#Optimizer\n",
        "learning_rate = 0.001\n",
        "optimizer = torch.optim.Adam(model.parameters(), lr=learning_rate)\n",
        "scheduler = optim.lr_scheduler.CosineAnnealingWarmRestarts(optimizer, T_0=10)\n",
        "epochs = 500\n",
        "\n"
      ]
    },
    {
      "cell_type": "code",
      "execution_count": 27,
      "metadata": {
        "id": "-TpTRGipPYj7"
      },
      "outputs": [],
      "source": [
        "train_loss = []\n",
        "train_acc = []\n",
        "test_loss = []\n",
        "test_acc = []\n",
        "best_acc = 0"
      ]
    },
    {
      "cell_type": "code",
      "execution_count": 30,
      "metadata": {
        "id": "jONUy3I6PYj7",
        "colab": {
          "base_uri": "https://localhost:8080/"
        },
        "outputId": "5cfa7cda-aee1-4a94-941b-9fd4cb98e0b9"
      },
      "outputs": [
        {
          "output_type": "stream",
          "name": "stdout",
          "text": [
            "Training Loss in iteration 0 is: 0.5501917600631714\n",
            "Testing Loss in iteration 0 is: 0.5751540660858154\n",
            "Training Loss in iteration 1 is: 0.5477167963981628\n",
            "Testing Loss in iteration 1 is: 0.5330407023429871\n",
            "Training Loss in iteration 2 is: 0.48806795477867126\n",
            "Testing Loss in iteration 2 is: 0.5101766586303711\n",
            "Training Loss in iteration 3 is: 0.44459035992622375\n",
            "Testing Loss in iteration 3 is: 0.47071731090545654\n",
            "Training Loss in iteration 4 is: 0.4303782880306244\n",
            "Testing Loss in iteration 4 is: 0.46022918820381165\n",
            "Training Loss in iteration 5 is: 0.4167819619178772\n",
            "Testing Loss in iteration 5 is: 0.4412515163421631\n",
            "Training Loss in iteration 6 is: 0.3987310826778412\n",
            "Testing Loss in iteration 6 is: 0.41890233755111694\n",
            "Training Loss in iteration 7 is: 0.3842256963253021\n",
            "Testing Loss in iteration 7 is: 0.41127392649650574\n",
            "Training Loss in iteration 8 is: 0.36967766284942627\n",
            "Testing Loss in iteration 8 is: 0.39423251152038574\n",
            "Training Loss in iteration 9 is: 0.3676353991031647\n",
            "Testing Loss in iteration 9 is: 0.3782900869846344\n",
            "Training Loss in iteration 10 is: 0.3503464460372925\n",
            "Testing Loss in iteration 10 is: 0.36614271998405457\n",
            "Training Loss in iteration 11 is: 0.33993852138519287\n",
            "Testing Loss in iteration 11 is: 0.35322579741477966\n",
            "Training Loss in iteration 12 is: 0.3398558795452118\n",
            "Testing Loss in iteration 12 is: 0.34738990664482117\n",
            "Training Loss in iteration 13 is: 0.31363824009895325\n",
            "Testing Loss in iteration 13 is: 0.3257708251476288\n",
            "Training Loss in iteration 14 is: 0.29738056659698486\n",
            "Testing Loss in iteration 14 is: 0.3127259612083435\n",
            "Training Loss in iteration 15 is: 0.3022955358028412\n",
            "Testing Loss in iteration 15 is: 0.3085918128490448\n",
            "Training Loss in iteration 16 is: 0.27964240312576294\n",
            "Testing Loss in iteration 16 is: 0.2712347209453583\n",
            "Training Loss in iteration 17 is: 0.26364660263061523\n",
            "Testing Loss in iteration 17 is: 0.2671390473842621\n",
            "Training Loss in iteration 18 is: 0.24302370846271515\n",
            "Testing Loss in iteration 18 is: 0.2326684445142746\n",
            "Training Loss in iteration 19 is: 0.22925005853176117\n",
            "Testing Loss in iteration 19 is: 0.218754842877388\n",
            "Training Loss in iteration 20 is: 0.21442538499832153\n",
            "Testing Loss in iteration 20 is: 0.2016972154378891\n",
            "Training Loss in iteration 21 is: 0.1984691023826599\n",
            "Testing Loss in iteration 21 is: 0.16756105422973633\n",
            "Training Loss in iteration 22 is: 0.16868048906326294\n",
            "Testing Loss in iteration 22 is: 0.1708119958639145\n",
            "Training Loss in iteration 23 is: 0.15283042192459106\n",
            "Testing Loss in iteration 23 is: 0.1310596764087677\n",
            "Training Loss in iteration 24 is: 0.13965368270874023\n",
            "Testing Loss in iteration 24 is: 0.1286432296037674\n",
            "Training Loss in iteration 25 is: 0.1235094889998436\n",
            "Testing Loss in iteration 25 is: 0.11443939805030823\n",
            "Training Loss in iteration 26 is: 0.11514279991388321\n",
            "Testing Loss in iteration 26 is: 0.0991986021399498\n",
            "Training Loss in iteration 27 is: 0.09817031025886536\n",
            "Testing Loss in iteration 27 is: 0.09035336226224899\n",
            "Training Loss in iteration 28 is: 0.07846137136220932\n",
            "Testing Loss in iteration 28 is: 0.07257793098688126\n",
            "Training Loss in iteration 29 is: 0.08877172321081161\n",
            "Testing Loss in iteration 29 is: 0.0780242457985878\n",
            "Training Loss in iteration 30 is: 0.08302238583564758\n",
            "Testing Loss in iteration 30 is: 0.06587516516447067\n",
            "Training Loss in iteration 31 is: 0.06889477372169495\n",
            "Testing Loss in iteration 31 is: 0.0581681951880455\n",
            "Training Loss in iteration 32 is: 0.0680403858423233\n",
            "Testing Loss in iteration 32 is: 0.07358822971582413\n",
            "Training Loss in iteration 33 is: 0.06412084400653839\n",
            "Testing Loss in iteration 33 is: 0.04916022717952728\n",
            "Training Loss in iteration 34 is: 0.055155493319034576\n",
            "Testing Loss in iteration 34 is: 0.04446505755186081\n",
            "Training Loss in iteration 35 is: 0.04767674207687378\n",
            "Testing Loss in iteration 35 is: 0.043365802615880966\n",
            "Training Loss in iteration 36 is: 0.039257775992155075\n",
            "Testing Loss in iteration 36 is: 0.04533039778470993\n",
            "Training Loss in iteration 37 is: 0.04009862244129181\n",
            "Testing Loss in iteration 37 is: 0.044462308287620544\n",
            "Training Loss in iteration 38 is: 0.05016518384218216\n",
            "Testing Loss in iteration 38 is: 0.031057851389050484\n",
            "Training Loss in iteration 39 is: 0.04943033307790756\n",
            "Testing Loss in iteration 39 is: 0.03375827148556709\n",
            "Training Loss in iteration 40 is: 0.0387076810002327\n",
            "Testing Loss in iteration 40 is: 0.032652534544467926\n",
            "Training Loss in iteration 41 is: 0.035497572273015976\n",
            "Testing Loss in iteration 41 is: 0.03715043142437935\n",
            "Training Loss in iteration 42 is: 0.03276880085468292\n",
            "Testing Loss in iteration 42 is: 0.038877423852682114\n",
            "Training Loss in iteration 43 is: 0.03417450934648514\n",
            "Testing Loss in iteration 43 is: 0.030957065522670746\n",
            "Training Loss in iteration 44 is: 0.04137785732746124\n",
            "Testing Loss in iteration 44 is: 0.036237847059965134\n",
            "Training Loss in iteration 45 is: 0.029897574335336685\n",
            "Testing Loss in iteration 45 is: 0.04046740010380745\n",
            "Training Loss in iteration 46 is: 0.030618859454989433\n",
            "Testing Loss in iteration 46 is: 0.04595150053501129\n",
            "Training Loss in iteration 47 is: 0.02448946237564087\n",
            "Testing Loss in iteration 47 is: 0.04474285617470741\n",
            "Training Loss in iteration 48 is: 0.03161844611167908\n",
            "Testing Loss in iteration 48 is: 0.0489925742149353\n",
            "Training Loss in iteration 49 is: 0.029367391020059586\n",
            "Testing Loss in iteration 49 is: 0.02940095216035843\n",
            "Training Loss in iteration 50 is: 0.022985778748989105\n",
            "Testing Loss in iteration 50 is: 0.02601730264723301\n",
            "Training Loss in iteration 51 is: 0.023460648953914642\n",
            "Testing Loss in iteration 51 is: 0.02897188812494278\n",
            "Training Loss in iteration 52 is: 0.02410287596285343\n",
            "Testing Loss in iteration 52 is: 0.02697286754846573\n",
            "Training Loss in iteration 53 is: 0.02749224565923214\n",
            "Testing Loss in iteration 53 is: 0.03461762145161629\n",
            "Training Loss in iteration 54 is: 0.026724833995103836\n",
            "Testing Loss in iteration 54 is: 0.021802175790071487\n",
            "Training Loss in iteration 55 is: 0.027498165145516396\n",
            "Testing Loss in iteration 55 is: 0.02559366449713707\n",
            "Training Loss in iteration 56 is: 0.024247445166110992\n",
            "Testing Loss in iteration 56 is: 0.024517115205526352\n",
            "Training Loss in iteration 57 is: 0.02744494192302227\n",
            "Testing Loss in iteration 57 is: 0.023310795426368713\n",
            "Training Loss in iteration 58 is: 0.025983711704611778\n",
            "Testing Loss in iteration 58 is: 0.019829588010907173\n",
            "Training Loss in iteration 59 is: 0.02058224566280842\n",
            "Testing Loss in iteration 59 is: 0.05606580525636673\n",
            "Training Loss in iteration 60 is: 0.018788764253258705\n",
            "Testing Loss in iteration 60 is: 0.02647259272634983\n",
            "Training Loss in iteration 61 is: 0.016354501247406006\n",
            "Testing Loss in iteration 61 is: 0.027098344638943672\n",
            "Training Loss in iteration 62 is: 0.018989315256476402\n",
            "Testing Loss in iteration 62 is: 0.01836305484175682\n",
            "Training Loss in iteration 63 is: 0.01715538464486599\n",
            "Testing Loss in iteration 63 is: 0.037744563072919846\n",
            "Training Loss in iteration 64 is: 0.02334490790963173\n",
            "Testing Loss in iteration 64 is: 0.019740447402000427\n",
            "Training Loss in iteration 65 is: 0.015146894380450249\n",
            "Testing Loss in iteration 65 is: 0.024714753031730652\n",
            "Training Loss in iteration 66 is: 0.014685455709695816\n",
            "Testing Loss in iteration 66 is: 0.018184224143624306\n",
            "Training Loss in iteration 67 is: 0.009116082452237606\n",
            "Testing Loss in iteration 67 is: 0.019324101507663727\n",
            "Training Loss in iteration 68 is: 0.018619580194354057\n",
            "Testing Loss in iteration 68 is: 0.042771413922309875\n",
            "Training Loss in iteration 69 is: 0.012030993588268757\n",
            "Testing Loss in iteration 69 is: 0.03129439428448677\n",
            "Training Loss in iteration 70 is: 0.014486272819340229\n",
            "Testing Loss in iteration 70 is: 0.02080279216170311\n",
            "Training Loss in iteration 71 is: 0.008693360723555088\n",
            "Testing Loss in iteration 71 is: 0.022853493690490723\n",
            "Training Loss in iteration 72 is: 0.012518935836851597\n",
            "Testing Loss in iteration 72 is: 0.013706251047551632\n",
            "Training Loss in iteration 73 is: 0.00933334231376648\n",
            "Testing Loss in iteration 73 is: 0.01777653768658638\n",
            "Training Loss in iteration 74 is: 0.009992740117013454\n",
            "Testing Loss in iteration 74 is: 0.017953166738152504\n",
            "Training Loss in iteration 75 is: 0.012854238040745258\n",
            "Testing Loss in iteration 75 is: 0.01826631836593151\n",
            "Training Loss in iteration 76 is: 0.009811069816350937\n",
            "Testing Loss in iteration 76 is: 0.014875388704240322\n",
            "Training Loss in iteration 77 is: 0.011261184699833393\n",
            "Testing Loss in iteration 77 is: 0.022253628820180893\n",
            "Training Loss in iteration 78 is: 0.0069270809181034565\n",
            "Testing Loss in iteration 78 is: 0.014460226520895958\n",
            "Training Loss in iteration 79 is: 0.009216693229973316\n",
            "Testing Loss in iteration 79 is: 0.01925448514521122\n",
            "Training Loss in iteration 80 is: 0.005905653815716505\n",
            "Testing Loss in iteration 80 is: 0.01581583358347416\n",
            "Training Loss in iteration 81 is: 0.009940975345671177\n",
            "Testing Loss in iteration 81 is: 0.03393721580505371\n",
            "Training Loss in iteration 82 is: 0.018525505438447\n",
            "Testing Loss in iteration 82 is: 0.00970406737178564\n",
            "Training Loss in iteration 83 is: 0.007715030573308468\n",
            "Testing Loss in iteration 83 is: 0.010341999121010303\n",
            "Training Loss in iteration 84 is: 0.010450707748532295\n",
            "Testing Loss in iteration 84 is: 0.021907029673457146\n",
            "Training Loss in iteration 85 is: 0.00861533172428608\n",
            "Testing Loss in iteration 85 is: 0.014922579750418663\n",
            "Training Loss in iteration 86 is: 0.005864433012902737\n",
            "Testing Loss in iteration 86 is: 0.012565337121486664\n",
            "Training Loss in iteration 87 is: 0.005841118283569813\n",
            "Testing Loss in iteration 87 is: 0.02190561778843403\n",
            "Training Loss in iteration 88 is: 0.004668018314987421\n",
            "Testing Loss in iteration 88 is: 0.0113597447052598\n",
            "Training Loss in iteration 89 is: 0.004030513111501932\n",
            "Testing Loss in iteration 89 is: 0.01668083295226097\n",
            "Training Loss in iteration 90 is: 0.0056509640999138355\n",
            "Testing Loss in iteration 90 is: 0.008013962768018246\n",
            "Training Loss in iteration 91 is: 0.007604309357702732\n",
            "Testing Loss in iteration 91 is: 0.014365937560796738\n",
            "Training Loss in iteration 92 is: 0.005006063263863325\n",
            "Testing Loss in iteration 92 is: 0.02689676731824875\n",
            "Training Loss in iteration 93 is: 0.00470380112528801\n",
            "Testing Loss in iteration 93 is: 0.01732756197452545\n",
            "Training Loss in iteration 94 is: 0.003262924263253808\n",
            "Testing Loss in iteration 94 is: 0.01730271615087986\n",
            "Training Loss in iteration 95 is: 0.004298087675124407\n",
            "Testing Loss in iteration 95 is: 0.02760780043900013\n",
            "Training Loss in iteration 96 is: 0.004905656445771456\n",
            "Testing Loss in iteration 96 is: 0.01188516616821289\n",
            "Training Loss in iteration 97 is: 0.004152671899646521\n",
            "Testing Loss in iteration 97 is: 0.00893386360257864\n",
            "Training Loss in iteration 98 is: 0.006728144828230143\n",
            "Testing Loss in iteration 98 is: 0.024915233254432678\n",
            "Training Loss in iteration 99 is: 0.003720178036019206\n",
            "Testing Loss in iteration 99 is: 0.014154447242617607\n",
            "Training Loss in iteration 100 is: 0.005728485062718391\n",
            "Testing Loss in iteration 100 is: 0.010097775608301163\n",
            "Training Loss in iteration 101 is: 0.005285707302391529\n",
            "Testing Loss in iteration 101 is: 0.05456405133008957\n",
            "Training Loss in iteration 102 is: 0.005906542297452688\n",
            "Testing Loss in iteration 102 is: 0.034464750438928604\n",
            "Training Loss in iteration 103 is: 0.0057299756444990635\n",
            "Testing Loss in iteration 103 is: 0.012453668750822544\n",
            "Training Loss in iteration 104 is: 0.003990770783275366\n",
            "Testing Loss in iteration 104 is: 0.009627453982830048\n",
            "Training Loss in iteration 105 is: 0.002364733489230275\n",
            "Testing Loss in iteration 105 is: 0.010190476663410664\n",
            "Training Loss in iteration 106 is: 0.00494007533416152\n",
            "Testing Loss in iteration 106 is: 0.03305840492248535\n",
            "Training Loss in iteration 107 is: 0.0043883854523301125\n",
            "Testing Loss in iteration 107 is: 0.012218785472214222\n",
            "Training Loss in iteration 108 is: 0.0036590853706002235\n",
            "Testing Loss in iteration 108 is: 0.00855030957609415\n",
            "Training Loss in iteration 109 is: 0.007216105703264475\n",
            "Testing Loss in iteration 109 is: 0.006461174227297306\n",
            "Training Loss in iteration 110 is: 0.0041384450159966946\n",
            "Testing Loss in iteration 110 is: 0.006583004724234343\n",
            "Training Loss in iteration 111 is: 0.0024891472421586514\n",
            "Testing Loss in iteration 111 is: 0.013244313187897205\n",
            "Training Loss in iteration 112 is: 0.002214605687186122\n",
            "Testing Loss in iteration 112 is: 0.04240632802248001\n",
            "Training Loss in iteration 113 is: 0.0037659022491425276\n",
            "Testing Loss in iteration 113 is: 0.009020236320793629\n",
            "Training Loss in iteration 114 is: 0.0034256272483617067\n",
            "Testing Loss in iteration 114 is: 0.02110213041305542\n",
            "Training Loss in iteration 115 is: 0.0028314802329987288\n",
            "Testing Loss in iteration 115 is: 0.017644688487052917\n",
            "Training Loss in iteration 116 is: 0.002856382867321372\n",
            "Testing Loss in iteration 116 is: 0.005745111498981714\n",
            "Training Loss in iteration 117 is: 0.0015216490719467402\n",
            "Testing Loss in iteration 117 is: 0.007402322255074978\n",
            "Training Loss in iteration 118 is: 0.0018784342100843787\n",
            "Testing Loss in iteration 118 is: 0.01213968638330698\n",
            "Training Loss in iteration 119 is: 0.0029850576538592577\n",
            "Testing Loss in iteration 119 is: 0.010381432250142097\n",
            "Training Loss in iteration 120 is: 0.00222399877384305\n",
            "Testing Loss in iteration 120 is: 0.007684412412345409\n",
            "Training Loss in iteration 121 is: 0.003835126059129834\n",
            "Testing Loss in iteration 121 is: 0.005183662753552198\n",
            "Training Loss in iteration 122 is: 0.0014736175071448088\n",
            "Testing Loss in iteration 122 is: 0.014494695700705051\n",
            "Training Loss in iteration 123 is: 0.0026648659259080887\n",
            "Testing Loss in iteration 123 is: 0.011647229082882404\n",
            "Training Loss in iteration 124 is: 0.001760691637173295\n",
            "Testing Loss in iteration 124 is: 0.007882540114223957\n",
            "Training Loss in iteration 125 is: 0.0014921898255124688\n",
            "Testing Loss in iteration 125 is: 0.00841485895216465\n",
            "Training Loss in iteration 126 is: 0.00241640442982316\n",
            "Testing Loss in iteration 126 is: 0.008841967210173607\n",
            "Training Loss in iteration 127 is: 0.0020988776814192533\n",
            "Testing Loss in iteration 127 is: 0.0184620413929224\n",
            "Training Loss in iteration 128 is: 0.0013099503703415394\n",
            "Testing Loss in iteration 128 is: 0.007995878346264362\n",
            "Training Loss in iteration 129 is: 0.0021289950236678123\n",
            "Testing Loss in iteration 129 is: 0.007459111977368593\n",
            "Training Loss in iteration 130 is: 0.0014750325353816152\n",
            "Testing Loss in iteration 130 is: 0.023465178906917572\n",
            "Training Loss in iteration 131 is: 0.0040130410343408585\n",
            "Testing Loss in iteration 131 is: 0.005310661159455776\n",
            "Training Loss in iteration 132 is: 0.0013301220024004579\n",
            "Testing Loss in iteration 132 is: 0.004829430487006903\n",
            "Training Loss in iteration 133 is: 0.0013822034234181046\n",
            "Testing Loss in iteration 133 is: 0.004765040706843138\n",
            "Training Loss in iteration 134 is: 0.0008899766253307462\n",
            "Testing Loss in iteration 134 is: 0.00333677651360631\n",
            "Training Loss in iteration 135 is: 0.0024911127984523773\n",
            "Testing Loss in iteration 135 is: 0.0022759444545954466\n",
            "Training Loss in iteration 136 is: 0.0012728002620860934\n",
            "Testing Loss in iteration 136 is: 0.00305777695029974\n",
            "Training Loss in iteration 137 is: 0.000936466793064028\n",
            "Testing Loss in iteration 137 is: 0.0037158592604100704\n",
            "Training Loss in iteration 138 is: 0.0007124042604118586\n",
            "Testing Loss in iteration 138 is: 0.0032926895655691624\n",
            "Training Loss in iteration 139 is: 0.001476965262554586\n",
            "Testing Loss in iteration 139 is: 0.011063103564083576\n",
            "Training Loss in iteration 140 is: 0.0008318344480358064\n",
            "Testing Loss in iteration 140 is: 0.020289769396185875\n",
            "Training Loss in iteration 141 is: 0.0007714147795923054\n",
            "Testing Loss in iteration 141 is: 0.002690046327188611\n",
            "Training Loss in iteration 142 is: 0.0016649721655994654\n",
            "Testing Loss in iteration 142 is: 0.004418196622282267\n",
            "Training Loss in iteration 143 is: 0.0013971240259706974\n",
            "Testing Loss in iteration 143 is: 0.005550301633775234\n",
            "Training Loss in iteration 144 is: 0.0005163019523024559\n",
            "Testing Loss in iteration 144 is: 0.011773020029067993\n",
            "Training Loss in iteration 145 is: 0.0008162641897797585\n",
            "Testing Loss in iteration 145 is: 0.002949179382994771\n",
            "Training Loss in iteration 146 is: 0.001742833643220365\n",
            "Testing Loss in iteration 146 is: 0.05267633497714996\n",
            "Training Loss in iteration 147 is: 0.0012711305171251297\n",
            "Testing Loss in iteration 147 is: 0.0032857598271220922\n",
            "Training Loss in iteration 148 is: 0.0009003141894936562\n",
            "Testing Loss in iteration 148 is: 0.0680951178073883\n",
            "Training Loss in iteration 149 is: 0.0009475093684159219\n",
            "Testing Loss in iteration 149 is: 0.005427707452327013\n",
            "Training Loss in iteration 150 is: 0.0009190472192130983\n",
            "Testing Loss in iteration 150 is: 0.003898762399330735\n",
            "Training Loss in iteration 151 is: 0.0008216979331336915\n",
            "Testing Loss in iteration 151 is: 0.002001051791012287\n",
            "Training Loss in iteration 152 is: 0.0009456480038352311\n",
            "Testing Loss in iteration 152 is: 0.003114175982773304\n",
            "Training Loss in iteration 153 is: 0.0006047344068065286\n",
            "Testing Loss in iteration 153 is: 0.004498855210840702\n",
            "Training Loss in iteration 154 is: 0.0012969711096957326\n",
            "Testing Loss in iteration 154 is: 0.003620425472036004\n",
            "Training Loss in iteration 155 is: 0.0011498829117044806\n",
            "Testing Loss in iteration 155 is: 0.01294400542974472\n",
            "Training Loss in iteration 156 is: 0.0012569940881803632\n",
            "Testing Loss in iteration 156 is: 0.014191466383635998\n",
            "Training Loss in iteration 157 is: 0.000928813184145838\n",
            "Testing Loss in iteration 157 is: 0.00575248571112752\n",
            "Training Loss in iteration 158 is: 0.0008497770177200437\n",
            "Testing Loss in iteration 158 is: 0.02448275312781334\n",
            "Training Loss in iteration 159 is: 0.0018605594523251057\n",
            "Testing Loss in iteration 159 is: 0.0024060376454144716\n",
            "Training Loss in iteration 160 is: 0.0006292758625932038\n",
            "Testing Loss in iteration 160 is: 0.0043260483071208\n",
            "Training Loss in iteration 161 is: 0.0007033164729364216\n",
            "Testing Loss in iteration 161 is: 0.00833506416529417\n",
            "Training Loss in iteration 162 is: 0.0005246915970928967\n",
            "Testing Loss in iteration 162 is: 0.005780277773737907\n",
            "Training Loss in iteration 163 is: 0.000427643652074039\n",
            "Testing Loss in iteration 163 is: 0.002775460947304964\n",
            "Training Loss in iteration 164 is: 0.0005551783833652735\n",
            "Testing Loss in iteration 164 is: 0.003922236617654562\n",
            "Training Loss in iteration 165 is: 0.0009855888783931732\n",
            "Testing Loss in iteration 165 is: 0.013749883510172367\n",
            "Training Loss in iteration 166 is: 0.0005030327010899782\n",
            "Testing Loss in iteration 166 is: 0.004688895773142576\n",
            "Training Loss in iteration 167 is: 0.0003932472609449178\n",
            "Testing Loss in iteration 167 is: 0.003230992006137967\n",
            "Training Loss in iteration 168 is: 0.0015944569604471326\n",
            "Testing Loss in iteration 168 is: 0.0028588336426764727\n",
            "Training Loss in iteration 169 is: 0.00048671095282770693\n",
            "Testing Loss in iteration 169 is: 0.009570098482072353\n",
            "Training Loss in iteration 170 is: 0.0008367045666091144\n",
            "Testing Loss in iteration 170 is: 0.006794928573071957\n",
            "Training Loss in iteration 171 is: 0.0004980011144652963\n",
            "Testing Loss in iteration 171 is: 0.014669266529381275\n",
            "Training Loss in iteration 172 is: 0.0006287949508987367\n",
            "Testing Loss in iteration 172 is: 0.006714137736707926\n",
            "Training Loss in iteration 173 is: 0.001354736858047545\n",
            "Testing Loss in iteration 173 is: 0.015522820875048637\n",
            "Training Loss in iteration 174 is: 0.0009941818425431848\n",
            "Testing Loss in iteration 174 is: 0.019369110465049744\n",
            "Training Loss in iteration 175 is: 0.00033277153852395713\n",
            "Testing Loss in iteration 175 is: 0.008045520633459091\n",
            "Training Loss in iteration 176 is: 0.0005529971676878631\n",
            "Testing Loss in iteration 176 is: 0.0023801878560334444\n",
            "Training Loss in iteration 177 is: 0.0007250566268339753\n",
            "Testing Loss in iteration 177 is: 0.0033453390933573246\n",
            "Training Loss in iteration 178 is: 0.0006302896072156727\n",
            "Testing Loss in iteration 178 is: 0.002723814221099019\n",
            "Training Loss in iteration 179 is: 0.00021721825760323554\n",
            "Testing Loss in iteration 179 is: 0.003352262545377016\n",
            "Training Loss in iteration 180 is: 0.00023188757768366486\n",
            "Testing Loss in iteration 180 is: 0.0012858860427513719\n",
            "Training Loss in iteration 181 is: 0.0004488783306442201\n",
            "Testing Loss in iteration 181 is: 0.0022001585457473993\n",
            "Training Loss in iteration 182 is: 0.0003323218843434006\n",
            "Testing Loss in iteration 182 is: 0.002109877299517393\n",
            "Training Loss in iteration 183 is: 0.00046758365351706743\n",
            "Testing Loss in iteration 183 is: 0.0029769279062747955\n",
            "Training Loss in iteration 184 is: 0.001772143761627376\n",
            "Testing Loss in iteration 184 is: 0.0030827857553958893\n",
            "Training Loss in iteration 185 is: 0.00026456257910467684\n",
            "Testing Loss in iteration 185 is: 0.0033512022346258163\n",
            "Training Loss in iteration 186 is: 0.0007568693254143\n",
            "Testing Loss in iteration 186 is: 0.0041891541332006454\n",
            "Training Loss in iteration 187 is: 0.0005395004991441965\n",
            "Testing Loss in iteration 187 is: 0.005177243612706661\n",
            "Training Loss in iteration 188 is: 0.00042173865949735045\n",
            "Testing Loss in iteration 188 is: 0.0037856739945709705\n",
            "Training Loss in iteration 189 is: 0.005970954429358244\n",
            "Testing Loss in iteration 189 is: 0.0029860856011509895\n",
            "Training Loss in iteration 190 is: 0.00047150420141406357\n",
            "Testing Loss in iteration 190 is: 0.0016400713939219713\n",
            "Training Loss in iteration 191 is: 0.0002906686859205365\n",
            "Testing Loss in iteration 191 is: 0.006092775613069534\n",
            "Training Loss in iteration 192 is: 0.00029970641480758786\n",
            "Testing Loss in iteration 192 is: 0.0033105453476309776\n",
            "Training Loss in iteration 193 is: 0.00035503003164194524\n",
            "Testing Loss in iteration 193 is: 0.003778184298425913\n",
            "Training Loss in iteration 194 is: 0.0003073328989557922\n",
            "Testing Loss in iteration 194 is: 0.003339736722409725\n",
            "Training Loss in iteration 195 is: 0.0008344035595655441\n",
            "Testing Loss in iteration 195 is: 0.0058931950479745865\n",
            "Training Loss in iteration 196 is: 0.0004986127023585141\n",
            "Testing Loss in iteration 196 is: 0.0047787572257220745\n",
            "Training Loss in iteration 197 is: 0.00018201711645815521\n",
            "Testing Loss in iteration 197 is: 0.0013835998252034187\n",
            "Training Loss in iteration 198 is: 0.000793866696767509\n",
            "Testing Loss in iteration 198 is: 0.040983039885759354\n",
            "Training Loss in iteration 199 is: 0.0005990848294459283\n",
            "Testing Loss in iteration 199 is: 0.001426271628588438\n",
            "Training Loss in iteration 200 is: 0.00018287962302565575\n",
            "Testing Loss in iteration 200 is: 0.0016382918693125248\n",
            "Training Loss in iteration 201 is: 0.00026619210257194936\n",
            "Testing Loss in iteration 201 is: 0.0015046711778268218\n",
            "Training Loss in iteration 202 is: 0.0003885148325935006\n",
            "Testing Loss in iteration 202 is: 0.0011315754381939769\n",
            "Training Loss in iteration 203 is: 0.00041206012247130275\n",
            "Testing Loss in iteration 203 is: 0.0010332303354516625\n",
            "Training Loss in iteration 204 is: 0.0006483526667580009\n",
            "Testing Loss in iteration 204 is: 0.001199173741042614\n",
            "Training Loss in iteration 205 is: 0.0001762162719387561\n",
            "Testing Loss in iteration 205 is: 0.007499247323721647\n",
            "Training Loss in iteration 206 is: 0.0001826393126975745\n",
            "Testing Loss in iteration 206 is: 0.013477535918354988\n",
            "Training Loss in iteration 207 is: 0.0003947528311982751\n",
            "Testing Loss in iteration 207 is: 0.0005927821039222181\n",
            "Training Loss in iteration 208 is: 0.0012013623490929604\n",
            "Testing Loss in iteration 208 is: 0.0021304318215698004\n",
            "Training Loss in iteration 209 is: 0.00028171963640488684\n",
            "Testing Loss in iteration 209 is: 0.0024163355119526386\n",
            "Training Loss in iteration 210 is: 0.00011526064918143675\n",
            "Testing Loss in iteration 210 is: 0.001488173264078796\n",
            "Training Loss in iteration 211 is: 0.0003005211765412241\n",
            "Testing Loss in iteration 211 is: 0.002407942432910204\n",
            "Training Loss in iteration 212 is: 0.0001344947813777253\n",
            "Testing Loss in iteration 212 is: 0.002215117681771517\n",
            "Training Loss in iteration 213 is: 8.616437116870657e-05\n",
            "Testing Loss in iteration 213 is: 0.0013834184501320124\n",
            "Training Loss in iteration 214 is: 0.00013365138147491962\n",
            "Testing Loss in iteration 214 is: 0.002979487180709839\n",
            "Training Loss in iteration 215 is: 0.0002596610283944756\n",
            "Testing Loss in iteration 215 is: 0.002826764713972807\n",
            "Training Loss in iteration 216 is: 0.00024602870689705014\n",
            "Testing Loss in iteration 216 is: 0.0007647243910469115\n",
            "Training Loss in iteration 217 is: 0.00024043272424023598\n",
            "Testing Loss in iteration 217 is: 0.0011067923624068499\n",
            "Training Loss in iteration 218 is: 0.00019157414499204606\n",
            "Testing Loss in iteration 218 is: 0.0021552243269979954\n",
            "Training Loss in iteration 219 is: 0.0004268684424459934\n",
            "Testing Loss in iteration 219 is: 0.0008655997226014733\n",
            "Training Loss in iteration 220 is: 0.0007455687155015767\n",
            "Testing Loss in iteration 220 is: 0.006846253760159016\n",
            "Training Loss in iteration 221 is: 0.00014267915685195476\n",
            "Testing Loss in iteration 221 is: 0.0014279885217547417\n",
            "Training Loss in iteration 222 is: 0.00021793972700834274\n",
            "Testing Loss in iteration 222 is: 0.0013035720912739635\n",
            "Training Loss in iteration 223 is: 0.0001388313976349309\n",
            "Testing Loss in iteration 223 is: 0.008363443426787853\n",
            "Training Loss in iteration 224 is: 0.00025223527336493134\n",
            "Testing Loss in iteration 224 is: 0.0009028817294165492\n",
            "Training Loss in iteration 225 is: 0.0002454427594784647\n",
            "Testing Loss in iteration 225 is: 0.0015299025690183043\n",
            "Training Loss in iteration 226 is: 0.00025083564105443656\n",
            "Testing Loss in iteration 226 is: 0.0012090718373656273\n",
            "Training Loss in iteration 227 is: 0.00013302375737112015\n",
            "Testing Loss in iteration 227 is: 0.0010361789027228951\n",
            "Training Loss in iteration 228 is: 0.0003861136210616678\n",
            "Testing Loss in iteration 228 is: 0.0010326998308300972\n",
            "Training Loss in iteration 229 is: 0.00026436374173499644\n",
            "Testing Loss in iteration 229 is: 0.004764066077768803\n",
            "Training Loss in iteration 230 is: 0.0002485585573595017\n",
            "Testing Loss in iteration 230 is: 0.015584256500005722\n",
            "Training Loss in iteration 231 is: 0.0001764771732268855\n",
            "Testing Loss in iteration 231 is: 0.005165820010006428\n",
            "Training Loss in iteration 232 is: 0.000569639028981328\n",
            "Testing Loss in iteration 232 is: 0.0022403488401323557\n",
            "Training Loss in iteration 233 is: 0.00039239725447259843\n",
            "Testing Loss in iteration 233 is: 0.006233775522559881\n",
            "Training Loss in iteration 234 is: 0.00021254744206089526\n",
            "Testing Loss in iteration 234 is: 0.009889386594295502\n",
            "Training Loss in iteration 235 is: 0.00027567974757403135\n",
            "Testing Loss in iteration 235 is: 0.0013195449719205499\n",
            "Training Loss in iteration 236 is: 0.00014608785568270832\n",
            "Testing Loss in iteration 236 is: 0.0017460492672398686\n",
            "Training Loss in iteration 237 is: 0.00042092797229997814\n",
            "Testing Loss in iteration 237 is: 0.002108826767653227\n",
            "Training Loss in iteration 238 is: 0.00010364858462708071\n",
            "Testing Loss in iteration 238 is: 0.001418385305441916\n",
            "Training Loss in iteration 239 is: 0.0005091942730359733\n",
            "Testing Loss in iteration 239 is: 0.0018340651877224445\n",
            "Training Loss in iteration 240 is: 0.00095349334878847\n",
            "Testing Loss in iteration 240 is: 0.04273789003491402\n",
            "Training Loss in iteration 241 is: 0.0001424304791726172\n",
            "Testing Loss in iteration 241 is: 0.006171894259750843\n",
            "Training Loss in iteration 242 is: 0.00017302273772656918\n",
            "Testing Loss in iteration 242 is: 0.0009764591814018786\n",
            "Training Loss in iteration 243 is: 0.0004895119927823544\n",
            "Testing Loss in iteration 243 is: 0.0018193083815276623\n",
            "Training Loss in iteration 244 is: 0.0002552129444666207\n",
            "Testing Loss in iteration 244 is: 0.0016783145256340504\n",
            "Training Loss in iteration 245 is: 0.000138465577038005\n",
            "Testing Loss in iteration 245 is: 0.0009922056924551725\n",
            "Training Loss in iteration 246 is: 9.28942536120303e-05\n",
            "Testing Loss in iteration 246 is: 0.0013753529638051987\n",
            "Training Loss in iteration 247 is: 0.00040254779742099345\n",
            "Testing Loss in iteration 247 is: 0.008649821393191814\n",
            "Training Loss in iteration 248 is: 0.00013629069144371897\n",
            "Testing Loss in iteration 248 is: 0.0005791036528535187\n",
            "Training Loss in iteration 249 is: 0.0001606744626769796\n",
            "Testing Loss in iteration 249 is: 0.004468810744583607\n",
            "Training Loss in iteration 250 is: 0.00017719213792588562\n",
            "Testing Loss in iteration 250 is: 0.0034092124551534653\n",
            "Training Loss in iteration 251 is: 0.00018587028898764402\n",
            "Testing Loss in iteration 251 is: 0.0012335636420175433\n",
            "Training Loss in iteration 252 is: 0.00022275435912888497\n",
            "Testing Loss in iteration 252 is: 0.017867906019091606\n",
            "Training Loss in iteration 253 is: 0.00013179985398892313\n",
            "Testing Loss in iteration 253 is: 0.0015565601643174887\n",
            "Training Loss in iteration 254 is: 8.590505603933707e-05\n",
            "Testing Loss in iteration 254 is: 0.008008590899407864\n",
            "Training Loss in iteration 255 is: 0.00010209100582869723\n",
            "Testing Loss in iteration 255 is: 0.0037398093845695257\n",
            "Training Loss in iteration 256 is: 0.000135944748762995\n",
            "Testing Loss in iteration 256 is: 0.0018971756799146533\n",
            "Training Loss in iteration 257 is: 0.00021771667525172234\n",
            "Testing Loss in iteration 257 is: 0.0009162719361484051\n",
            "Training Loss in iteration 258 is: 0.00017377252515871078\n",
            "Testing Loss in iteration 258 is: 0.004105214960873127\n",
            "Training Loss in iteration 259 is: 0.00014168606139719486\n",
            "Testing Loss in iteration 259 is: 0.0059055909514427185\n",
            "Training Loss in iteration 260 is: 0.00010055077291326597\n",
            "Testing Loss in iteration 260 is: 0.003849901957437396\n",
            "Training Loss in iteration 261 is: 0.0001920397044159472\n",
            "Testing Loss in iteration 261 is: 0.0009039880824275315\n",
            "Training Loss in iteration 262 is: 0.00031246160506270826\n",
            "Testing Loss in iteration 262 is: 0.002063330262899399\n",
            "Training Loss in iteration 263 is: 0.0001228215405717492\n",
            "Testing Loss in iteration 263 is: 0.00425564032047987\n",
            "Training Loss in iteration 264 is: 7.418064342346042e-05\n",
            "Testing Loss in iteration 264 is: 0.003653234802186489\n",
            "Training Loss in iteration 265 is: 0.0001808418455766514\n",
            "Testing Loss in iteration 265 is: 0.005373718682676554\n",
            "Training Loss in iteration 266 is: 0.00014988548355177045\n",
            "Testing Loss in iteration 266 is: 0.002258265856653452\n",
            "Training Loss in iteration 267 is: 0.00010174160706810653\n",
            "Testing Loss in iteration 267 is: 0.0008399010985158384\n",
            "Training Loss in iteration 268 is: 0.0003139741311315447\n",
            "Testing Loss in iteration 268 is: 0.0010222584242001176\n",
            "Training Loss in iteration 269 is: 8.311356214107946e-05\n",
            "Testing Loss in iteration 269 is: 0.0004502954543568194\n",
            "Training Loss in iteration 270 is: 0.00012000973947579041\n",
            "Testing Loss in iteration 270 is: 0.00041398851317353547\n",
            "Training Loss in iteration 271 is: 0.00027311514713801444\n",
            "Testing Loss in iteration 271 is: 0.0009903846075758338\n",
            "Training Loss in iteration 272 is: 5.816421253257431e-05\n",
            "Testing Loss in iteration 272 is: 0.0041458625346422195\n",
            "Training Loss in iteration 273 is: 8.870612509781495e-05\n",
            "Testing Loss in iteration 273 is: 0.0005175400292500854\n",
            "Training Loss in iteration 274 is: 9.741369285620749e-05\n",
            "Testing Loss in iteration 274 is: 0.0006377397221513093\n",
            "Training Loss in iteration 275 is: 9.689878788776696e-05\n",
            "Testing Loss in iteration 275 is: 0.002666633343324065\n",
            "Training Loss in iteration 276 is: 8.97903082659468e-05\n",
            "Testing Loss in iteration 276 is: 0.0004982513491995633\n",
            "Training Loss in iteration 277 is: 0.0001229428598890081\n",
            "Testing Loss in iteration 277 is: 0.005582119803875685\n",
            "Training Loss in iteration 278 is: 0.00012374954530969262\n",
            "Testing Loss in iteration 278 is: 0.0016120373038575053\n",
            "Training Loss in iteration 279 is: 0.00012124810746172443\n",
            "Testing Loss in iteration 279 is: 0.0009016541880555451\n",
            "Training Loss in iteration 280 is: 0.0001569477462908253\n",
            "Testing Loss in iteration 280 is: 0.0006375814555212855\n",
            "Training Loss in iteration 281 is: 0.00010890547127928585\n",
            "Testing Loss in iteration 281 is: 0.0011570570059120655\n",
            "Training Loss in iteration 282 is: 0.00013094597670715302\n",
            "Testing Loss in iteration 282 is: 0.0013252446660771966\n",
            "Training Loss in iteration 283 is: 8.934832294471562e-05\n",
            "Testing Loss in iteration 283 is: 0.016619808971881866\n",
            "Training Loss in iteration 284 is: 0.00010648009629221633\n",
            "Testing Loss in iteration 284 is: 0.0017161440337076783\n",
            "Training Loss in iteration 285 is: 0.00013371414388529956\n",
            "Testing Loss in iteration 285 is: 0.0007826939108781517\n",
            "Training Loss in iteration 286 is: 0.00016072984726633877\n",
            "Testing Loss in iteration 286 is: 0.0010530302533879876\n",
            "Training Loss in iteration 287 is: 0.0001504546671640128\n",
            "Testing Loss in iteration 287 is: 0.0006601774366572499\n",
            "Training Loss in iteration 288 is: 8.112370414892212e-05\n",
            "Testing Loss in iteration 288 is: 0.0019344378961250186\n",
            "Training Loss in iteration 289 is: 0.00017499249952379614\n",
            "Testing Loss in iteration 289 is: 0.010051107965409756\n",
            "Training Loss in iteration 290 is: 0.00044806176447309554\n",
            "Testing Loss in iteration 290 is: 0.001186135457828641\n",
            "Training Loss in iteration 291 is: 7.985734555404633e-05\n",
            "Testing Loss in iteration 291 is: 0.002033017575740814\n",
            "Training Loss in iteration 292 is: 7.267123146448284e-05\n",
            "Testing Loss in iteration 292 is: 0.0035226286854594946\n",
            "Training Loss in iteration 293 is: 0.0071537247858941555\n",
            "Testing Loss in iteration 293 is: 0.002343481406569481\n",
            "Training Loss in iteration 294 is: 0.00012042889284202829\n",
            "Testing Loss in iteration 294 is: 0.0009832630166783929\n",
            "Training Loss in iteration 295 is: 0.00014385704707819968\n",
            "Testing Loss in iteration 295 is: 0.0012477844720706344\n",
            "Training Loss in iteration 296 is: 0.00012915961269754916\n",
            "Testing Loss in iteration 296 is: 0.0005998784326948225\n",
            "Training Loss in iteration 297 is: 0.000441121868789196\n",
            "Testing Loss in iteration 297 is: 0.0007469850825145841\n",
            "Training Loss in iteration 298 is: 6.292525358730927e-05\n",
            "Testing Loss in iteration 298 is: 0.000884454813785851\n",
            "Training Loss in iteration 299 is: 0.00023362343199551105\n",
            "Testing Loss in iteration 299 is: 0.0036739250645041466\n",
            "Training Loss in iteration 300 is: 6.863973976578563e-05\n",
            "Testing Loss in iteration 300 is: 0.007366177625954151\n",
            "Training Loss in iteration 301 is: 0.0003368258476257324\n",
            "Testing Loss in iteration 301 is: 0.024770742282271385\n",
            "Training Loss in iteration 302 is: 0.0003956435830332339\n",
            "Testing Loss in iteration 302 is: 0.0005438354564830661\n",
            "Training Loss in iteration 303 is: 0.00043282017577439547\n",
            "Testing Loss in iteration 303 is: 0.001713819452561438\n",
            "Training Loss in iteration 304 is: 7.17672664904967e-05\n",
            "Testing Loss in iteration 304 is: 0.004324752371758223\n",
            "Training Loss in iteration 305 is: 0.00011310518311802298\n",
            "Testing Loss in iteration 305 is: 0.0006608021212741733\n",
            "Training Loss in iteration 306 is: 6.549259705934674e-05\n",
            "Testing Loss in iteration 306 is: 0.0003755136567633599\n",
            "Training Loss in iteration 307 is: 6.633079465245828e-05\n",
            "Testing Loss in iteration 307 is: 0.00022988702403381467\n",
            "Training Loss in iteration 308 is: 0.00011508421448525041\n",
            "Testing Loss in iteration 308 is: 0.001569328480400145\n",
            "Training Loss in iteration 309 is: 5.0991191528737545e-05\n",
            "Testing Loss in iteration 309 is: 0.0009570464608259499\n",
            "Training Loss in iteration 310 is: 9.41123507800512e-05\n",
            "Testing Loss in iteration 310 is: 0.0015621191123500466\n",
            "Training Loss in iteration 311 is: 0.0001019437113427557\n",
            "Testing Loss in iteration 311 is: 0.0006672419840469956\n",
            "Training Loss in iteration 312 is: 0.00012540999159682542\n",
            "Testing Loss in iteration 312 is: 0.014617550186812878\n",
            "Training Loss in iteration 313 is: 0.0022587322164326906\n",
            "Testing Loss in iteration 313 is: 0.001725698821246624\n",
            "Training Loss in iteration 314 is: 7.012671267148107e-05\n",
            "Testing Loss in iteration 314 is: 0.000636800192296505\n",
            "Training Loss in iteration 315 is: 0.00019422135665081441\n",
            "Testing Loss in iteration 315 is: 0.0012929302174597979\n",
            "Training Loss in iteration 316 is: 8.124164742184803e-05\n",
            "Testing Loss in iteration 316 is: 0.0007282366277649999\n",
            "Training Loss in iteration 317 is: 0.00010651772754499689\n",
            "Testing Loss in iteration 317 is: 0.0006189746200107038\n",
            "Training Loss in iteration 318 is: 9.444402530789375e-05\n",
            "Testing Loss in iteration 318 is: 0.012168103829026222\n",
            "Training Loss in iteration 319 is: 0.00024329971347469836\n",
            "Testing Loss in iteration 319 is: 0.0006328370072878897\n",
            "Training Loss in iteration 320 is: 0.00012395056546665728\n",
            "Testing Loss in iteration 320 is: 0.0011477228254079819\n",
            "Training Loss in iteration 321 is: 6.456548726418987e-05\n",
            "Testing Loss in iteration 321 is: 0.00820748321712017\n",
            "Training Loss in iteration 322 is: 5.772466829512268e-05\n",
            "Testing Loss in iteration 322 is: 0.001543285558000207\n",
            "Training Loss in iteration 323 is: 7.271130016306415e-05\n",
            "Testing Loss in iteration 323 is: 0.0032849146518856287\n",
            "Training Loss in iteration 324 is: 5.8561145124258474e-05\n",
            "Testing Loss in iteration 324 is: 0.0012977967271581292\n",
            "Training Loss in iteration 325 is: 3.365464726812206e-05\n",
            "Testing Loss in iteration 325 is: 0.003630521008744836\n",
            "Training Loss in iteration 326 is: 0.000173436215845868\n",
            "Testing Loss in iteration 326 is: 0.0021212990395724773\n",
            "Training Loss in iteration 327 is: 0.00011136713874293491\n",
            "Testing Loss in iteration 327 is: 0.0009246160043403506\n",
            "Training Loss in iteration 328 is: 6.972547998884693e-05\n",
            "Testing Loss in iteration 328 is: 0.002037628786638379\n",
            "Training Loss in iteration 329 is: 9.12390387384221e-05\n",
            "Testing Loss in iteration 329 is: 0.002296244725584984\n",
            "Training Loss in iteration 330 is: 7.985773117979988e-05\n",
            "Testing Loss in iteration 330 is: 0.0005191123345866799\n",
            "Training Loss in iteration 331 is: 7.135971100069582e-05\n",
            "Testing Loss in iteration 331 is: 0.001552031491883099\n",
            "Training Loss in iteration 332 is: 3.5645003663375974e-05\n",
            "Testing Loss in iteration 332 is: 0.002254905179142952\n",
            "Training Loss in iteration 333 is: 0.00012544263154268265\n",
            "Testing Loss in iteration 333 is: 0.0010697919642552733\n",
            "Training Loss in iteration 334 is: 5.051994958193973e-05\n",
            "Testing Loss in iteration 334 is: 0.0013010938419029117\n",
            "Training Loss in iteration 335 is: 0.00022537054610438645\n",
            "Testing Loss in iteration 335 is: 0.0012454502284526825\n",
            "Training Loss in iteration 336 is: 5.118504850543104e-05\n",
            "Testing Loss in iteration 336 is: 0.002177906921133399\n",
            "Training Loss in iteration 337 is: 4.382936822366901e-05\n",
            "Testing Loss in iteration 337 is: 0.017572347074747086\n",
            "Training Loss in iteration 338 is: 2.405083432677202e-05\n",
            "Testing Loss in iteration 338 is: 0.01875024475157261\n",
            "Training Loss in iteration 339 is: 0.0001535742630949244\n",
            "Testing Loss in iteration 339 is: 0.0015128880040720105\n",
            "Training Loss in iteration 340 is: 6.0788370319642127e-05\n",
            "Testing Loss in iteration 340 is: 0.0012945686466991901\n",
            "Training Loss in iteration 341 is: 4.0023605833994225e-05\n",
            "Testing Loss in iteration 341 is: 0.000791308528278023\n",
            "Training Loss in iteration 342 is: 0.00026726906071417034\n",
            "Testing Loss in iteration 342 is: 0.0015032663941383362\n",
            "Training Loss in iteration 343 is: 6.91927780280821e-05\n",
            "Testing Loss in iteration 343 is: 0.0002826046838890761\n",
            "Training Loss in iteration 344 is: 4.632226409739815e-05\n",
            "Testing Loss in iteration 344 is: 0.00046727986773476005\n",
            "Training Loss in iteration 345 is: 0.0001400070614181459\n",
            "Testing Loss in iteration 345 is: 0.0009062018361873925\n",
            "Training Loss in iteration 346 is: 6.68324064463377e-05\n",
            "Testing Loss in iteration 346 is: 0.0011429351288825274\n",
            "Training Loss in iteration 347 is: 9.385509474668652e-05\n",
            "Testing Loss in iteration 347 is: 0.00044322965550236404\n",
            "Training Loss in iteration 348 is: 3.601110074669123e-05\n",
            "Testing Loss in iteration 348 is: 0.00020992093777749687\n",
            "Training Loss in iteration 349 is: 2.8621738238143735e-05\n",
            "Testing Loss in iteration 349 is: 0.00046217278577387333\n",
            "Training Loss in iteration 350 is: 0.00019888195674866438\n",
            "Testing Loss in iteration 350 is: 0.0003162141074426472\n",
            "Training Loss in iteration 351 is: 0.00021149539679754525\n",
            "Testing Loss in iteration 351 is: 0.0005930691258981824\n",
            "Training Loss in iteration 352 is: 4.976979471393861e-05\n",
            "Testing Loss in iteration 352 is: 0.0007321333396248519\n",
            "Training Loss in iteration 353 is: 4.880663618678227e-05\n",
            "Testing Loss in iteration 353 is: 0.0015492041129618883\n",
            "Training Loss in iteration 354 is: 8.22560177766718e-05\n",
            "Testing Loss in iteration 354 is: 0.0009447153424844146\n",
            "Training Loss in iteration 355 is: 5.531726128538139e-05\n",
            "Testing Loss in iteration 355 is: 0.018355652689933777\n",
            "Training Loss in iteration 356 is: 0.00011749705299735069\n",
            "Testing Loss in iteration 356 is: 0.0003632040461525321\n",
            "Training Loss in iteration 357 is: 4.49557883257512e-05\n",
            "Testing Loss in iteration 357 is: 0.0003282765974290669\n",
            "Training Loss in iteration 358 is: 8.233270636992529e-05\n",
            "Testing Loss in iteration 358 is: 0.00026031318702735007\n",
            "Training Loss in iteration 359 is: 2.563151610956993e-05\n",
            "Testing Loss in iteration 359 is: 0.0007712914375588298\n",
            "Training Loss in iteration 360 is: 4.5566695916932076e-05\n",
            "Testing Loss in iteration 360 is: 0.0005084244767203927\n",
            "Training Loss in iteration 361 is: 3.3734413591446355e-05\n",
            "Testing Loss in iteration 361 is: 0.0009311022004112601\n",
            "Training Loss in iteration 362 is: 4.773184991790913e-05\n",
            "Testing Loss in iteration 362 is: 0.0013040078338235617\n",
            "Training Loss in iteration 363 is: 6.055323683540337e-05\n",
            "Testing Loss in iteration 363 is: 0.00040541583439335227\n",
            "Training Loss in iteration 364 is: 7.954509055707604e-05\n",
            "Testing Loss in iteration 364 is: 0.0008885635179467499\n",
            "Training Loss in iteration 365 is: 6.983567436691374e-05\n",
            "Testing Loss in iteration 365 is: 0.004066960886120796\n",
            "Training Loss in iteration 366 is: 0.0001185325818369165\n",
            "Testing Loss in iteration 366 is: 0.0010222481796517968\n",
            "Training Loss in iteration 367 is: 4.518006244325079e-05\n",
            "Testing Loss in iteration 367 is: 0.0032971741165965796\n",
            "Training Loss in iteration 368 is: 6.119046156527475e-05\n",
            "Testing Loss in iteration 368 is: 0.00032629873021505773\n",
            "Training Loss in iteration 369 is: 0.00011220883607165888\n",
            "Testing Loss in iteration 369 is: 0.00036281190114095807\n",
            "Training Loss in iteration 370 is: 7.708823250140995e-05\n",
            "Testing Loss in iteration 370 is: 0.00022173451725393534\n",
            "Training Loss in iteration 371 is: 0.000211704260436818\n",
            "Testing Loss in iteration 371 is: 0.00120052439160645\n",
            "Training Loss in iteration 372 is: 3.2455292966915295e-05\n",
            "Testing Loss in iteration 372 is: 0.00035581187694333494\n",
            "Training Loss in iteration 373 is: 8.399153739446774e-05\n",
            "Testing Loss in iteration 373 is: 0.0008726771338842809\n",
            "Training Loss in iteration 374 is: 1.6183365005417727e-05\n",
            "Testing Loss in iteration 374 is: 0.0004832821723539382\n",
            "Training Loss in iteration 375 is: 6.236676563275978e-05\n",
            "Testing Loss in iteration 375 is: 0.001227347063831985\n",
            "Training Loss in iteration 376 is: 4.443732541403733e-05\n",
            "Testing Loss in iteration 376 is: 0.0005533040384761989\n",
            "Training Loss in iteration 377 is: 1.6488269466208294e-05\n",
            "Testing Loss in iteration 377 is: 0.0004902391228824854\n",
            "Training Loss in iteration 378 is: 5.882590266992338e-05\n",
            "Testing Loss in iteration 378 is: 0.00021972217655275017\n",
            "Training Loss in iteration 379 is: 8.550334314350039e-05\n",
            "Testing Loss in iteration 379 is: 0.0002527924661990255\n",
            "Training Loss in iteration 380 is: 0.00013422907795757055\n",
            "Testing Loss in iteration 380 is: 0.0003659643407445401\n",
            "Training Loss in iteration 381 is: 6.361646228469908e-05\n",
            "Testing Loss in iteration 381 is: 0.0002471639309078455\n",
            "Training Loss in iteration 382 is: 6.0541718994500116e-05\n",
            "Testing Loss in iteration 382 is: 0.00020787751418538392\n",
            "Training Loss in iteration 383 is: 0.00010248552280245349\n",
            "Testing Loss in iteration 383 is: 0.0005388111458159983\n",
            "Training Loss in iteration 384 is: 2.678810415090993e-05\n",
            "Testing Loss in iteration 384 is: 0.0001485361426603049\n",
            "Training Loss in iteration 385 is: 0.0001106334530049935\n",
            "Testing Loss in iteration 385 is: 0.0004803926858585328\n",
            "Training Loss in iteration 386 is: 6.159889744594693e-05\n",
            "Testing Loss in iteration 386 is: 0.0006323345005512238\n",
            "Training Loss in iteration 387 is: 2.5498560717096552e-05\n",
            "Testing Loss in iteration 387 is: 0.0002876573707908392\n",
            "Training Loss in iteration 388 is: 3.704476694110781e-05\n",
            "Testing Loss in iteration 388 is: 0.004980210214853287\n",
            "Training Loss in iteration 389 is: 0.00015784284914843738\n",
            "Testing Loss in iteration 389 is: 0.00017464670236222446\n",
            "Training Loss in iteration 390 is: 0.0001056729961419478\n",
            "Testing Loss in iteration 390 is: 0.00023060766397975385\n",
            "Training Loss in iteration 391 is: 2.121587749570608e-05\n",
            "Testing Loss in iteration 391 is: 0.0004140532109886408\n",
            "Training Loss in iteration 392 is: 0.00010472325811861083\n",
            "Testing Loss in iteration 392 is: 0.0013765227049589157\n",
            "Training Loss in iteration 393 is: 4.107716085854918e-05\n",
            "Testing Loss in iteration 393 is: 0.00027756165945902467\n",
            "Training Loss in iteration 394 is: 3.32875715685077e-05\n",
            "Testing Loss in iteration 394 is: 0.00019986146071460098\n",
            "Training Loss in iteration 395 is: 2.4424693037872203e-05\n",
            "Testing Loss in iteration 395 is: 0.000786588410846889\n",
            "Training Loss in iteration 396 is: 3.096794898738153e-05\n",
            "Testing Loss in iteration 396 is: 0.0003787613532040268\n",
            "Training Loss in iteration 397 is: 6.772860797354952e-05\n",
            "Testing Loss in iteration 397 is: 0.0003845941973850131\n",
            "Training Loss in iteration 398 is: 2.5756118702702224e-05\n",
            "Testing Loss in iteration 398 is: 0.000614274584222585\n",
            "Training Loss in iteration 399 is: 3.043122160306666e-05\n",
            "Testing Loss in iteration 399 is: 0.0005836736527271569\n",
            "Training Loss in iteration 400 is: 0.00037719320971518755\n",
            "Testing Loss in iteration 400 is: 0.0003298381925560534\n",
            "Training Loss in iteration 401 is: 3.536067015375011e-05\n",
            "Testing Loss in iteration 401 is: 0.0004926268593408167\n",
            "Training Loss in iteration 402 is: 2.8701764676952735e-05\n",
            "Testing Loss in iteration 402 is: 0.0001792284892871976\n",
            "Training Loss in iteration 403 is: 2.2480642655864358e-05\n",
            "Testing Loss in iteration 403 is: 0.000828228541649878\n",
            "Training Loss in iteration 404 is: 1.7894048141897656e-05\n",
            "Testing Loss in iteration 404 is: 0.0004837159940507263\n",
            "Training Loss in iteration 405 is: 2.896966543630697e-05\n",
            "Testing Loss in iteration 405 is: 0.0018386724404990673\n",
            "Training Loss in iteration 406 is: 2.9221517252153717e-05\n",
            "Testing Loss in iteration 406 is: 0.0004201090196147561\n",
            "Training Loss in iteration 407 is: 1.4345354429678991e-05\n",
            "Testing Loss in iteration 407 is: 0.001098338165320456\n",
            "Training Loss in iteration 408 is: 2.9485589038813487e-05\n",
            "Testing Loss in iteration 408 is: 0.0012003174051642418\n",
            "Training Loss in iteration 409 is: 0.00013228290481492877\n",
            "Testing Loss in iteration 409 is: 0.0026561697013676167\n",
            "Training Loss in iteration 410 is: 4.053794691571966e-05\n",
            "Testing Loss in iteration 410 is: 0.0007416927837766707\n",
            "Training Loss in iteration 411 is: 6.509084050776437e-05\n",
            "Testing Loss in iteration 411 is: 0.0003799200931098312\n",
            "Training Loss in iteration 412 is: 1.3896648852096405e-05\n",
            "Testing Loss in iteration 412 is: 0.0003820319252554327\n",
            "Training Loss in iteration 413 is: 3.411593206692487e-05\n",
            "Testing Loss in iteration 413 is: 0.0004410464898683131\n",
            "Training Loss in iteration 414 is: 0.0001783761545084417\n",
            "Testing Loss in iteration 414 is: 0.00023115654767025262\n",
            "Training Loss in iteration 415 is: 9.913968824548647e-05\n",
            "Testing Loss in iteration 415 is: 0.0002037845115410164\n",
            "Training Loss in iteration 416 is: 4.3581629142863676e-05\n",
            "Testing Loss in iteration 416 is: 0.00024075372493825853\n",
            "Training Loss in iteration 417 is: 5.821295053465292e-05\n",
            "Testing Loss in iteration 417 is: 9.208785195369273e-05\n",
            "Training Loss in iteration 418 is: 2.3637721824343316e-05\n",
            "Testing Loss in iteration 418 is: 0.0017387871630489826\n",
            "Training Loss in iteration 419 is: 1.1537247701198794e-05\n",
            "Testing Loss in iteration 419 is: 0.0004036004829686135\n",
            "Training Loss in iteration 420 is: 3.168757029925473e-05\n",
            "Testing Loss in iteration 420 is: 0.0002152900560759008\n",
            "Training Loss in iteration 421 is: 3.5999903047923e-05\n",
            "Testing Loss in iteration 421 is: 0.00144073530100286\n",
            "Training Loss in iteration 422 is: 3.801256025326438e-05\n",
            "Testing Loss in iteration 422 is: 0.00013855157885700464\n",
            "Training Loss in iteration 423 is: 2.2725995222572237e-05\n",
            "Testing Loss in iteration 423 is: 0.0035075275227427483\n",
            "Training Loss in iteration 424 is: 1.4188052773533855e-05\n",
            "Testing Loss in iteration 424 is: 0.0005380193470045924\n",
            "Training Loss in iteration 425 is: 2.9825019737472758e-05\n",
            "Testing Loss in iteration 425 is: 0.0007279888959601521\n",
            "Training Loss in iteration 426 is: 2.374052746745292e-05\n",
            "Testing Loss in iteration 426 is: 0.000622476392891258\n",
            "Training Loss in iteration 427 is: 2.423332625767216e-05\n",
            "Testing Loss in iteration 427 is: 0.0003735664940904826\n",
            "Training Loss in iteration 428 is: 4.023821747978218e-05\n",
            "Testing Loss in iteration 428 is: 0.0002382109232712537\n",
            "Training Loss in iteration 429 is: 5.836597483721562e-05\n",
            "Testing Loss in iteration 429 is: 0.0013947755796834826\n",
            "Training Loss in iteration 430 is: 2.4394183128606528e-05\n",
            "Testing Loss in iteration 430 is: 0.0007963709649629891\n",
            "Training Loss in iteration 431 is: 3.102170740021393e-05\n",
            "Testing Loss in iteration 431 is: 0.000331312941852957\n",
            "Training Loss in iteration 432 is: 3.724350608536042e-05\n",
            "Testing Loss in iteration 432 is: 0.00040724934660829604\n",
            "Training Loss in iteration 433 is: 9.193190635414794e-05\n",
            "Testing Loss in iteration 433 is: 0.0007951435400173068\n",
            "Training Loss in iteration 434 is: 6.079714512452483e-05\n",
            "Testing Loss in iteration 434 is: 0.00045158836292102933\n",
            "Training Loss in iteration 435 is: 1.9318453269079328e-05\n",
            "Testing Loss in iteration 435 is: 0.00020996782404836267\n",
            "Training Loss in iteration 436 is: 2.640490492922254e-05\n",
            "Testing Loss in iteration 436 is: 0.0003287487488705665\n",
            "Training Loss in iteration 437 is: 7.055162859614938e-05\n",
            "Testing Loss in iteration 437 is: 0.0006035616970621049\n",
            "Training Loss in iteration 438 is: 4.406059088069014e-05\n",
            "Testing Loss in iteration 438 is: 0.00046213396126404405\n",
            "Training Loss in iteration 439 is: 3.857159390463494e-05\n",
            "Testing Loss in iteration 439 is: 0.00032141085830517113\n",
            "Training Loss in iteration 440 is: 1.929851532622706e-05\n",
            "Testing Loss in iteration 440 is: 0.00016387272626161575\n",
            "Training Loss in iteration 441 is: 0.00010894865408772603\n",
            "Testing Loss in iteration 441 is: 0.0003001610457431525\n",
            "Training Loss in iteration 442 is: 1.3814527846989222e-05\n",
            "Testing Loss in iteration 442 is: 0.0008745273225940764\n",
            "Training Loss in iteration 443 is: 5.754459198215045e-05\n",
            "Testing Loss in iteration 443 is: 0.0004980319645255804\n",
            "Training Loss in iteration 444 is: 9.980252798413858e-05\n",
            "Testing Loss in iteration 444 is: 0.00018462231673765928\n",
            "Training Loss in iteration 445 is: 4.128290311200544e-05\n",
            "Testing Loss in iteration 445 is: 0.005374014377593994\n",
            "Training Loss in iteration 446 is: 4.3183845264138654e-05\n",
            "Testing Loss in iteration 446 is: 0.0003203469968866557\n",
            "Training Loss in iteration 447 is: 7.793468103045598e-05\n",
            "Testing Loss in iteration 447 is: 0.0001156648577307351\n",
            "Training Loss in iteration 448 is: 4.047611218993552e-05\n",
            "Testing Loss in iteration 448 is: 0.0003264533879701048\n",
            "Training Loss in iteration 449 is: 4.7841374907875434e-05\n",
            "Testing Loss in iteration 449 is: 0.0008365719113498926\n",
            "Training Loss in iteration 450 is: 1.9913075448130257e-05\n",
            "Testing Loss in iteration 450 is: 0.0004065664834342897\n",
            "Training Loss in iteration 451 is: 9.427780241821893e-06\n",
            "Testing Loss in iteration 451 is: 0.0001762424362823367\n",
            "Training Loss in iteration 452 is: 2.043557287834119e-05\n",
            "Testing Loss in iteration 452 is: 0.00014583223673980683\n",
            "Training Loss in iteration 453 is: 0.0001507202541688457\n",
            "Testing Loss in iteration 453 is: 0.0033671415876597166\n",
            "Training Loss in iteration 454 is: 0.00024958353606052697\n",
            "Testing Loss in iteration 454 is: 0.000983965815976262\n",
            "Training Loss in iteration 455 is: 1.350252114207251e-05\n",
            "Testing Loss in iteration 455 is: 4.758852446684614e-05\n",
            "Training Loss in iteration 456 is: 4.533371975412592e-05\n",
            "Testing Loss in iteration 456 is: 0.00044076915946789086\n",
            "Training Loss in iteration 457 is: 2.4086853954941034e-05\n",
            "Testing Loss in iteration 457 is: 0.00026134992367587984\n",
            "Training Loss in iteration 458 is: 3.1924471841193736e-05\n",
            "Testing Loss in iteration 458 is: 0.00023675036209169775\n",
            "Training Loss in iteration 459 is: 3.5987872252007946e-05\n",
            "Testing Loss in iteration 459 is: 0.0012202509678900242\n",
            "Training Loss in iteration 460 is: 1.8695272956392728e-05\n",
            "Testing Loss in iteration 460 is: 0.0002793680178001523\n",
            "Training Loss in iteration 461 is: 5.6827331718523055e-05\n",
            "Testing Loss in iteration 461 is: 0.00033490441273897886\n",
            "Training Loss in iteration 462 is: 3.495339478831738e-05\n",
            "Testing Loss in iteration 462 is: 0.00020166713511571288\n",
            "Training Loss in iteration 463 is: 2.470654362696223e-05\n",
            "Testing Loss in iteration 463 is: 0.00013310174108482897\n",
            "Training Loss in iteration 464 is: 0.00012462491577025503\n",
            "Testing Loss in iteration 464 is: 0.0020867655985057354\n",
            "Training Loss in iteration 465 is: 1.541702113172505e-05\n",
            "Testing Loss in iteration 465 is: 0.0005303746438585222\n",
            "Training Loss in iteration 466 is: 2.5039842512342148e-05\n",
            "Testing Loss in iteration 466 is: 0.000427552848123014\n",
            "Training Loss in iteration 467 is: 2.8675023713731207e-05\n",
            "Testing Loss in iteration 467 is: 0.0008271338883787394\n",
            "Training Loss in iteration 468 is: 1.3383352779783309e-05\n",
            "Testing Loss in iteration 468 is: 0.00020946256699971855\n",
            "Training Loss in iteration 469 is: 2.30227924475912e-05\n",
            "Testing Loss in iteration 469 is: 0.005736858583986759\n",
            "Training Loss in iteration 470 is: 3.263849430368282e-05\n",
            "Testing Loss in iteration 470 is: 0.0009101271280087531\n",
            "Training Loss in iteration 471 is: 0.00010064109665108845\n",
            "Testing Loss in iteration 471 is: 0.0002483900752849877\n",
            "Training Loss in iteration 472 is: 5.7654728152556345e-05\n",
            "Testing Loss in iteration 472 is: 0.009161454625427723\n",
            "Training Loss in iteration 473 is: 2.722142744460143e-05\n",
            "Testing Loss in iteration 473 is: 0.00019559721113182604\n",
            "Training Loss in iteration 474 is: 1.7983969883061945e-05\n",
            "Testing Loss in iteration 474 is: 0.0008185317274183035\n",
            "Training Loss in iteration 475 is: 8.042216359172016e-05\n",
            "Testing Loss in iteration 475 is: 0.0005232014809735119\n",
            "Training Loss in iteration 476 is: 2.674206371011678e-05\n",
            "Testing Loss in iteration 476 is: 7.32430926291272e-05\n",
            "Training Loss in iteration 477 is: 7.492327131330967e-05\n",
            "Testing Loss in iteration 477 is: 0.00013338829739950597\n",
            "Training Loss in iteration 478 is: 2.3290918761631474e-05\n",
            "Testing Loss in iteration 478 is: 0.00014913677296135575\n",
            "Training Loss in iteration 479 is: 4.5105491153663024e-05\n",
            "Testing Loss in iteration 479 is: 0.00010332832607673481\n",
            "Training Loss in iteration 480 is: 3.29627473547589e-05\n",
            "Testing Loss in iteration 480 is: 0.002216706518083811\n",
            "Training Loss in iteration 481 is: 3.5204648156650364e-05\n",
            "Testing Loss in iteration 481 is: 0.0002784564276225865\n",
            "Training Loss in iteration 482 is: 2.273399877594784e-05\n",
            "Testing Loss in iteration 482 is: 0.006006886251270771\n",
            "Training Loss in iteration 483 is: 1.256735049537383e-05\n",
            "Testing Loss in iteration 483 is: 0.0009073074324987829\n",
            "Training Loss in iteration 484 is: 0.0051465281285345554\n",
            "Testing Loss in iteration 484 is: 0.0018183391075581312\n",
            "Training Loss in iteration 485 is: 4.591176548274234e-05\n",
            "Testing Loss in iteration 485 is: 0.00018587883096188307\n",
            "Training Loss in iteration 486 is: 5.066841549705714e-05\n",
            "Testing Loss in iteration 486 is: 0.00864452589303255\n",
            "Training Loss in iteration 487 is: 0.00018411823839414865\n",
            "Testing Loss in iteration 487 is: 0.0006179072079248726\n",
            "Training Loss in iteration 488 is: 1.9717010218300857e-05\n",
            "Testing Loss in iteration 488 is: 0.00014784799714107066\n",
            "Training Loss in iteration 489 is: 4.75174056191463e-05\n",
            "Testing Loss in iteration 489 is: 0.0008756405441090465\n",
            "Training Loss in iteration 490 is: 3.4553664590930566e-05\n",
            "Testing Loss in iteration 490 is: 0.020605996251106262\n",
            "Training Loss in iteration 491 is: 4.089208960067481e-05\n",
            "Testing Loss in iteration 491 is: 0.0009532775147818029\n",
            "Training Loss in iteration 492 is: 1.8870976418838836e-05\n",
            "Testing Loss in iteration 492 is: 0.0011805015383288264\n",
            "Training Loss in iteration 493 is: 3.287311483290978e-05\n",
            "Testing Loss in iteration 493 is: 0.0039009195752441883\n",
            "Training Loss in iteration 494 is: 4.299660577089526e-05\n",
            "Testing Loss in iteration 494 is: 0.00010866186494240537\n",
            "Training Loss in iteration 495 is: 3.1229570595314726e-05\n",
            "Testing Loss in iteration 495 is: 0.000120118485938292\n",
            "Training Loss in iteration 496 is: 2.9973640266689472e-05\n",
            "Testing Loss in iteration 496 is: 0.0004922127700410783\n",
            "Training Loss in iteration 497 is: 5.5796550441300496e-05\n",
            "Testing Loss in iteration 497 is: 0.0011929860338568687\n",
            "Training Loss in iteration 498 is: 3.386766547919251e-05\n",
            "Testing Loss in iteration 498 is: 0.00032141836709342897\n",
            "Training Loss in iteration 499 is: 2.1336631107260473e-05\n",
            "Testing Loss in iteration 499 is: 0.0005256811273284256\n"
          ]
        }
      ],
      "source": [
        "# model.train()\n",
        "for epoch in range(epochs):\n",
        "    acc_train = 0\n",
        "    running_corrects_train = 0\n",
        "    #Within each epoch run the subsets of data = batch sizes.\n",
        "    for xb, yb in train_dl:\n",
        "        xb,yb = xb.to(device), yb.to(device)\n",
        "        optimizer.zero_grad()         # Clearing all previous gradients, setting to zero \n",
        "        y_pred = model(xb)            # Forward Propagation\n",
        "        y_pred_tar = torch.round(y_pred)\n",
        "        running_corrects_train += torch.sum(y_pred_tar  == yb.data)\n",
        "        loss = loss_func(y_pred, yb)  # Loss Computation\n",
        "        loss.backward()               # Back Propagation\n",
        "        optimizer.step()              # Updating the parameters \n",
        "        scheduler.step()\n",
        "    print(f'Training Loss in iteration {epoch} is: {loss.item()}')\n",
        "    acc_train = running_corrects_train.double() / len(train_dl.dataset)\n",
        "    train_acc.append(acc_train.item())\n",
        "    # print(acc_train)\n",
        "    train_loss.append(loss.item())\n",
        "\n",
        "    with torch.no_grad():\n",
        "        acc_test = 0\n",
        "        running_corrects = 0\n",
        "        for xb_test, yb_test in test_loader:\n",
        "            xb_test, yb_test = xb_test.to(device), yb_test.to(device)\n",
        "            stat = {\n",
        "                'epoch': epochs,\n",
        "                'state_dict': model.state_dict(),\n",
        "                'optimizer': optimizer.state_dict(),\n",
        "            }\n",
        "            y_test_pred = model(xb_test)\n",
        "            \n",
        "            loss_ = loss_func(y_test_pred, yb_test)  # Loss Computation\n",
        "            # y_pred_tag_copy = y_pred_tag.cpu()\n",
        "            y_pred_tag = torch.round(y_test_pred)\n",
        "            running_corrects += torch.sum(y_pred_tag  == yb_test.data)\n",
        "            \n",
        "            # y_pred_list.append(y_pred_tag_copy.detach().numpy())\n",
        "        test_loss.append(loss_.item())\n",
        "        acc_test = running_corrects.double() / len(test_loader.dataset)\n",
        "        test_acc.append(acc_test.item())\n",
        "\n",
        "        if acc_test > best_acc:\n",
        "            torch.save(stat, '/content/best-model-parameters.pt')\n",
        "            \n",
        "        print(f'Testing Loss in iteration {epoch} is: {loss_.item()}')\n",
        "\n",
        "# print(f'Last iteration loss value: {loss.item()}')"
      ]
    },
    {
      "cell_type": "code",
      "execution_count": 31,
      "metadata": {
        "id": "EMoXxk0cPYj7",
        "colab": {
          "base_uri": "https://localhost:8080/",
          "height": 361
        },
        "outputId": "6e61cc31-3eba-4fd4-b891-9dcc8d6a15c1"
      },
      "outputs": [
        {
          "output_type": "display_data",
          "data": {
            "text/plain": [
              "<Figure size 720x360 with 1 Axes>"
            ],
            "image/png": "[encoded data removed]"
          },
          "metadata": {
            "needs_background": "light"
          }
        }
      ],
      "source": [
        "fig, ax = plt.subplots(1,1,figsize=(10, 5),)\n",
        "plt.plot(train_loss, label='train', color='royalblue', linewidth=1.8)\n",
        "plt.plot(test_loss, label='test', color='#e6550d', linewidth=1.2)\n",
        "plt.title('Model Loss',fontsize=18, fontweight='bold', fontfamily='serif')\n",
        "plt.ylabel('Loss', fontsize=17,  fontfamily='serif')\n",
        "plt.xlabel('Epoch', fontsize=17,  fontfamily='serif')\n",
        "font = font_manager.FontProperties(family='serif', size=14)\n",
        "plt.legend(frameon=False, prop=font)\n",
        "\n",
        "plt.show()"
      ]
    },
    {
      "cell_type": "code",
      "execution_count": 32,
      "metadata": {
        "id": "gmd2-qgLPYj7",
        "colab": {
          "base_uri": "https://localhost:8080/",
          "height": 361
        },
        "outputId": "9a497b5c-c17d-452c-cc63-80243e1d5671"
      },
      "outputs": [
        {
          "output_type": "display_data",
          "data": {
            "text/plain": [
              "<Figure size 720x360 with 1 Axes>"
            ],
            "image/png": "[encoded data removed]"
          },
          "metadata": {
            "needs_background": "light"
          }
        }
      ],
      "source": [
        "fig, ax = plt.subplots(1,1,figsize=(10, 5),)\n",
        "plt.plot(train_acc, label='train', color='royalblue', linewidth=1.5)\n",
        "plt.plot(test_acc, label='test', color='#e6550d', linewidth=1.5)\n",
        "plt.title('Model Accuracy',fontsize=18, fontweight='bold', fontfamily='serif')\n",
        "plt.ylabel('Accuracy', fontsize=17,  fontfamily='serif')\n",
        "plt.xlabel('Epoch', fontsize=17,  fontfamily='serif')\n",
        "font = font_manager.FontProperties(family='serif', size=14)\n",
        "plt.legend(frameon=False, prop=font)\n",
        "\n",
        "plt.show()"
      ]
    },
    {
      "cell_type": "code",
      "execution_count": 34,
      "metadata": {
        "id": "mw41RG0tPYj8"
      },
      "outputs": [],
      "source": [
        "import itertools\n",
        "test_loss = []\n",
        "y_pred_list = []\n",
        "model.eval()\n",
        "\n",
        "model.load_state_dict(torch.load('/content/best-model-parameters.pt')['state_dict'])\n",
        "#Since we don't need model to back propagate the gradients in test set we use torch.no_grad()\n",
        "# reduces memory usage and speeds up computation\n",
        "with torch.no_grad():\n",
        "    for xb_test, yb_test in test_loader:\n",
        "        xb_test, yb_test = xb_test.to(device), yb_test.to(device)\n",
        "        y_test_pred = model(xb_test)\n",
        "        y_pred_tag = torch.round(y_test_pred)\n",
        "        # test_loss = loss_func(y_pred_tag.squeeze(), yb_test)  # Loss Computation\n",
        "        # test_loss.append(test_loss.item())\n",
        "        y_pred_tag_copy = y_pred_tag.cpu()\n",
        "        y_pred_list.append(y_pred_tag_copy.detach().numpy())\n",
        "#Takes arrays and makes them list of list for each batch        \n",
        "y_pred_list = [a.squeeze().tolist() for a in y_pred_list]\n",
        "#flattens the lists in sequence\n",
        "y_test_pred = list(itertools.chain.from_iterable(y_pred_list))"
      ]
    },
    {
      "cell_type": "code",
      "execution_count": 35,
      "metadata": {
        "id": "aAI6Z1SpPYj8",
        "colab": {
          "base_uri": "https://localhost:8080/",
          "height": 1000
        },
        "outputId": "cde612ea-be75-4190-8cec-a2e43fbee8f7"
      },
      "outputs": [
        {
          "output_type": "display_data",
          "data": {
            "text/plain": [
              "<Figure size 576x360 with 1 Axes>"
            ],
            "image/png": "[encoded data removed]"
          },
          "metadata": {
            "needs_background": "light"
          }
        },
        {
          "output_type": "stream",
          "name": "stdout",
          "text": [
            "              precision    recall  f1-score   support\n",
            "\n",
            "           0       0.92      0.98      0.95        50\n",
            "           1       0.97      0.90      0.94        40\n",
            "\n",
            "    accuracy                           0.94        90\n",
            "   macro avg       0.95      0.94      0.94        90\n",
            "weighted avg       0.95      0.94      0.94        90\n",
            "\n",
            "auc_roc: 0.94\n"
          ]
        },
        {
          "output_type": "display_data",
          "data": {
            "text/plain": [
              "<Figure size 432x288 with 1 Axes>"
            ],
            "image/png": "[encoded data removed]"
          },
          "metadata": {
            "needs_background": "light"
          }
        },
        {
          "output_type": "stream",
          "name": "stdout",
          "text": [
            "auc_prc: 0.5142642642642643\n"
          ]
        },
        {
          "output_type": "display_data",
          "data": {
            "text/plain": [
              "<Figure size 432x288 with 1 Axes>"
            ],
            "image/png": "[encoded data removed]"
          },
          "metadata": {
            "needs_background": "light"
          }
        }
      ],
      "source": [
        "y_true_test = y_test_undersample.values.ravel()\n",
        "# y_true_test = y_test.values.ravel()\n",
        "measurement(y_true_test, y_test_pred)"
      ]
    }
  ],
  "metadata": {
    "kernelspec": {
      "display_name": "Python 3.8.8 ('pytorch')",
      "language": "python",
      "name": "python3"
    },
    "language_info": {
      "codemirror_mode": {
        "name": "ipython",
        "version": 3
      },
      "file_extension": ".py",
      "mimetype": "text/x-python",
      "name": "python",
      "nbconvert_exporter": "python",
      "pygments_lexer": "ipython3",
      "version": "3.8.8"
    },
    "orig_nbformat": 4,
    "vscode": {
      "interpreter": {
        "hash": "61d7d72412218704c5ba1799d65c7a83b08e24a9ca7847de9a479f6f426633e7"
      }
    },
    "colab": {
      "provenance": [],
      "collapsed_sections": []
    },
    "accelerator": "GPU"
  },
  "nbformat": 4,
  "nbformat_minor": 0
}