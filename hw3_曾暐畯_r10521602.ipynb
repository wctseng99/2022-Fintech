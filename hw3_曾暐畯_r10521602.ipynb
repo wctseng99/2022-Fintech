{
  "cells": [
    {
      "cell_type": "code",
      "execution_count": null,
      "metadata": {
        "id": "ndpTfmuWtv7B"
      },
      "outputs": [],
      "source": [
        "import numpy as np\n",
        "import pandas as pd\n",
        "import matplotlib.pyplot as plt\n",
        "import matplotlib.font_manager as font_manager\n",
        "from sklearn.preprocessing import MinMaxScaler\n",
        "from datetime import datetime\n",
        "import json\n",
        "from pandas import json_normalize\n",
        "import time\n",
        "from sklearn.preprocessing import OneHotEncoder\n",
        "\n",
        "import torch\n",
        "import torch.nn as nn\n",
        "from torch import optim\n",
        "from torch.utils.data import Dataset, DataLoader, TensorDataset\n",
        "\n",
        "# performance measurement\n",
        "from sklearn.metrics import recall_score\n",
        "from sklearn.metrics import classification_report\n",
        "from sklearn.metrics import confusion_matrix\n",
        "from sklearn.metrics import roc_curve\n",
        "from sklearn.metrics import plot_roc_curve\n",
        "from sklearn.metrics import precision_recall_curve\n",
        "from sklearn.metrics import auc"
      ]
    },
    {
      "cell_type": "code",
      "execution_count": null,
      "metadata": {
        "colab": {
          "base_uri": "https://localhost:8080/"
        },
        "id": "_ALRBVlluTUa",
        "outputId": "396cde3f-c1da-4abb-fbaa-63f4946aa39b"
      },
      "outputs": [
        {
          "output_type": "stream",
          "name": "stdout",
          "text": [
            "/usr/local/lib/python3.7/dist-packages/gdown/cli.py:131: FutureWarning: Option `--id` was deprecated in version 4.3.1 and will be removed in 5.0. You don't need to pass it anymore to use a file ID.\n",
            "  category=FutureWarning,\n",
            "Downloading...\n",
            "From: https://drive.google.com/uc?id=1-s_IZkanUXeB6hB0vWHCI5BJJOo_G7Zq\n",
            "To: /content/impression.json\n",
            "100% 109M/109M [00:00<00:00, 281MB/s] \n",
            "/usr/local/lib/python3.7/dist-packages/gdown/cli.py:131: FutureWarning: Option `--id` was deprecated in version 4.3.1 and will be removed in 5.0. You don't need to pass it anymore to use a file ID.\n",
            "  category=FutureWarning,\n",
            "Downloading...\n",
            "From: https://drive.google.com/uc?id=1q53LOwMnl__QhrWIxCfXT0VQF3t2FP5A\n",
            "To: /content/news_list.csv\n",
            "100% 5.49M/5.49M [00:00<00:00, 248MB/s]\n"
          ]
        }
      ],
      "source": [
        "!gdown --id '1-s_IZkanUXeB6hB0vWHCI5BJJOo_G7Zq' --output impression.json\n",
        "!gdown --id '1q53LOwMnl__QhrWIxCfXT0VQF3t2FP5A' --output news_list.csv"
      ]
    },
    {
      "cell_type": "code",
      "source": [
        "# check whether gpu is working\n",
        "device = 'cuda' if torch.cuda.is_available() else 'cpu'\n",
        "print(f'Using {device} device')"
      ],
      "metadata": {
        "colab": {
          "base_uri": "https://localhost:8080/"
        },
        "id": "-on7K-VSqrmN",
        "outputId": "589f54a5-abd7-47a9-defc-0c3c468c94d3"
      },
      "execution_count": null,
      "outputs": [
        {
          "output_type": "stream",
          "name": "stdout",
          "text": [
            "Using cpu device\n"
          ]
        }
      ]
    },
    {
      "cell_type": "code",
      "execution_count": null,
      "metadata": {
        "colab": {
          "base_uri": "https://localhost:8080/",
          "height": 424
        },
        "id": "S5Fi77olIIpr",
        "outputId": "9c1260a3-f53f-498c-b7c5-ca84d32a944d"
      },
      "outputs": [
        {
          "output_type": "execute_result",
          "data": {
            "text/plain": [
              "        token     impression_time  news_index_encode  \\\n",
              "0          11 2022-08-01 11:00:00                643   \n",
              "1          11 2022-08-01 14:00:00                732   \n",
              "2          11 2022-08-01 19:00:00               1015   \n",
              "3          11 2022-08-01 20:00:00               1042   \n",
              "4          11 2022-08-01 20:00:00               1068   \n",
              "...       ...                 ...                ...   \n",
              "150018  63274 2022-08-10 14:00:00               5377   \n",
              "150019  63274 2022-08-10 15:00:00               5399   \n",
              "150020  63274 2022-08-10 16:00:00               5468   \n",
              "150021  63274 2022-08-10 17:00:00               5531   \n",
              "150022  63274 2022-08-10 19:00:00               5641   \n",
              "\n",
              "                                       target_news_onehot all_click_seq  \\\n",
              "0       [0, 0, 0, 0, 0, 0, 0, 0, 0, 1, 0, 0, 0, 0, 0, ...            []   \n",
              "1       [0, 0, 0, 1, 0, 0, 0, 0, 0, 0, 0, 0, 0, 0, 0, ...            []   \n",
              "2       [0, 0, 0, 1, 0, 0, 0, 0, 0, 0, 0, 0, 0, 0, 0, ...            []   \n",
              "3       [0, 0, 1, 0, 0, 0, 0, 0, 0, 0, 0, 0, 0, 0, 0, ...            []   \n",
              "4       [0, 0, 0, 0, 0, 0, 0, 0, 0, 1, 0, 0, 0, 0, 0, ...            []   \n",
              "...                                                   ...           ...   \n",
              "150018  [0, 0, 0, 0, 0, 0, 0, 0, 0, 1, 0, 0, 0, 0, 0, ...            []   \n",
              "150019  [0, 0, 1, 0, 0, 0, 0, 0, 0, 0, 0, 0, 0, 0, 0, ...            []   \n",
              "150020  [0, 0, 1, 0, 0, 0, 0, 0, 0, 0, 0, 0, 0, 0, 0, ...            []   \n",
              "150021  [0, 0, 1, 0, 0, 0, 0, 0, 0, 0, 0, 0, 0, 0, 0, ...            []   \n",
              "150022  [0, 0, 1, 0, 0, 0, 0, 0, 0, 0, 0, 0, 0, 0, 0, ...            []   \n",
              "\n",
              "       click_seq_10                                click_seq_10_onehot  y  \n",
              "0                []  [[0, 0, 0, 0, 0, 0, 0, 0, 0, 0, 0, 0, 0, 0, 0,...  0  \n",
              "1                []  [[0, 0, 0, 0, 0, 0, 0, 0, 0, 0, 0, 0, 0, 0, 0,...  0  \n",
              "2                []  [[0, 0, 0, 0, 0, 0, 0, 0, 0, 0, 0, 0, 0, 0, 0,...  0  \n",
              "3                []  [[0, 0, 0, 0, 0, 0, 0, 0, 0, 0, 0, 0, 0, 0, 0,...  0  \n",
              "4                []  [[0, 0, 0, 0, 0, 0, 0, 0, 0, 0, 0, 0, 0, 0, 0,...  0  \n",
              "...             ...                                                ... ..  \n",
              "150018           []  [[0, 0, 0, 0, 0, 0, 0, 0, 0, 0, 0, 0, 0, 0, 0,...  0  \n",
              "150019           []  [[0, 0, 0, 0, 0, 0, 0, 0, 0, 0, 0, 0, 0, 0, 0,...  0  \n",
              "150020           []  [[0, 0, 0, 0, 0, 0, 0, 0, 0, 0, 0, 0, 0, 0, 0,...  0  \n",
              "150021           []  [[0, 0, 0, 0, 0, 0, 0, 0, 0, 0, 0, 0, 0, 0, 0,...  0  \n",
              "150022           []  [[0, 0, 0, 0, 0, 0, 0, 0, 0, 0, 0, 0, 0, 0, 0,...  0  \n",
              "\n",
              "[150023 rows x 8 columns]"
            ],
            "text/html": [
              "\n",
              "  <div id=\"df-53ccd0e5-c9ad-47be-ad39-295bbc9cfd14\">\n",
              "    <div class=\"colab-df-container\">\n",
              "      <div>\n",
              "<style scoped>\n",
              "    .dataframe tbody tr th:only-of-type {\n",
              "        vertical-align: middle;\n",
              "    }\n",
              "\n",
              "    .dataframe tbody tr th {\n",
              "        vertical-align: top;\n",
              "    }\n",
              "\n",
              "    .dataframe thead th {\n",
              "        text-align: right;\n",
              "    }\n",
              "</style>\n",
              "<table border=\"1\" class=\"dataframe\">\n",
              "  <thead>\n",
              "    <tr style=\"text-align: right;\">\n",
              "      <th></th>\n",
              "      <th>token</th>\n",
              "      <th>impression_time</th>\n",
              "      <th>news_index_encode</th>\n",
              "      <th>target_news_onehot</th>\n",
              "      <th>all_click_seq</th>\n",
              "      <th>click_seq_10</th>\n",
              "      <th>click_seq_10_onehot</th>\n",
              "      <th>y</th>\n",
              "    </tr>\n",
              "  </thead>\n",
              "  <tbody>\n",
              "    <tr>\n",
              "      <th>0</th>\n",
              "      <td>11</td>\n",
              "      <td>2022-08-01 11:00:00</td>\n",
              "      <td>643</td>\n",
              "      <td>[0, 0, 0, 0, 0, 0, 0, 0, 0, 1, 0, 0, 0, 0, 0, ...</td>\n",
              "      <td>[]</td>\n",
              "      <td>[]</td>\n",
              "      <td>[[0, 0, 0, 0, 0, 0, 0, 0, 0, 0, 0, 0, 0, 0, 0,...</td>\n",
              "      <td>0</td>\n",
              "    </tr>\n",
              "    <tr>\n",
              "      <th>1</th>\n",
              "      <td>11</td>\n",
              "      <td>2022-08-01 14:00:00</td>\n",
              "      <td>732</td>\n",
              "      <td>[0, 0, 0, 1, 0, 0, 0, 0, 0, 0, 0, 0, 0, 0, 0, ...</td>\n",
              "      <td>[]</td>\n",
              "      <td>[]</td>\n",
              "      <td>[[0, 0, 0, 0, 0, 0, 0, 0, 0, 0, 0, 0, 0, 0, 0,...</td>\n",
              "      <td>0</td>\n",
              "    </tr>\n",
              "    <tr>\n",
              "      <th>2</th>\n",
              "      <td>11</td>\n",
              "      <td>2022-08-01 19:00:00</td>\n",
              "      <td>1015</td>\n",
              "      <td>[0, 0, 0, 1, 0, 0, 0, 0, 0, 0, 0, 0, 0, 0, 0, ...</td>\n",
              "      <td>[]</td>\n",
              "      <td>[]</td>\n",
              "      <td>[[0, 0, 0, 0, 0, 0, 0, 0, 0, 0, 0, 0, 0, 0, 0,...</td>\n",
              "      <td>0</td>\n",
              "    </tr>\n",
              "    <tr>\n",
              "      <th>3</th>\n",
              "      <td>11</td>\n",
              "      <td>2022-08-01 20:00:00</td>\n",
              "      <td>1042</td>\n",
              "      <td>[0, 0, 1, 0, 0, 0, 0, 0, 0, 0, 0, 0, 0, 0, 0, ...</td>\n",
              "      <td>[]</td>\n",
              "      <td>[]</td>\n",
              "      <td>[[0, 0, 0, 0, 0, 0, 0, 0, 0, 0, 0, 0, 0, 0, 0,...</td>\n",
              "      <td>0</td>\n",
              "    </tr>\n",
              "    <tr>\n",
              "      <th>4</th>\n",
              "      <td>11</td>\n",
              "      <td>2022-08-01 20:00:00</td>\n",
              "      <td>1068</td>\n",
              "      <td>[0, 0, 0, 0, 0, 0, 0, 0, 0, 1, 0, 0, 0, 0, 0, ...</td>\n",
              "      <td>[]</td>\n",
              "      <td>[]</td>\n",
              "      <td>[[0, 0, 0, 0, 0, 0, 0, 0, 0, 0, 0, 0, 0, 0, 0,...</td>\n",
              "      <td>0</td>\n",
              "    </tr>\n",
              "    <tr>\n",
              "      <th>...</th>\n",
              "      <td>...</td>\n",
              "      <td>...</td>\n",
              "      <td>...</td>\n",
              "      <td>...</td>\n",
              "      <td>...</td>\n",
              "      <td>...</td>\n",
              "      <td>...</td>\n",
              "      <td>...</td>\n",
              "    </tr>\n",
              "    <tr>\n",
              "      <th>150018</th>\n",
              "      <td>63274</td>\n",
              "      <td>2022-08-10 14:00:00</td>\n",
              "      <td>5377</td>\n",
              "      <td>[0, 0, 0, 0, 0, 0, 0, 0, 0, 1, 0, 0, 0, 0, 0, ...</td>\n",
              "      <td>[]</td>\n",
              "      <td>[]</td>\n",
              "      <td>[[0, 0, 0, 0, 0, 0, 0, 0, 0, 0, 0, 0, 0, 0, 0,...</td>\n",
              "      <td>0</td>\n",
              "    </tr>\n",
              "    <tr>\n",
              "      <th>150019</th>\n",
              "      <td>63274</td>\n",
              "      <td>2022-08-10 15:00:00</td>\n",
              "      <td>5399</td>\n",
              "      <td>[0, 0, 1, 0, 0, 0, 0, 0, 0, 0, 0, 0, 0, 0, 0, ...</td>\n",
              "      <td>[]</td>\n",
              "      <td>[]</td>\n",
              "      <td>[[0, 0, 0, 0, 0, 0, 0, 0, 0, 0, 0, 0, 0, 0, 0,...</td>\n",
              "      <td>0</td>\n",
              "    </tr>\n",
              "    <tr>\n",
              "      <th>150020</th>\n",
              "      <td>63274</td>\n",
              "      <td>2022-08-10 16:00:00</td>\n",
              "      <td>5468</td>\n",
              "      <td>[0, 0, 1, 0, 0, 0, 0, 0, 0, 0, 0, 0, 0, 0, 0, ...</td>\n",
              "      <td>[]</td>\n",
              "      <td>[]</td>\n",
              "      <td>[[0, 0, 0, 0, 0, 0, 0, 0, 0, 0, 0, 0, 0, 0, 0,...</td>\n",
              "      <td>0</td>\n",
              "    </tr>\n",
              "    <tr>\n",
              "      <th>150021</th>\n",
              "      <td>63274</td>\n",
              "      <td>2022-08-10 17:00:00</td>\n",
              "      <td>5531</td>\n",
              "      <td>[0, 0, 1, 0, 0, 0, 0, 0, 0, 0, 0, 0, 0, 0, 0, ...</td>\n",
              "      <td>[]</td>\n",
              "      <td>[]</td>\n",
              "      <td>[[0, 0, 0, 0, 0, 0, 0, 0, 0, 0, 0, 0, 0, 0, 0,...</td>\n",
              "      <td>0</td>\n",
              "    </tr>\n",
              "    <tr>\n",
              "      <th>150022</th>\n",
              "      <td>63274</td>\n",
              "      <td>2022-08-10 19:00:00</td>\n",
              "      <td>5641</td>\n",
              "      <td>[0, 0, 1, 0, 0, 0, 0, 0, 0, 0, 0, 0, 0, 0, 0, ...</td>\n",
              "      <td>[]</td>\n",
              "      <td>[]</td>\n",
              "      <td>[[0, 0, 0, 0, 0, 0, 0, 0, 0, 0, 0, 0, 0, 0, 0,...</td>\n",
              "      <td>0</td>\n",
              "    </tr>\n",
              "  </tbody>\n",
              "</table>\n",
              "<p>150023 rows × 8 columns</p>\n",
              "</div>\n",
              "      <button class=\"colab-df-convert\" onclick=\"convertToInteractive('df-53ccd0e5-c9ad-47be-ad39-295bbc9cfd14')\"\n",
              "              title=\"Convert this dataframe to an interactive table.\"\n",
              "              style=\"display:none;\">\n",
              "        \n",
              "  <svg xmlns=\"http://www.w3.org/2000/svg\" height=\"24px\"viewBox=\"0 0 24 24\"\n",
              "       width=\"24px\">\n",
              "    <path d=\"M0 0h24v24H0V0z\" fill=\"none\"/>\n",
              "    <path d=\"M18.56 5.44l.94 2.06.94-2.06 2.06-.94-2.06-.94-.94-2.06-.94 2.06-2.06.94zm-11 1L8.5 8.5l.94-2.06 2.06-.94-2.06-.94L8.5 2.5l-.94 2.06-2.06.94zm10 10l.94 2.06.94-2.06 2.06-.94-2.06-.94-.94-2.06-.94 2.06-2.06.94z\"/><path d=\"M17.41 7.96l-1.37-1.37c-.4-.4-.92-.59-1.43-.59-.52 0-1.04.2-1.43.59L10.3 9.45l-7.72 7.72c-.78.78-.78 2.05 0 2.83L4 21.41c.39.39.9.59 1.41.59.51 0 1.02-.2 1.41-.59l7.78-7.78 2.81-2.81c.8-.78.8-2.07 0-2.86zM5.41 20L4 18.59l7.72-7.72 1.47 1.35L5.41 20z\"/>\n",
              "  </svg>\n",
              "      </button>\n",
              "      \n",
              "  <style>\n",
              "    .colab-df-container {\n",
              "      display:flex;\n",
              "      flex-wrap:wrap;\n",
              "      gap: 12px;\n",
              "    }\n",
              "\n",
              "    .colab-df-convert {\n",
              "      background-color: #E8F0FE;\n",
              "      border: none;\n",
              "      border-radius: 50%;\n",
              "      cursor: pointer;\n",
              "      display: none;\n",
              "      fill: #1967D2;\n",
              "      height: 32px;\n",
              "      padding: 0 0 0 0;\n",
              "      width: 32px;\n",
              "    }\n",
              "\n",
              "    .colab-df-convert:hover {\n",
              "      background-color: #E2EBFA;\n",
              "      box-shadow: 0px 1px 2px rgba(60, 64, 67, 0.3), 0px 1px 3px 1px rgba(60, 64, 67, 0.15);\n",
              "      fill: #174EA6;\n",
              "    }\n",
              "\n",
              "    [theme=dark] .colab-df-convert {\n",
              "      background-color: #3B4455;\n",
              "      fill: #D2E3FC;\n",
              "    }\n",
              "\n",
              "    [theme=dark] .colab-df-convert:hover {\n",
              "      background-color: #434B5C;\n",
              "      box-shadow: 0px 1px 3px 1px rgba(0, 0, 0, 0.15);\n",
              "      filter: drop-shadow(0px 1px 2px rgba(0, 0, 0, 0.3));\n",
              "      fill: #FFFFFF;\n",
              "    }\n",
              "  </style>\n",
              "\n",
              "      <script>\n",
              "        const buttonEl =\n",
              "          document.querySelector('#df-53ccd0e5-c9ad-47be-ad39-295bbc9cfd14 button.colab-df-convert');\n",
              "        buttonEl.style.display =\n",
              "          google.colab.kernel.accessAllowed ? 'block' : 'none';\n",
              "\n",
              "        async function convertToInteractive(key) {\n",
              "          const element = document.querySelector('#df-53ccd0e5-c9ad-47be-ad39-295bbc9cfd14');\n",
              "          const dataTable =\n",
              "            await google.colab.kernel.invokeFunction('convertToInteractive',\n",
              "                                                     [key], {});\n",
              "          if (!dataTable) return;\n",
              "\n",
              "          const docLinkHtml = 'Like what you see? Visit the ' +\n",
              "            '<a target=\"_blank\" href=https://colab.research.google.com/notebooks/data_table.ipynb>data table notebook</a>'\n",
              "            + ' to learn more about interactive tables.';\n",
              "          element.innerHTML = '';\n",
              "          dataTable['output_type'] = 'display_data';\n",
              "          await google.colab.output.renderOutput(dataTable, element);\n",
              "          const docLink = document.createElement('div');\n",
              "          docLink.innerHTML = docLinkHtml;\n",
              "          element.appendChild(docLink);\n",
              "        }\n",
              "      </script>\n",
              "    </div>\n",
              "  </div>\n",
              "  "
            ]
          },
          "metadata": {},
          "execution_count": 40
        }
      ],
      "source": [
        "impression_df = pd.read_json('/content/impression.json')\n",
        "impression_df"
      ]
    },
    {
      "cell_type": "code",
      "execution_count": null,
      "metadata": {
        "id": "qO2xGhp36z8I"
      },
      "outputs": [],
      "source": [
        "impression_df.set_index('impression_time', inplace=True)"
      ]
    },
    {
      "cell_type": "markdown",
      "source": [
        "\n",
        "### (viii) With the last 3 and 5 click records. Replace this feature with the last 3 and 5 click records."
      ],
      "metadata": {
        "id": "6sA2rtOsETJb"
      }
    },
    {
      "cell_type": "code",
      "source": [
        "click_seq_5_onehot = []\n",
        "click_seq_3_onehot = []\n",
        "\n",
        "for i in range(len(impression_df)):\n",
        "  onehot_5 = []\n",
        "  onehot_3 = []\n",
        "  for j in range(3):\n",
        "    onehot_3.append(impression_df['click_seq_10_onehot'][i][7+j])\n",
        "  for j in range(5):\n",
        "    onehot_5.append(impression_df['click_seq_10_onehot'][i][5+j])\n",
        "\n",
        "  click_seq_5_onehot.append(onehot_5)\n",
        "  click_seq_3_onehot.append(onehot_3)"
      ],
      "metadata": {
        "id": "Yc2SWT9sEOMD"
      },
      "execution_count": null,
      "outputs": []
    },
    {
      "cell_type": "code",
      "source": [
        "impression_df['click_seq_5_onehot'] = click_seq_5_onehot\n",
        "impression_df['click_seq_3_onehot'] = click_seq_3_onehot"
      ],
      "metadata": {
        "id": "SZ8_es2hEIMp"
      },
      "execution_count": null,
      "outputs": []
    },
    {
      "cell_type": "markdown",
      "metadata": {
        "id": "HXBegoytOVZF"
      },
      "source": [
        "### (i) Split the impression dataset from 2022/08/01-2022/08/07 as the training part, the data from 2022/08/08-2022/08/09 as the validation part, and the data from 2022/08/10 as the test part."
      ]
    },
    {
      "cell_type": "code",
      "execution_count": null,
      "metadata": {
        "colab": {
          "base_uri": "https://localhost:8080/"
        },
        "id": "CMg7RVKL_d1w",
        "outputId": "16c74dff-45bb-49ef-8e89-237c33b11220"
      },
      "outputs": [
        {
          "output_type": "stream",
          "name": "stderr",
          "text": [
            "/usr/local/lib/python3.7/dist-packages/ipykernel_launcher.py:1: FutureWarning: Value based partial slicing on non-monotonic DatetimeIndexes with non-existing keys is deprecated and will raise a KeyError in a future Version.\n",
            "  \"\"\"Entry point for launching an IPython kernel.\n"
          ]
        }
      ],
      "source": [
        "df_train = impression_df['2022-08-01':'2022-08-07']\n",
        "df_val = impression_df['2022-08-08':'2022-08-09']\n",
        "df_test = impression_df['2022-08-10':]"
      ]
    },
    {
      "cell_type": "code",
      "source": [
        "df_train = df_train.reset_index()"
      ],
      "metadata": {
        "id": "Zo4BflQn5wOZ"
      },
      "execution_count": null,
      "outputs": []
    },
    {
      "cell_type": "markdown",
      "source": [
        "### Undersample"
      ],
      "metadata": {
        "id": "jm7xtYU6umYi"
      }
    },
    {
      "cell_type": "code",
      "source": [
        "number_click = len(df_train[df_train.y==1])\n",
        "click_indices = np.array(df_train[df_train.y==1].index)\n",
        "normal_indices = np.array(df_train[df_train.y==0].index)\n",
        "\n",
        "random_normal_indices = np.random.choice(normal_indices, number_click, replace = False)\n",
        "under_sample_indices = np.concatenate([click_indices, random_normal_indices])\n",
        "df_train = df_train.iloc[under_sample_indices,:]\n",
        "df_train.set_index('impression_time', inplace=True)\n",
        "df_train = df_train.sort_index()"
      ],
      "metadata": {
        "id": "-uOdJzPE34iX"
      },
      "execution_count": null,
      "outputs": []
    },
    {
      "cell_type": "markdown",
      "metadata": {
        "id": "JM17aj6bO80O"
      },
      "source": [
        "### (ii)  Construct a click prediction model with a bidirectional-LSTM cell for predicting the probability of click according to the binary cross entropy."
      ]
    },
    {
      "cell_type": "code",
      "execution_count": null,
      "metadata": {
        "id": "IUBlYJHlZZGK"
      },
      "outputs": [],
      "source": [
        "def concate_data(data):\n",
        "  concatList = []\n",
        "  for i in range(len(data)):\n",
        "  #   data['click_seq_10_onehot'][i].append(data['target_news_onehot'][i])\n",
        "  # df_modified = pd.DataFrame({'input':data['click_seq_10_onehot'], 'y':data['y']})\n",
        "  #     data['click_seq_5_onehot'][i].append(data['target_news_onehot'][i])\n",
        "  # df_modified = pd.DataFrame({'input':data['click_seq_5_onehot'], 'y':data['y']})\n",
        "      data['click_seq_3_onehot'][i].append(data['target_news_onehot'][i])\n",
        "  df_modified = pd.DataFrame({'input':data['click_seq_3_onehot'], 'y':data['y']})\n",
        "  # print(concatList)\n",
        "  return df_modified"
      ]
    },
    {
      "cell_type": "code",
      "execution_count": null,
      "metadata": {
        "id": "72i-djqEUE84"
      },
      "outputs": [],
      "source": [
        "df_train = concate_data(df_train)\n",
        "df_val = concate_data(df_val)\n",
        "df_test = concate_data(df_test)"
      ]
    },
    {
      "cell_type": "code",
      "execution_count": null,
      "metadata": {
        "colab": {
          "base_uri": "https://localhost:8080/"
        },
        "id": "p6hMIejHlhkH",
        "outputId": "5280368d-2440-4fcb-ab3c-28c5891bc62f"
      },
      "outputs": [
        {
          "output_type": "execute_result",
          "data": {
            "text/plain": [
              "27"
            ]
          },
          "metadata": {},
          "execution_count": 49
        }
      ],
      "source": [
        "len(df_train['input'][0][1])"
      ]
    },
    {
      "cell_type": "code",
      "execution_count": null,
      "metadata": {
        "colab": {
          "base_uri": "https://localhost:8080/",
          "height": 455
        },
        "id": "vIfmXQnmlz3G",
        "outputId": "abb59551-cbe1-4138-fce5-f21d789bcdf2"
      },
      "outputs": [
        {
          "output_type": "execute_result",
          "data": {
            "text/plain": [
              "                                                                 input  y\n",
              "impression_time                                                          \n",
              "2022-08-01 10:00:00  [[0, 0, 0, 0, 0, 0, 0, 0, 0, 0, 0, 0, 0, 0, 0,...  1\n",
              "2022-08-01 11:00:00  [[0, 0, 0, 0, 0, 0, 0, 0, 0, 0, 0, 0, 0, 0, 0,...  1\n",
              "2022-08-01 11:00:00  [[0, 0, 0, 0, 0, 0, 0, 0, 0, 0, 0, 0, 0, 0, 0,...  1\n",
              "2022-08-01 11:00:00  [[0, 0, 0, 0, 0, 0, 0, 0, 0, 0, 0, 0, 0, 0, 0,...  1\n",
              "2022-08-01 11:00:00  [[0, 0, 0, 0, 0, 0, 0, 0, 0, 0, 0, 0, 0, 0, 0,...  1\n",
              "...                                                                ... ..\n",
              "2022-08-07 22:00:00  [[0, 0, 0, 1, 0, 0, 0, 0, 0, 0, 0, 0, 0, 0, 0,...  1\n",
              "2022-08-07 22:00:00  [[0, 0, 0, 0, 0, 0, 0, 0, 0, 0, 0, 0, 0, 0, 0,...  1\n",
              "2022-08-07 22:00:00  [[0, 0, 0, 0, 0, 0, 0, 0, 0, 0, 0, 0, 0, 0, 0,...  0\n",
              "2022-08-07 23:00:00  [[0, 0, 1, 0, 0, 0, 0, 0, 0, 0, 0, 0, 0, 0, 0,...  0\n",
              "2022-08-07 23:00:00  [[0, 0, 0, 0, 0, 0, 0, 0, 0, 0, 0, 0, 0, 0, 0,...  0\n",
              "\n",
              "[2234 rows x 2 columns]"
            ],
            "text/html": [
              "\n",
              "  <div id=\"df-b9ba8d0e-4cf3-4511-918f-56c6d2b44720\">\n",
              "    <div class=\"colab-df-container\">\n",
              "      <div>\n",
              "<style scoped>\n",
              "    .dataframe tbody tr th:only-of-type {\n",
              "        vertical-align: middle;\n",
              "    }\n",
              "\n",
              "    .dataframe tbody tr th {\n",
              "        vertical-align: top;\n",
              "    }\n",
              "\n",
              "    .dataframe thead th {\n",
              "        text-align: right;\n",
              "    }\n",
              "</style>\n",
              "<table border=\"1\" class=\"dataframe\">\n",
              "  <thead>\n",
              "    <tr style=\"text-align: right;\">\n",
              "      <th></th>\n",
              "      <th>input</th>\n",
              "      <th>y</th>\n",
              "    </tr>\n",
              "    <tr>\n",
              "      <th>impression_time</th>\n",
              "      <th></th>\n",
              "      <th></th>\n",
              "    </tr>\n",
              "  </thead>\n",
              "  <tbody>\n",
              "    <tr>\n",
              "      <th>2022-08-01 10:00:00</th>\n",
              "      <td>[[0, 0, 0, 0, 0, 0, 0, 0, 0, 0, 0, 0, 0, 0, 0,...</td>\n",
              "      <td>1</td>\n",
              "    </tr>\n",
              "    <tr>\n",
              "      <th>2022-08-01 11:00:00</th>\n",
              "      <td>[[0, 0, 0, 0, 0, 0, 0, 0, 0, 0, 0, 0, 0, 0, 0,...</td>\n",
              "      <td>1</td>\n",
              "    </tr>\n",
              "    <tr>\n",
              "      <th>2022-08-01 11:00:00</th>\n",
              "      <td>[[0, 0, 0, 0, 0, 0, 0, 0, 0, 0, 0, 0, 0, 0, 0,...</td>\n",
              "      <td>1</td>\n",
              "    </tr>\n",
              "    <tr>\n",
              "      <th>2022-08-01 11:00:00</th>\n",
              "      <td>[[0, 0, 0, 0, 0, 0, 0, 0, 0, 0, 0, 0, 0, 0, 0,...</td>\n",
              "      <td>1</td>\n",
              "    </tr>\n",
              "    <tr>\n",
              "      <th>2022-08-01 11:00:00</th>\n",
              "      <td>[[0, 0, 0, 0, 0, 0, 0, 0, 0, 0, 0, 0, 0, 0, 0,...</td>\n",
              "      <td>1</td>\n",
              "    </tr>\n",
              "    <tr>\n",
              "      <th>...</th>\n",
              "      <td>...</td>\n",
              "      <td>...</td>\n",
              "    </tr>\n",
              "    <tr>\n",
              "      <th>2022-08-07 22:00:00</th>\n",
              "      <td>[[0, 0, 0, 1, 0, 0, 0, 0, 0, 0, 0, 0, 0, 0, 0,...</td>\n",
              "      <td>1</td>\n",
              "    </tr>\n",
              "    <tr>\n",
              "      <th>2022-08-07 22:00:00</th>\n",
              "      <td>[[0, 0, 0, 0, 0, 0, 0, 0, 0, 0, 0, 0, 0, 0, 0,...</td>\n",
              "      <td>1</td>\n",
              "    </tr>\n",
              "    <tr>\n",
              "      <th>2022-08-07 22:00:00</th>\n",
              "      <td>[[0, 0, 0, 0, 0, 0, 0, 0, 0, 0, 0, 0, 0, 0, 0,...</td>\n",
              "      <td>0</td>\n",
              "    </tr>\n",
              "    <tr>\n",
              "      <th>2022-08-07 23:00:00</th>\n",
              "      <td>[[0, 0, 1, 0, 0, 0, 0, 0, 0, 0, 0, 0, 0, 0, 0,...</td>\n",
              "      <td>0</td>\n",
              "    </tr>\n",
              "    <tr>\n",
              "      <th>2022-08-07 23:00:00</th>\n",
              "      <td>[[0, 0, 0, 0, 0, 0, 0, 0, 0, 0, 0, 0, 0, 0, 0,...</td>\n",
              "      <td>0</td>\n",
              "    </tr>\n",
              "  </tbody>\n",
              "</table>\n",
              "<p>2234 rows × 2 columns</p>\n",
              "</div>\n",
              "      <button class=\"colab-df-convert\" onclick=\"convertToInteractive('df-b9ba8d0e-4cf3-4511-918f-56c6d2b44720')\"\n",
              "              title=\"Convert this dataframe to an interactive table.\"\n",
              "              style=\"display:none;\">\n",
              "        \n",
              "  <svg xmlns=\"http://www.w3.org/2000/svg\" height=\"24px\"viewBox=\"0 0 24 24\"\n",
              "       width=\"24px\">\n",
              "    <path d=\"M0 0h24v24H0V0z\" fill=\"none\"/>\n",
              "    <path d=\"M18.56 5.44l.94 2.06.94-2.06 2.06-.94-2.06-.94-.94-2.06-.94 2.06-2.06.94zm-11 1L8.5 8.5l.94-2.06 2.06-.94-2.06-.94L8.5 2.5l-.94 2.06-2.06.94zm10 10l.94 2.06.94-2.06 2.06-.94-2.06-.94-.94-2.06-.94 2.06-2.06.94z\"/><path d=\"M17.41 7.96l-1.37-1.37c-.4-.4-.92-.59-1.43-.59-.52 0-1.04.2-1.43.59L10.3 9.45l-7.72 7.72c-.78.78-.78 2.05 0 2.83L4 21.41c.39.39.9.59 1.41.59.51 0 1.02-.2 1.41-.59l7.78-7.78 2.81-2.81c.8-.78.8-2.07 0-2.86zM5.41 20L4 18.59l7.72-7.72 1.47 1.35L5.41 20z\"/>\n",
              "  </svg>\n",
              "      </button>\n",
              "      \n",
              "  <style>\n",
              "    .colab-df-container {\n",
              "      display:flex;\n",
              "      flex-wrap:wrap;\n",
              "      gap: 12px;\n",
              "    }\n",
              "\n",
              "    .colab-df-convert {\n",
              "      background-color: #E8F0FE;\n",
              "      border: none;\n",
              "      border-radius: 50%;\n",
              "      cursor: pointer;\n",
              "      display: none;\n",
              "      fill: #1967D2;\n",
              "      height: 32px;\n",
              "      padding: 0 0 0 0;\n",
              "      width: 32px;\n",
              "    }\n",
              "\n",
              "    .colab-df-convert:hover {\n",
              "      background-color: #E2EBFA;\n",
              "      box-shadow: 0px 1px 2px rgba(60, 64, 67, 0.3), 0px 1px 3px 1px rgba(60, 64, 67, 0.15);\n",
              "      fill: #174EA6;\n",
              "    }\n",
              "\n",
              "    [theme=dark] .colab-df-convert {\n",
              "      background-color: #3B4455;\n",
              "      fill: #D2E3FC;\n",
              "    }\n",
              "\n",
              "    [theme=dark] .colab-df-convert:hover {\n",
              "      background-color: #434B5C;\n",
              "      box-shadow: 0px 1px 3px 1px rgba(0, 0, 0, 0.15);\n",
              "      filter: drop-shadow(0px 1px 2px rgba(0, 0, 0, 0.3));\n",
              "      fill: #FFFFFF;\n",
              "    }\n",
              "  </style>\n",
              "\n",
              "      <script>\n",
              "        const buttonEl =\n",
              "          document.querySelector('#df-b9ba8d0e-4cf3-4511-918f-56c6d2b44720 button.colab-df-convert');\n",
              "        buttonEl.style.display =\n",
              "          google.colab.kernel.accessAllowed ? 'block' : 'none';\n",
              "\n",
              "        async function convertToInteractive(key) {\n",
              "          const element = document.querySelector('#df-b9ba8d0e-4cf3-4511-918f-56c6d2b44720');\n",
              "          const dataTable =\n",
              "            await google.colab.kernel.invokeFunction('convertToInteractive',\n",
              "                                                     [key], {});\n",
              "          if (!dataTable) return;\n",
              "\n",
              "          const docLinkHtml = 'Like what you see? Visit the ' +\n",
              "            '<a target=\"_blank\" href=https://colab.research.google.com/notebooks/data_table.ipynb>data table notebook</a>'\n",
              "            + ' to learn more about interactive tables.';\n",
              "          element.innerHTML = '';\n",
              "          dataTable['output_type'] = 'display_data';\n",
              "          await google.colab.output.renderOutput(dataTable, element);\n",
              "          const docLink = document.createElement('div');\n",
              "          docLink.innerHTML = docLinkHtml;\n",
              "          element.appendChild(docLink);\n",
              "        }\n",
              "      </script>\n",
              "    </div>\n",
              "  </div>\n",
              "  "
            ]
          },
          "metadata": {},
          "execution_count": 50
        }
      ],
      "source": [
        "df_train"
      ]
    },
    {
      "cell_type": "code",
      "execution_count": null,
      "metadata": {
        "colab": {
          "base_uri": "https://localhost:8080/"
        },
        "id": "UMIgAeOC9fQx",
        "outputId": "f142b506-26eb-4a54-a0df-fdf7fbb626e5"
      },
      "outputs": [
        {
          "output_type": "execute_result",
          "data": {
            "text/plain": [
              "pandas.core.series.Series"
            ]
          },
          "metadata": {},
          "execution_count": 51
        }
      ],
      "source": [
        "type(df_train['input'])"
      ]
    },
    {
      "cell_type": "code",
      "source": [
        "type(df_train['input'][0])"
      ],
      "metadata": {
        "colab": {
          "base_uri": "https://localhost:8080/"
        },
        "id": "wY9zwHIoxntN",
        "outputId": "4753beec-f98d-4045-aafc-35b10fd7f3f8"
      },
      "execution_count": null,
      "outputs": [
        {
          "output_type": "execute_result",
          "data": {
            "text/plain": [
              "list"
            ]
          },
          "metadata": {},
          "execution_count": 52
        }
      ]
    },
    {
      "cell_type": "code",
      "execution_count": null,
      "metadata": {
        "id": "azr6bT06RGEn"
      },
      "outputs": [],
      "source": [
        "x_train = df_train['input']\n",
        "x_val = df_val['input']\n",
        "x_test = df_test['input']\n",
        "\n",
        "y_train = df_train['y']\n",
        "y_val = df_val['y']\n",
        "y_test = df_test['y']"
      ]
    },
    {
      "cell_type": "code",
      "execution_count": null,
      "metadata": {
        "colab": {
          "base_uri": "https://localhost:8080/"
        },
        "id": "oHDefi_jBI0Q",
        "outputId": "5ec652a8-6f73-444e-e14a-f2751ad76e98"
      },
      "outputs": [
        {
          "output_type": "execute_result",
          "data": {
            "text/plain": [
              "impression_time\n",
              "2022-08-01 10:00:00    [[0, 0, 0, 0, 0, 0, 0, 0, 0, 0, 0, 0, 0, 0, 0,...\n",
              "2022-08-01 11:00:00    [[0, 0, 0, 0, 0, 0, 0, 0, 0, 0, 0, 0, 0, 0, 0,...\n",
              "2022-08-01 11:00:00    [[0, 0, 0, 0, 0, 0, 0, 0, 0, 0, 0, 0, 0, 0, 0,...\n",
              "2022-08-01 11:00:00    [[0, 0, 0, 0, 0, 0, 0, 0, 0, 0, 0, 0, 0, 0, 0,...\n",
              "2022-08-01 11:00:00    [[0, 0, 0, 0, 0, 0, 0, 0, 0, 0, 0, 0, 0, 0, 0,...\n",
              "                                             ...                        \n",
              "2022-08-07 22:00:00    [[0, 0, 0, 1, 0, 0, 0, 0, 0, 0, 0, 0, 0, 0, 0,...\n",
              "2022-08-07 22:00:00    [[0, 0, 0, 0, 0, 0, 0, 0, 0, 0, 0, 0, 0, 0, 0,...\n",
              "2022-08-07 22:00:00    [[0, 0, 0, 0, 0, 0, 0, 0, 0, 0, 0, 0, 0, 0, 0,...\n",
              "2022-08-07 23:00:00    [[0, 0, 1, 0, 0, 0, 0, 0, 0, 0, 0, 0, 0, 0, 0,...\n",
              "2022-08-07 23:00:00    [[0, 0, 0, 0, 0, 0, 0, 0, 0, 0, 0, 0, 0, 0, 0,...\n",
              "Name: input, Length: 2234, dtype: object"
            ]
          },
          "metadata": {},
          "execution_count": 54
        }
      ],
      "source": [
        "x_train"
      ]
    },
    {
      "cell_type": "code",
      "execution_count": null,
      "metadata": {
        "id": "67SB9Sf0PauA"
      },
      "outputs": [],
      "source": [
        "class SequenceDataset(Dataset):\n",
        "    def __init__(self, dataframe):\n",
        "        self.dataframe = dataframe\n",
        "\n",
        "    def __getitem__(self, index):\n",
        "        row = self.dataframe.iloc[index]\n",
        "        features = np.array(row[0])\n",
        "        label = np.array(row[1])\n",
        "        return torch.from_numpy(features).float(), torch.from_numpy(label).float()\n",
        "\n",
        "    def __len__(self):\n",
        "        return len(self.dataframe)"
      ]
    },
    {
      "cell_type": "code",
      "execution_count": null,
      "metadata": {
        "id": "EHK2pKbNTgEI"
      },
      "outputs": [],
      "source": [
        "\n",
        "train_dataset = SequenceDataset(\n",
        "    df_train\n",
        ")\n",
        "\n",
        "val_dataset= SequenceDataset(\n",
        "    df_val\n",
        ")\n",
        "\n",
        "test_dataset= SequenceDataset(\n",
        "    df_test\n",
        ")"
      ]
    },
    {
      "cell_type": "code",
      "execution_count": null,
      "metadata": {
        "id": "QM0VCei9TlKn"
      },
      "outputs": [],
      "source": [
        "batch = 8\n",
        "train_loader = DataLoader(train_dataset, batch_size=batch , shuffle=False)\n",
        "val_loader = DataLoader(val_dataset, batch_size=batch , shuffle=False)\n",
        "test_loader = DataLoader(test_dataset, batch_size=batch , shuffle=False)"
      ]
    },
    {
      "cell_type": "code",
      "execution_count": null,
      "metadata": {
        "id": "sr1QqMpMNr-W"
      },
      "outputs": [],
      "source": [
        "class BiRNN(nn.Module):\n",
        "    def __init__(self, input_size=27, hidden_size=64, num_layers=2, num_classes=1):\n",
        "        super(BiRNN, self).__init__()\n",
        "        self.hidden_size = hidden_size\n",
        "        self.num_layers = num_layers\n",
        "        self.lstm = nn.LSTM(input_size, hidden_size, num_layers, batch_first=True, bidirectional=True)\n",
        "        self.fc = nn.Linear(hidden_size*2, num_classes)  # 2 for bidirection\n",
        "    \n",
        "    def forward(self, x):\n",
        "        # Set initial states\n",
        "        h0 = torch.zeros(self.num_layers*2, x.size(0), self.hidden_size).to(device) # 2 for bidirection \n",
        "        c0 = torch.zeros(self.num_layers*2, x.size(0), self.hidden_size).to(device)\n",
        "        \n",
        "        # Forward propagate LSTM\n",
        "        out, _ = self.lstm(x, (h0, c0))  # out: tensor of shape (batch_size, seq_length, hidden_size*2)\n",
        "        \n",
        "        # Decode the hidden state of the last time step\n",
        "        out = self.fc(out[:, -1, :])\n",
        "        out = out.view(-1, 1).squeeze(1)\n",
        "        return out"
      ]
    },
    {
      "cell_type": "code",
      "source": [
        "class BiRNN_GRU(nn.Module):\n",
        "    def __init__(self, input_size=27, hidden_size=64, num_layers=2, num_classes=1):\n",
        "        super(BiRNN_GRU, self).__init__()\n",
        "        self.hidden_size = hidden_size\n",
        "        self.num_layers = num_layers\n",
        "        self.gru = nn.GRU(input_size, hidden_size, num_layers, batch_first=True, bidirectional=True)\n",
        "        self.fc = nn.Linear(hidden_size*2, num_classes)  # 2 for bidirection\n",
        "    \n",
        "    def forward(self, x):\n",
        "        # Set initial states\n",
        "        h0 = torch.zeros(self.num_layers*2, x.size(0), self.hidden_size).to(device) # 2 for bidirection \n",
        "        # c0 = torch.zeros(self.num_layers*2, x.size(0), self.hidden_size).to(device)\n",
        "        \n",
        "        # Forward propagate GRU\n",
        "        out, hn = self.gru(x, h0)  # out: tensor of shape (batch_size, seq_length, hidden_size*2)\n",
        "        \n",
        "        # Decode the hidden state of the last time step\n",
        "        out = self.fc(out[:, -1, :])\n",
        "        out = out.view(-1, 1).squeeze(1)\n",
        "        return out"
      ],
      "metadata": {
        "id": "LAIXcSKX-AgZ"
      },
      "execution_count": null,
      "outputs": []
    },
    {
      "cell_type": "code",
      "source": [
        "class Tranformer(nn.Module):\n",
        "    def __init__(self, input_size=27, hidden_size=64, num_layers=2, num_classes=1):\n",
        "        super(Tranformer, self).__init__()\n",
        "        self.hidden_size = hidden_size\n",
        "        self.num_layers = num_layers\n",
        "        self.transformer = nn.TransformerEncoderLayer(d_model=input_size, nhead=9, batch_first=True)\n",
        "        self.fc = nn.Linear(input_size, num_classes)  # 2 for bidirection\n",
        "    \n",
        "    def forward(self, x):\n",
        "        # Set initial states\n",
        "        # h0 = torch.zeros(self.num_layers*2, x.size(0), self.hidden_size).to(device) # 2 for bidirection \n",
        "        # c0 = torch.zeros(self.num_layers*2, x.size(0), self.hidden_size).to(device)\n",
        "        \n",
        "        # Forward propagate GRU\n",
        "        out = self.transformer(x)  # out: tensor of shape (batch_size, seq_length, hidden_size*2)\n",
        "        \n",
        "        # Decode the hidden state of the last time step\n",
        "        out = self.fc(out[:, -1, :])\n",
        "        out = out.view(-1, 1).squeeze(1)\n",
        "        return out"
      ],
      "metadata": {
        "id": "SAHeH0OzfXLd"
      },
      "execution_count": null,
      "outputs": []
    },
    {
      "cell_type": "code",
      "execution_count": null,
      "metadata": {
        "colab": {
          "base_uri": "https://localhost:8080/"
        },
        "id": "Z0l0tw-I6ijw",
        "outputId": "7d937d06-1fd7-4a9d-c18a-7af511bc7bf4"
      },
      "outputs": [
        {
          "output_type": "stream",
          "name": "stdout",
          "text": [
            "Tranformer(\n",
            "  (transformer): TransformerEncoderLayer(\n",
            "    (self_attn): MultiheadAttention(\n",
            "      (out_proj): NonDynamicallyQuantizableLinear(in_features=27, out_features=27, bias=True)\n",
            "    )\n",
            "    (linear1): Linear(in_features=27, out_features=2048, bias=True)\n",
            "    (dropout): Dropout(p=0.1, inplace=False)\n",
            "    (linear2): Linear(in_features=2048, out_features=27, bias=True)\n",
            "    (norm1): LayerNorm((27,), eps=1e-05, elementwise_affine=True)\n",
            "    (norm2): LayerNorm((27,), eps=1e-05, elementwise_affine=True)\n",
            "    (dropout1): Dropout(p=0.1, inplace=False)\n",
            "    (dropout2): Dropout(p=0.1, inplace=False)\n",
            "  )\n",
            "  (fc): Linear(in_features=27, out_features=1, bias=True)\n",
            ")\n"
          ]
        }
      ],
      "source": [
        "learning_rate = 0.0001\n",
        "model = BiRNN().to(device)\n",
        "# model = BiRNN_GRU().to(device)\n",
        "model = Tranformer().to(device)\n",
        "# loss_fn = torch.nn.CrossEntropyLoss()\n",
        "loss_fn = torch.nn.BCEWithLogitsLoss().to(device)\n",
        "optimizer = optim.Adam(model.parameters(), lr=learning_rate)\n",
        "scheduler = optim.lr_scheduler.CosineAnnealingWarmRestarts(optimizer, T_0=10)\n",
        "print(model)"
      ]
    },
    {
      "cell_type": "code",
      "execution_count": null,
      "metadata": {
        "colab": {
          "base_uri": "https://localhost:8080/"
        },
        "id": "VkSbJozo6k8-",
        "outputId": "7ecf5fac-97c4-4e36-f4bf-f47150c63cb4"
      },
      "outputs": [
        {
          "output_type": "stream",
          "name": "stdout",
          "text": [
            "Untrained test\n",
            "--------\n",
            "Val loss: 0.7292735635457314\n",
            "\n",
            "---------\n",
            "Epoch: 0\n",
            "Train loss: 0.6840910837054253\n",
            "Val loss: 0.779098893579935\n",
            "---------\n",
            "Epoch: 1\n",
            "Train loss: 0.6236649423837661\n",
            "Val loss: 0.7214429980036378\n",
            "save best epoch\n",
            "---------\n",
            "Epoch: 2\n",
            "Train loss: 0.5854902655950615\n",
            "Val loss: 0.642322529683122\n",
            "save best epoch\n",
            "---------\n",
            "Epoch: 3\n",
            "Train loss: 0.574989327415824\n",
            "Val loss: 0.6422435566158601\n",
            "save best epoch\n",
            "---------\n",
            "Epoch: 4\n",
            "Train loss: 0.5670528325119188\n",
            "Val loss: 0.6573874436360497\n",
            "---------\n",
            "Epoch: 5\n",
            "Train loss: 0.5625731801348073\n",
            "Val loss: 0.6720807972247929\n",
            "---------\n",
            "Epoch: 6\n",
            "Train loss: 0.5602504229439157\n",
            "Val loss: 0.6839394391838676\n",
            "---------\n",
            "Epoch: 7\n",
            "Train loss: 0.5543981642063175\n",
            "Val loss: 0.7182445176348118\n",
            "---------\n",
            "Epoch: 8\n",
            "Train loss: 0.5552741008145469\n",
            "Val loss: 0.6872999377416887\n",
            "---------\n",
            "Epoch: 9\n",
            "Train loss: 0.5538033749376025\n",
            "Val loss: 0.7301140454575226\n",
            "---------\n",
            "Epoch: 10\n",
            "Train loss: 0.5540174809949738\n",
            "Val loss: 0.7488826858382707\n",
            "---------\n",
            "Epoch: 11\n",
            "Train loss: 0.5475453654038055\n",
            "Val loss: 0.756141573693638\n",
            "---------\n",
            "Epoch: 12\n",
            "Train loss: 0.5486160575811352\n",
            "Val loss: 0.7621750525394854\n",
            "---------\n",
            "Epoch: 13\n",
            "Train loss: 0.5471202819475106\n",
            "Val loss: 0.7657689633579783\n",
            "---------\n",
            "Epoch: 14\n",
            "Train loss: 0.5455522950206484\n",
            "Val loss: 0.7374966454378276\n",
            "---------\n",
            "Epoch: 15\n",
            "Train loss: 0.5474708286247083\n",
            "Val loss: 0.7727484465186489\n",
            "---------\n",
            "Epoch: 16\n",
            "Train loss: 0.5472031096262592\n",
            "Val loss: 0.7730574205836881\n",
            "---------\n",
            "Epoch: 17\n",
            "Train loss: 0.5414224857198341\n",
            "Val loss: 0.75966867172546\n",
            "---------\n",
            "Epoch: 18\n",
            "Train loss: 0.5418697720127447\n",
            "Val loss: 0.7953350996525761\n",
            "---------\n",
            "Epoch: 19\n",
            "Train loss: 0.5419795489736966\n",
            "Val loss: 0.8062308231781425\n"
          ]
        }
      ],
      "source": [
        "def train_model(data_loader, model, loss_function, optimizer):\n",
        "    total_loss = []\n",
        "\n",
        "    model.train()\n",
        "    for X, y in data_loader:\n",
        "        X = X.to(device)\n",
        "        y = y.to(device)\n",
        "        # X = X.reshape(batch ,-1)\n",
        "        # print(type(X), type(y))\n",
        "        optimizer.zero_grad()\n",
        "        output = model(X)\n",
        "        # print(type(output))\n",
        "        # print(output.shape)\n",
        "        loss = loss_function(output, y)\n",
        "        loss.backward()\n",
        "        optimizer.step()\n",
        "        total_loss.append(loss.item())\n",
        "\n",
        "    avg_loss = np.mean(total_loss)\n",
        "    print(f\"Train loss: {avg_loss}\")\n",
        "    return avg_loss\n",
        "\n",
        "def test_model(data_loader, model, loss_function):\n",
        "    total_loss = []\n",
        "\n",
        "    model.eval()\n",
        "    with torch.no_grad():\n",
        "        for X, y in data_loader:\n",
        "            X = X.to(device)\n",
        "            y = y.to(device)\n",
        "            output = model(X)\n",
        "            # print(output.shape)\n",
        "            total_loss.append(loss_function(output, y).item())\n",
        "    avg_loss = np.mean(total_loss)\n",
        "    print(f\"Val loss: {avg_loss}\")\n",
        "    return avg_loss\n",
        "\n",
        "\n",
        "loss_history = {}  # loss history\n",
        "loss_history['train'] = []\n",
        "loss_history['val'] = []\n",
        "\n",
        "print(\"Untrained test\\n--------\")\n",
        "best_loss=test_model(val_loader, model, loss_fn)\n",
        "print()\n",
        "for epoch in range(20):\n",
        "    print(f\"---------\\nEpoch: {epoch}\")\n",
        "    train_loss=train_model(train_loader, model, loss_fn, optimizer)\n",
        "    val_loss=test_model(val_loader, model, loss_fn)\n",
        "  \n",
        "    loss_history['train'].append(train_loss)\n",
        "    loss_history['val'].append(val_loss)    \n",
        "    stat = {\n",
        "            'epoch': epoch,\n",
        "            'state_dict': model.state_dict(),\n",
        "            'optimizer': optimizer.state_dict(),\n",
        "    }\n",
        "\n",
        "    if val_loss < best_loss:\n",
        "      best_loss = val_loss\n",
        "      torch.save(stat, '/content/best-model-parameters.pt')\n",
        "      print(\"save best epoch\")"
      ]
    },
    {
      "cell_type": "code",
      "execution_count": null,
      "metadata": {
        "id": "6-MeHxwND1zc",
        "colab": {
          "base_uri": "https://localhost:8080/",
          "height": 362
        },
        "outputId": "c2f26fb9-4539-4e99-c770-d817f5589335"
      },
      "outputs": [
        {
          "output_type": "display_data",
          "data": {
            "text/plain": [
              "<Figure size 720x360 with 1 Axes>"
            ],
            "image/png": "[encoded data removed]"
          },
          "metadata": {}
        }
      ],
      "source": [
        "# summarize history for loss\n",
        "fig, ax = plt.subplots(1,1,figsize=(10, 5),)\n",
        "x = np.arange(0,20,1)\n",
        "\n",
        "plt.plot(x,loss_history['train'], label='train', color='royalblue', linewidth=1.8)\n",
        "plt.plot(x,loss_history['val'], label='test', color='#e6550d', linewidth=1.2)\n",
        "plt.title('Model Loss',fontsize=18, fontweight='bold', fontfamily='serif')\n",
        "plt.ylabel('CrossEntropy Loss', fontsize=17,  fontfamily='serif')\n",
        "plt.xlabel('Epoch', fontsize=17,  fontfamily='serif')\n",
        "font = font_manager.FontProperties(family='serif', size=14)\n",
        "plt.legend(frameon=False, prop=font)\n",
        "plt.xticks(fontsize=16)\n",
        "plt.yticks(fontsize=16)\n",
        "plt.style.use('seaborn-whitegrid')\n",
        "plt.savefig(\"train&val_MSEloss.png\", facecolor='w')\n",
        "plt.show()"
      ]
    },
    {
      "cell_type": "code",
      "execution_count": null,
      "metadata": {
        "id": "bnzeBhGVD48j"
      },
      "outputs": [],
      "source": [
        "def predict_model(data_loader, model):\n",
        "    output = []\n",
        "    model.eval()\n",
        "    with torch.no_grad():\n",
        "      for X, _ in data_loader:\n",
        "          X = X.to(device)\n",
        "          y_pred = model(X)\n",
        "          y_pred = nn.Sigmoid()(y_pred) \n",
        "          y_pred = y_pred.cpu()\n",
        "          y_pred = y_pred.numpy().flatten().tolist()\n",
        "          output.extend(y_pred)\n",
        "    return output"
      ]
    },
    {
      "cell_type": "code",
      "execution_count": null,
      "metadata": {
        "id": "bI0S5z5ID6xD",
        "colab": {
          "base_uri": "https://localhost:8080/",
          "height": 455
        },
        "outputId": "8ecdb675-588b-43aa-f77c-02b4c5e0b185"
      },
      "outputs": [
        {
          "output_type": "execute_result",
          "data": {
            "text/plain": [
              "                     prediction  real\n",
              "Time                                 \n",
              "2022-08-10 00:00:00           0     0\n",
              "2022-08-10 11:00:00           0     0\n",
              "2022-08-10 13:00:00           0     0\n",
              "2022-08-10 14:00:00           0     0\n",
              "2022-08-10 16:00:00           0     0\n",
              "...                         ...   ...\n",
              "2022-08-10 14:00:00           0     0\n",
              "2022-08-10 15:00:00           0     0\n",
              "2022-08-10 16:00:00           0     0\n",
              "2022-08-10 17:00:00           0     0\n",
              "2022-08-10 19:00:00           0     0\n",
              "\n",
              "[10341 rows x 2 columns]"
            ],
            "text/html": [
              "\n",
              "  <div id=\"df-c4f62e7a-e0c6-4b03-aaab-86eb8c528bb9\">\n",
              "    <div class=\"colab-df-container\">\n",
              "      <div>\n",
              "<style scoped>\n",
              "    .dataframe tbody tr th:only-of-type {\n",
              "        vertical-align: middle;\n",
              "    }\n",
              "\n",
              "    .dataframe tbody tr th {\n",
              "        vertical-align: top;\n",
              "    }\n",
              "\n",
              "    .dataframe thead th {\n",
              "        text-align: right;\n",
              "    }\n",
              "</style>\n",
              "<table border=\"1\" class=\"dataframe\">\n",
              "  <thead>\n",
              "    <tr style=\"text-align: right;\">\n",
              "      <th></th>\n",
              "      <th>prediction</th>\n",
              "      <th>real</th>\n",
              "    </tr>\n",
              "    <tr>\n",
              "      <th>Time</th>\n",
              "      <th></th>\n",
              "      <th></th>\n",
              "    </tr>\n",
              "  </thead>\n",
              "  <tbody>\n",
              "    <tr>\n",
              "      <th>2022-08-10 00:00:00</th>\n",
              "      <td>0</td>\n",
              "      <td>0</td>\n",
              "    </tr>\n",
              "    <tr>\n",
              "      <th>2022-08-10 11:00:00</th>\n",
              "      <td>0</td>\n",
              "      <td>0</td>\n",
              "    </tr>\n",
              "    <tr>\n",
              "      <th>2022-08-10 13:00:00</th>\n",
              "      <td>0</td>\n",
              "      <td>0</td>\n",
              "    </tr>\n",
              "    <tr>\n",
              "      <th>2022-08-10 14:00:00</th>\n",
              "      <td>0</td>\n",
              "      <td>0</td>\n",
              "    </tr>\n",
              "    <tr>\n",
              "      <th>2022-08-10 16:00:00</th>\n",
              "      <td>0</td>\n",
              "      <td>0</td>\n",
              "    </tr>\n",
              "    <tr>\n",
              "      <th>...</th>\n",
              "      <td>...</td>\n",
              "      <td>...</td>\n",
              "    </tr>\n",
              "    <tr>\n",
              "      <th>2022-08-10 14:00:00</th>\n",
              "      <td>0</td>\n",
              "      <td>0</td>\n",
              "    </tr>\n",
              "    <tr>\n",
              "      <th>2022-08-10 15:00:00</th>\n",
              "      <td>0</td>\n",
              "      <td>0</td>\n",
              "    </tr>\n",
              "    <tr>\n",
              "      <th>2022-08-10 16:00:00</th>\n",
              "      <td>0</td>\n",
              "      <td>0</td>\n",
              "    </tr>\n",
              "    <tr>\n",
              "      <th>2022-08-10 17:00:00</th>\n",
              "      <td>0</td>\n",
              "      <td>0</td>\n",
              "    </tr>\n",
              "    <tr>\n",
              "      <th>2022-08-10 19:00:00</th>\n",
              "      <td>0</td>\n",
              "      <td>0</td>\n",
              "    </tr>\n",
              "  </tbody>\n",
              "</table>\n",
              "<p>10341 rows × 2 columns</p>\n",
              "</div>\n",
              "      <button class=\"colab-df-convert\" onclick=\"convertToInteractive('df-c4f62e7a-e0c6-4b03-aaab-86eb8c528bb9')\"\n",
              "              title=\"Convert this dataframe to an interactive table.\"\n",
              "              style=\"display:none;\">\n",
              "        \n",
              "  <svg xmlns=\"http://www.w3.org/2000/svg\" height=\"24px\"viewBox=\"0 0 24 24\"\n",
              "       width=\"24px\">\n",
              "    <path d=\"M0 0h24v24H0V0z\" fill=\"none\"/>\n",
              "    <path d=\"M18.56 5.44l.94 2.06.94-2.06 2.06-.94-2.06-.94-.94-2.06-.94 2.06-2.06.94zm-11 1L8.5 8.5l.94-2.06 2.06-.94-2.06-.94L8.5 2.5l-.94 2.06-2.06.94zm10 10l.94 2.06.94-2.06 2.06-.94-2.06-.94-.94-2.06-.94 2.06-2.06.94z\"/><path d=\"M17.41 7.96l-1.37-1.37c-.4-.4-.92-.59-1.43-.59-.52 0-1.04.2-1.43.59L10.3 9.45l-7.72 7.72c-.78.78-.78 2.05 0 2.83L4 21.41c.39.39.9.59 1.41.59.51 0 1.02-.2 1.41-.59l7.78-7.78 2.81-2.81c.8-.78.8-2.07 0-2.86zM5.41 20L4 18.59l7.72-7.72 1.47 1.35L5.41 20z\"/>\n",
              "  </svg>\n",
              "      </button>\n",
              "      \n",
              "  <style>\n",
              "    .colab-df-container {\n",
              "      display:flex;\n",
              "      flex-wrap:wrap;\n",
              "      gap: 12px;\n",
              "    }\n",
              "\n",
              "    .colab-df-convert {\n",
              "      background-color: #E8F0FE;\n",
              "      border: none;\n",
              "      border-radius: 50%;\n",
              "      cursor: pointer;\n",
              "      display: none;\n",
              "      fill: #1967D2;\n",
              "      height: 32px;\n",
              "      padding: 0 0 0 0;\n",
              "      width: 32px;\n",
              "    }\n",
              "\n",
              "    .colab-df-convert:hover {\n",
              "      background-color: #E2EBFA;\n",
              "      box-shadow: 0px 1px 2px rgba(60, 64, 67, 0.3), 0px 1px 3px 1px rgba(60, 64, 67, 0.15);\n",
              "      fill: #174EA6;\n",
              "    }\n",
              "\n",
              "    [theme=dark] .colab-df-convert {\n",
              "      background-color: #3B4455;\n",
              "      fill: #D2E3FC;\n",
              "    }\n",
              "\n",
              "    [theme=dark] .colab-df-convert:hover {\n",
              "      background-color: #434B5C;\n",
              "      box-shadow: 0px 1px 3px 1px rgba(0, 0, 0, 0.15);\n",
              "      filter: drop-shadow(0px 1px 2px rgba(0, 0, 0, 0.3));\n",
              "      fill: #FFFFFF;\n",
              "    }\n",
              "  </style>\n",
              "\n",
              "      <script>\n",
              "        const buttonEl =\n",
              "          document.querySelector('#df-c4f62e7a-e0c6-4b03-aaab-86eb8c528bb9 button.colab-df-convert');\n",
              "        buttonEl.style.display =\n",
              "          google.colab.kernel.accessAllowed ? 'block' : 'none';\n",
              "\n",
              "        async function convertToInteractive(key) {\n",
              "          const element = document.querySelector('#df-c4f62e7a-e0c6-4b03-aaab-86eb8c528bb9');\n",
              "          const dataTable =\n",
              "            await google.colab.kernel.invokeFunction('convertToInteractive',\n",
              "                                                     [key], {});\n",
              "          if (!dataTable) return;\n",
              "\n",
              "          const docLinkHtml = 'Like what you see? Visit the ' +\n",
              "            '<a target=\"_blank\" href=https://colab.research.google.com/notebooks/data_table.ipynb>data table notebook</a>'\n",
              "            + ' to learn more about interactive tables.';\n",
              "          element.innerHTML = '';\n",
              "          dataTable['output_type'] = 'display_data';\n",
              "          await google.colab.output.renderOutput(dataTable, element);\n",
              "          const docLink = document.createElement('div');\n",
              "          docLink.innerHTML = docLinkHtml;\n",
              "          element.appendChild(docLink);\n",
              "        }\n",
              "      </script>\n",
              "    </div>\n",
              "  </div>\n",
              "  "
            ]
          },
          "metadata": {},
          "execution_count": 70
        }
      ],
      "source": [
        "model.load_state_dict(torch.load('/content/best-model-parameters.pt')['state_dict'])\n",
        "prediction = predict_model(test_loader, model)\n",
        "predicted_y = []\n",
        "real_y = []\n",
        "for i in range(len(prediction)):\n",
        "  if prediction[i] < 0.5:\n",
        "    predicted_y.append(0)\n",
        "  else:\n",
        "    predicted_y.append(1)\n",
        "  real_y.append(y_test[i])\n",
        "predicted_df=pd.DataFrame({'prediction': predicted_y, 'real': real_y})\n",
        "predicted_df['Time'] = df_test.index\n",
        "predicted_df=predicted_df.set_index('Time')\n",
        "predicted_df"
      ]
    },
    {
      "cell_type": "code",
      "source": [
        "# predicted_y"
      ],
      "metadata": {
        "id": "OKHNzyRpxl5r"
      },
      "execution_count": null,
      "outputs": []
    },
    {
      "cell_type": "code",
      "source": [
        "# ROC\n",
        "fpr, tpr, thresholds = roc_curve(real_y, predicted_y, pos_label=1)\n",
        "auc_roc = auc(fpr, tpr)\n",
        "print(f'auc_roc: {auc_roc}')\n",
        "\n",
        "plt.title('Receiver Operating Characteristic')\n",
        "plt.plot(fpr, tpr, 'b', label = 'AUC = %0.2f' % auc_roc)\n",
        "plt.legend(loc = 'lower right')\n",
        "# plt.plot([0, 1], [0, 1],'r--')\n",
        "plt.xlim([0, 1])\n",
        "plt.ylim([0, 1])\n",
        "plt.ylabel('True Positive Rate')\n",
        "plt.xlabel('False Positive Rate')\n",
        "plt.show()\n",
        "\n",
        "# PRC\n",
        "precision, recall, _  = precision_recall_curve(real_y, predicted_y)\n",
        "\n",
        "auc_prc = auc(recall, precision)\n",
        "# plt.plot(recall, precision)\n",
        "print(f'auc_prc: {auc_prc}')\n",
        "\n",
        "\n",
        "plt.title('Precision Recall Characteristic')\n",
        "plt.plot(recall, precision, 'b', label = 'AUC = %0.2f' % auc_prc)\n",
        "plt.legend(loc = 'lower right')\n",
        "# plt.plot([1, 0], [0, 1],'r--')\n",
        "plt.xlim([0, 1])\n",
        "plt.ylim([0, 1])\n",
        "plt.ylabel('Precision')\n",
        "plt.xlabel('Recall')\n",
        "plt.show()\n"
      ],
      "metadata": {
        "colab": {
          "base_uri": "https://localhost:8080/",
          "height": 601
        },
        "id": "chCXvKpvvT-z",
        "outputId": "11899525-1df9-4b89-cff3-ea1d40095319"
      },
      "execution_count": null,
      "outputs": [
        {
          "output_type": "stream",
          "name": "stdout",
          "text": [
            "auc_roc: 0.7406253761887565\n"
          ]
        },
        {
          "output_type": "display_data",
          "data": {
            "text/plain": [
              "<Figure size 432x288 with 1 Axes>"
            ],
            "image/png": "[encoded data removed]"
          },
          "metadata": {}
        },
        {
          "output_type": "stream",
          "name": "stdout",
          "text": [
            "auc_prc: 0.3773431122820924\n"
          ]
        },
        {
          "output_type": "display_data",
          "data": {
            "text/plain": [
              "<Figure size 432x288 with 1 Axes>"
            ],
            "image/png": "[encoded data removed]"
          },
          "metadata": {}
        }
      ]
    }
  ],
  "metadata": {
    "colab": {
      "provenance": []
    },
    "gpuClass": "standard",
    "kernelspec": {
      "display_name": "Python 3.9.6 ('pytorch')",
      "language": "python",
      "name": "python3"
    },
    "language_info": {
      "codemirror_mode": {
        "name": "ipython",
        "version": 3
      },
      "file_extension": ".py",
      "mimetype": "text/x-python",
      "name": "python",
      "nbconvert_exporter": "python",
      "pygments_lexer": "ipython3",
      "version": "3.9.6"
    },
    "vscode": {
      "interpreter": {
        "hash": "01e90ddb7d2249497434e58949539ea6100e0e184c6ee6c37c47644934366b4f"
      }
    },
    "accelerator": "GPU"
  },
  "nbformat": 4,
  "nbformat_minor": 0
}