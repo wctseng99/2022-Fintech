{
  "cells": [
    {
      "cell_type": "markdown",
      "metadata": {
        "id": "qfJ-634MTThq"
      },
      "source": [
        "# For Google Drive"
      ]
    },
    {
      "cell_type": "code",
      "execution_count": 265,
      "metadata": {
        "colab": {
          "base_uri": "https://localhost:8080/"
        },
        "id": "x-_yfyqfTGL0",
        "outputId": "501f019b-4c36-40e8-9bb4-af7204f19313"
      },
      "outputs": [],
      "source": [
        "# from google.colab import drive\n",
        "# drive.mount('/content/gdrive')"
      ]
    },
    {
      "cell_type": "markdown",
      "metadata": {
        "id": "lQB7dLcd4Shf"
      },
      "source": [
        "# Import Packages :"
      ]
    },
    {
      "cell_type": "code",
      "execution_count": 266,
      "metadata": {
        "id": "QkYkoNZBPOUe"
      },
      "outputs": [],
      "source": [
        "# basic stuffs\n",
        "import csv\n",
        "import time\n",
        "import sys\n",
        "import os\n",
        "import math\n",
        "import random as rand\n",
        "from typing import Dict\n",
        "\n",
        "# other library\n",
        "import numpy as np\n",
        "import pandas as pd\n",
        "\n",
        "# visualization tools\n",
        "import tqdm\n",
        "import matplotlib.pyplot as plt\n",
        "\n",
        "# PyTorch library\n",
        "import torch\n",
        "import torch.nn as nn\n",
        "import torch.optim as optim\n",
        "import torch.nn.functional as F\n",
        "from torch.utils import data \n",
        "from torch.utils.data import Dataset, DataLoader"
      ]
    },
    {
      "cell_type": "markdown",
      "metadata": {
        "id": "DrhD1L5pIDwM"
      },
      "source": [
        "# Fix Randomization Seed :"
      ]
    },
    {
      "cell_type": "code",
      "execution_count": 267,
      "metadata": {
        "id": "wt4o2839PzQO"
      },
      "outputs": [],
      "source": [
        "SEED = 42 # Do not modify\n",
        "use_gpu = torch.cuda.is_available()\n",
        "device = torch.device(\"cuda\" if use_gpu else \"cpu\")\n",
        "\n",
        "torch.backends.cudnn.deterministic = True\n",
        "torch.backends.cudnn.benchmark = False\n",
        "torch.manual_seed(SEED)\n",
        "torch.cuda.manual_seed_all(SEED)\n",
        "rand.seed(SEED)\n",
        "np.random.seed(SEED)"
      ]
    },
    {
      "cell_type": "markdown",
      "metadata": {
        "id": "JWdfr4FIINxK"
      },
      "source": [
        "#Parameters :"
      ]
    },
    {
      "cell_type": "code",
      "execution_count": 268,
      "metadata": {
        "id": "iarwZrESAajW"
      },
      "outputs": [],
      "source": [
        "TIME_FRAME_SIZE = 5\n",
        "\n",
        "# #setting\n",
        "# pd.set_option('precision', 4)\n",
        "# pd.set_option(\"display.max_columns\",100)"
      ]
    },
    {
      "cell_type": "markdown",
      "metadata": {
        "id": "LXyQQ8aA4LHy"
      },
      "source": [
        "# load data from google cloud :"
      ]
    },
    {
      "cell_type": "code",
      "execution_count": 269,
      "metadata": {
        "id": "yd_5pp0d1ZA3"
      },
      "outputs": [],
      "source": [
        "# Youchen datapath\n",
        "\n",
        "# ccba = pd.read_csv('/content/gdrive/MyDrive/Fintech_final/ccba.csv')\n",
        "# custinfo = pd.read_csv('/content/gdrive/MyDrive/Fintech_final/custinfo.csv')\n",
        "\n",
        "# cdtx = pd.read_csv('/content/gdrive/MyDrive/Fintech_final/cdtx.csv')\n",
        "# dp = pd.read_csv('/content/gdrive/MyDrive/Fintech_final/dp.csv')\n",
        "# remit1 = pd.read_csv('/content/gdrive/MyDrive/Fintech_final/remit.csv')\n",
        "\n",
        "train_alert_date = pd.read_csv('./train_x_alert_date.csv')\n",
        "y = pd.read_csv('./train_y_answer.csv')\n",
        "\n",
        "training_data = pd.read_csv('./1215/training_data_complete_5.csv')\n",
        "training_label = pd.read_csv('./1215/training_data_labels_5.csv')\n",
        "\n",
        "testing_data = pd.read_csv('./1215/testing_data_complete_5.csv')\n",
        "testing_key = pd.read_csv('./1215/testing_alert_key_5.csv')\n",
        "\n",
        "sample_output = pd.read_csv('./sample_output.csv')"
      ]
    },
    {
      "cell_type": "markdown",
      "metadata": {
        "id": "VphSoFGT6mOp"
      },
      "source": [
        "# Perform Onehot Pooling "
      ]
    },
    {
      "cell_type": "code",
      "execution_count": 270,
      "metadata": {
        "id": "tHLcW2qbQM4M"
      },
      "outputs": [],
      "source": [
        "# Drop columns\n",
        "drop_cols = ['Unnamed: 0', \n",
        "      'remit_transtime_diff_1',\t\n",
        "      'remit_transtime_diff_2',\t\n",
        "      'remit_transtime_diff_3',\t\n",
        "      'remit_transtime_diff_4',\t\n",
        "      'remit_transtime_diff_5',\t\n",
        "      'remit_transtime_avg'\n",
        "      ]\n",
        "      \n",
        "train = training_data.drop(columns=drop_cols)\n",
        "test = testing_data.drop(columns=drop_cols)\n",
        "\n",
        "train_label = training_label.drop(columns='Unnamed: 0')\n",
        "test_keys = testing_key.drop(columns='Unnamed: 0')"
      ]
    },
    {
      "cell_type": "code",
      "execution_count": 271,
      "metadata": {
        "id": "BqpJpwxPTtBY"
      },
      "outputs": [],
      "source": [
        "# Determine categorical column names\n",
        "cat_cols = ['occupation_code',\n",
        "       'country_1', 'cur_type_1',\n",
        "       'country_2', 'cur_type_2',\n",
        "       'country_3', 'cur_type_3',\n",
        "       'country_4', 'cur_type_4',\n",
        "       'country_5', 'cur_type_5',\n",
        "       'debit_credit_1', 'tx_type_1', 'info_asset_code_1', 'fiscTxId_1', 'txbranch_1', 'cross_bank_1', 'ATM_1',\n",
        "       'debit_credit_2', 'tx_type_2', 'info_asset_code_2', 'fiscTxId_2', 'txbranch_2', 'cross_bank_2', 'ATM_2',\n",
        "       'debit_credit_3', 'tx_type_3', 'info_asset_code_3', 'fiscTxId_3', 'txbranch_3', 'cross_bank_3', 'ATM_3',\n",
        "       'debit_credit_4', 'tx_type_4', 'info_asset_code_4', 'fiscTxId_4', 'txbranch_4', 'cross_bank_4', 'ATM_4',\n",
        "       'debit_credit_5', 'tx_type_5', 'info_asset_code_5', 'fiscTxId_5', 'txbranch_5', 'cross_bank_5', 'ATM_5',\n",
        "       'trans_no_1', 'trans_no_2', 'trans_no_3', 'trans_no_4', 'trans_no_5'\n",
        "       ]\n",
        "\n",
        "# Determine pooling column names\n",
        "pool_cols = ['country', 'cur_type', 'debit_credit', 'tx_type', 'info_asset_code',\n",
        "        'fiscTxId', 'txbranch', 'cross_bank', 'ATM', 'trans_no']"
      ]
    },
    {
      "cell_type": "code",
      "execution_count": 272,
      "metadata": {
        "id": "iZpR3-uwVsS7"
      },
      "outputs": [],
      "source": [
        "# Get train/test onehot\n",
        "train[cat_cols] = train[cat_cols].astype(int)\n",
        "train_onehot = pd.get_dummies(train, columns=cat_cols)\n",
        "\n",
        "test[cat_cols] = test[cat_cols].astype(int)\n",
        "test_onehot = pd.get_dummies(test, columns=cat_cols)"
      ]
    },
    {
      "cell_type": "code",
      "execution_count": 273,
      "metadata": {
        "id": "dAewYy_qXhGB"
      },
      "outputs": [],
      "source": [
        "# Get existing onehot keys -> count\n",
        "#  'debit_credit': [0, 1],\n",
        "#  'tx_type': [1, 2, 3]\n",
        "count = {}\n",
        "for pool in pool_cols:\n",
        "  first = True\n",
        "  for c in train.columns:\n",
        "    if pool in c:\n",
        "      index = train[c].value_counts().index\n",
        "      if first:\n",
        "        count[pool] = []\n",
        "        for i in range(len(index)):\n",
        "          count[pool].append(index[i])\n",
        "        first = False\n",
        "      else:\n",
        "        for i in range(len(index)):\n",
        "          if index[i] not in count[pool]:\n",
        "            count[pool].append(index[i])\n",
        "  count[pool] = sorted(count[pool])\n",
        "# count"
      ]
    },
    {
      "cell_type": "code",
      "execution_count": 274,
      "metadata": {
        "id": "rxyCnjBwTP3t"
      },
      "outputs": [],
      "source": [
        "# Training set Pooling\n",
        "train_col_names = []\n",
        "train_col_datas = []\n",
        "for key in count.keys():\n",
        "  for value in count[key]:\n",
        "    temp = None\n",
        "    temp_name = key+'_'+str(value)\n",
        "    for i in range(1, 6):\n",
        "      col_name = key+'_'+str(i)+'_'+str(value)\n",
        "      # if col_name not in train_onehot.columns:\n",
        "      #   continue\n",
        "      try:\n",
        "        if temp is None:\n",
        "          temp = train_onehot[col_name].copy()\n",
        "        else:\n",
        "          temp += train_onehot[col_name].copy()\n",
        "      except:\n",
        "        pass\n",
        "    if temp is not None:\n",
        "      train_col_datas.append(temp.to_numpy())\n",
        "    else:\n",
        "      train_col_datas.append(np.zeros(len(test)))\n",
        "    train_col_names.append(temp_name)\n",
        "\n",
        "# temp.to_numpy()\n",
        "# temp_name"
      ]
    },
    {
      "cell_type": "code",
      "execution_count": 275,
      "metadata": {
        "id": "NHOKnZWkztT0"
      },
      "outputs": [],
      "source": [
        "# Testing set Pooling\n",
        "test_col_names = []\n",
        "test_col_datas = []\n",
        "for key in count.keys():\n",
        "  for value in count[key]:\n",
        "    temp = None\n",
        "    temp_name = key+'_'+str(value)\n",
        "    for i in range(1, 6):\n",
        "      col_name = key+'_'+str(i)+'_'+str(value)\n",
        "      # if col_name not in train_onehot.columns:\n",
        "      #   continue\n",
        "      try:\n",
        "        if temp is None:\n",
        "          temp = test_onehot[col_name].copy()\n",
        "        else:\n",
        "          temp += test_onehot[col_name].copy()\n",
        "      except:\n",
        "        pass\n",
        "    if temp is not None:\n",
        "      test_col_datas.append(temp.to_numpy())\n",
        "    else:\n",
        "      test_col_datas.append(np.zeros(len(test)).astype(int))\n",
        "    test_col_names.append(temp_name)"
      ]
    },
    {
      "cell_type": "code",
      "execution_count": 276,
      "metadata": {
        "id": "0HjF-a0As6q8"
      },
      "outputs": [],
      "source": [
        "# Categorical features\n",
        "all_cat = pd.DataFrame(np.array(train_col_datas).T, columns=train_col_names)\n",
        "test_cat = pd.DataFrame(np.array(test_col_datas).T, columns=test_col_names)\n",
        "\n",
        "# Numerical features\n",
        "all_num = train.drop(columns=cat_cols)\n",
        "test_num = test.drop(columns=cat_cols)\n",
        "\n",
        "# To ensure same dim when rerunning\n",
        "all_label = training_label.drop(columns='Unnamed: 0')\n",
        "\n",
        "# Train/val split\n",
        "from sklearn.model_selection import train_test_split\n",
        "train_cat, val_cat, train_num, val_num, train_label, val_label \\\n",
        "      = train_test_split(all_cat, all_num, all_label, test_size=0.2, random_state=42)"
      ]
    },
    {
      "cell_type": "code",
      "execution_count": 277,
      "metadata": {
        "id": "ph_7FGTO1zsH"
      },
      "outputs": [],
      "source": [
        "# Normalization of numerical feats\n",
        "def normalize(X, preMax=None, preMin=None, is_train=True):\n",
        "  if is_train:\n",
        "    Max = X.max()\n",
        "    Min = X.min()\n",
        "    X_norm = (X - Min) / (Max - Min)\n",
        "    \n",
        "    return X_norm, Max, Min\n",
        "  else:\n",
        "    X_norm = (X - preMin) / (preMax - preMin)\n",
        "    \n",
        "    return X_norm, preMax, preMin\n",
        "\n",
        "train_num_norm, train_max, train_min = normalize(train_num, is_train=True)\n",
        "val_num_norm, _, _ = normalize(val_num, preMax=train_max, preMin = train_min, is_train=False)\n",
        "test_num_norm, _, _ = normalize(test_num, preMax=train_max, preMin = train_min, is_train=False)\n",
        "\n",
        "all_num_norm, _, _ = normalize(all_num, is_train=True)"
      ]
    },
    {
      "cell_type": "code",
      "execution_count": 278,
      "metadata": {
        "id": "AjQ6sG1g5ijU"
      },
      "outputs": [],
      "source": [
        "train_set = pd.merge(train_cat.reset_index(), train_num_norm.reset_index()).drop(columns='index')\n",
        "val_set = pd.merge(val_cat.reset_index(), val_num_norm.reset_index()).drop(columns='index')\n",
        "test_set = pd.merge(test_cat.reset_index(), test_num_norm.reset_index()).drop(columns='index')\n",
        "\n",
        "all_set = pd.merge(all_cat.reset_index(), all_num_norm.reset_index()).drop(columns='index')"
      ]
    },
    {
      "cell_type": "code",
      "execution_count": 279,
      "metadata": {},
      "outputs": [
        {
          "data": {
            "text/html": [
              "<div>\n",
              "<style scoped>\n",
              "    .dataframe tbody tr th:only-of-type {\n",
              "        vertical-align: middle;\n",
              "    }\n",
              "\n",
              "    .dataframe tbody tr th {\n",
              "        vertical-align: top;\n",
              "    }\n",
              "\n",
              "    .dataframe thead th {\n",
              "        text-align: right;\n",
              "    }\n",
              "</style>\n",
              "<table border=\"1\" class=\"dataframe\">\n",
              "  <thead>\n",
              "    <tr style=\"text-align: right;\">\n",
              "      <th></th>\n",
              "      <th>country_1</th>\n",
              "      <th>country_4</th>\n",
              "      <th>country_5</th>\n",
              "      <th>country_6</th>\n",
              "      <th>country_7</th>\n",
              "      <th>country_8</th>\n",
              "      <th>country_10</th>\n",
              "      <th>country_13</th>\n",
              "      <th>country_15</th>\n",
              "      <th>country_16</th>\n",
              "      <th>...</th>\n",
              "      <th>dp_transtime_diff_4</th>\n",
              "      <th>dp_transtime_diff_5</th>\n",
              "      <th>dp_transtime_avg</th>\n",
              "      <th>dp_trans_num</th>\n",
              "      <th>trade_amount_usd_1</th>\n",
              "      <th>trade_amount_usd_2</th>\n",
              "      <th>trade_amount_usd_3</th>\n",
              "      <th>trade_amount_usd_4</th>\n",
              "      <th>trade_amount_usd_5</th>\n",
              "      <th>remit_trans_num</th>\n",
              "    </tr>\n",
              "  </thead>\n",
              "  <tbody>\n",
              "    <tr>\n",
              "      <th>0</th>\n",
              "      <td>0</td>\n",
              "      <td>0</td>\n",
              "      <td>0</td>\n",
              "      <td>0</td>\n",
              "      <td>0</td>\n",
              "      <td>0</td>\n",
              "      <td>0</td>\n",
              "      <td>0</td>\n",
              "      <td>0</td>\n",
              "      <td>0</td>\n",
              "      <td>...</td>\n",
              "      <td>0.000359</td>\n",
              "      <td>0.000499</td>\n",
              "      <td>0.001449</td>\n",
              "      <td>1.0</td>\n",
              "      <td>0.016800</td>\n",
              "      <td>0.018054</td>\n",
              "      <td>0.026234</td>\n",
              "      <td>0.028641</td>\n",
              "      <td>0.027772</td>\n",
              "      <td>0.0</td>\n",
              "    </tr>\n",
              "    <tr>\n",
              "      <th>1</th>\n",
              "      <td>0</td>\n",
              "      <td>0</td>\n",
              "      <td>0</td>\n",
              "      <td>0</td>\n",
              "      <td>0</td>\n",
              "      <td>0</td>\n",
              "      <td>0</td>\n",
              "      <td>0</td>\n",
              "      <td>0</td>\n",
              "      <td>0</td>\n",
              "      <td>...</td>\n",
              "      <td>0.000000</td>\n",
              "      <td>0.000166</td>\n",
              "      <td>0.003986</td>\n",
              "      <td>0.0</td>\n",
              "      <td>0.016800</td>\n",
              "      <td>0.018054</td>\n",
              "      <td>0.026234</td>\n",
              "      <td>0.028641</td>\n",
              "      <td>0.027772</td>\n",
              "      <td>0.0</td>\n",
              "    </tr>\n",
              "    <tr>\n",
              "      <th>2</th>\n",
              "      <td>0</td>\n",
              "      <td>0</td>\n",
              "      <td>0</td>\n",
              "      <td>0</td>\n",
              "      <td>0</td>\n",
              "      <td>0</td>\n",
              "      <td>0</td>\n",
              "      <td>0</td>\n",
              "      <td>0</td>\n",
              "      <td>0</td>\n",
              "      <td>...</td>\n",
              "      <td>0.000000</td>\n",
              "      <td>0.000832</td>\n",
              "      <td>0.001691</td>\n",
              "      <td>1.0</td>\n",
              "      <td>0.033643</td>\n",
              "      <td>0.033644</td>\n",
              "      <td>0.047690</td>\n",
              "      <td>0.022863</td>\n",
              "      <td>0.024825</td>\n",
              "      <td>1.0</td>\n",
              "    </tr>\n",
              "    <tr>\n",
              "      <th>3</th>\n",
              "      <td>0</td>\n",
              "      <td>0</td>\n",
              "      <td>0</td>\n",
              "      <td>0</td>\n",
              "      <td>0</td>\n",
              "      <td>0</td>\n",
              "      <td>0</td>\n",
              "      <td>0</td>\n",
              "      <td>0</td>\n",
              "      <td>0</td>\n",
              "      <td>...</td>\n",
              "      <td>0.003054</td>\n",
              "      <td>0.001829</td>\n",
              "      <td>0.015461</td>\n",
              "      <td>1.0</td>\n",
              "      <td>0.016800</td>\n",
              "      <td>0.018054</td>\n",
              "      <td>0.026234</td>\n",
              "      <td>0.028641</td>\n",
              "      <td>0.027772</td>\n",
              "      <td>0.0</td>\n",
              "    </tr>\n",
              "    <tr>\n",
              "      <th>4</th>\n",
              "      <td>0</td>\n",
              "      <td>0</td>\n",
              "      <td>0</td>\n",
              "      <td>0</td>\n",
              "      <td>0</td>\n",
              "      <td>0</td>\n",
              "      <td>0</td>\n",
              "      <td>0</td>\n",
              "      <td>0</td>\n",
              "      <td>0</td>\n",
              "      <td>...</td>\n",
              "      <td>0.000000</td>\n",
              "      <td>0.000000</td>\n",
              "      <td>0.001087</td>\n",
              "      <td>1.0</td>\n",
              "      <td>0.034697</td>\n",
              "      <td>0.025981</td>\n",
              "      <td>0.064444</td>\n",
              "      <td>0.093803</td>\n",
              "      <td>0.070404</td>\n",
              "      <td>1.0</td>\n",
              "    </tr>\n",
              "    <tr>\n",
              "      <th>...</th>\n",
              "      <td>...</td>\n",
              "      <td>...</td>\n",
              "      <td>...</td>\n",
              "      <td>...</td>\n",
              "      <td>...</td>\n",
              "      <td>...</td>\n",
              "      <td>...</td>\n",
              "      <td>...</td>\n",
              "      <td>...</td>\n",
              "      <td>...</td>\n",
              "      <td>...</td>\n",
              "      <td>...</td>\n",
              "      <td>...</td>\n",
              "      <td>...</td>\n",
              "      <td>...</td>\n",
              "      <td>...</td>\n",
              "      <td>...</td>\n",
              "      <td>...</td>\n",
              "      <td>...</td>\n",
              "      <td>...</td>\n",
              "      <td>...</td>\n",
              "    </tr>\n",
              "    <tr>\n",
              "      <th>19119</th>\n",
              "      <td>0</td>\n",
              "      <td>0</td>\n",
              "      <td>0</td>\n",
              "      <td>0</td>\n",
              "      <td>0</td>\n",
              "      <td>0</td>\n",
              "      <td>0</td>\n",
              "      <td>0</td>\n",
              "      <td>0</td>\n",
              "      <td>0</td>\n",
              "      <td>...</td>\n",
              "      <td>0.000000</td>\n",
              "      <td>0.000000</td>\n",
              "      <td>0.001449</td>\n",
              "      <td>1.0</td>\n",
              "      <td>0.016800</td>\n",
              "      <td>0.018054</td>\n",
              "      <td>0.026234</td>\n",
              "      <td>0.028641</td>\n",
              "      <td>0.027772</td>\n",
              "      <td>0.0</td>\n",
              "    </tr>\n",
              "    <tr>\n",
              "      <th>19120</th>\n",
              "      <td>0</td>\n",
              "      <td>0</td>\n",
              "      <td>0</td>\n",
              "      <td>0</td>\n",
              "      <td>0</td>\n",
              "      <td>0</td>\n",
              "      <td>0</td>\n",
              "      <td>0</td>\n",
              "      <td>0</td>\n",
              "      <td>0</td>\n",
              "      <td>...</td>\n",
              "      <td>0.000180</td>\n",
              "      <td>0.000499</td>\n",
              "      <td>0.002899</td>\n",
              "      <td>1.0</td>\n",
              "      <td>0.016800</td>\n",
              "      <td>0.018054</td>\n",
              "      <td>0.026234</td>\n",
              "      <td>0.028641</td>\n",
              "      <td>0.027772</td>\n",
              "      <td>0.0</td>\n",
              "    </tr>\n",
              "    <tr>\n",
              "      <th>19121</th>\n",
              "      <td>0</td>\n",
              "      <td>0</td>\n",
              "      <td>0</td>\n",
              "      <td>0</td>\n",
              "      <td>0</td>\n",
              "      <td>0</td>\n",
              "      <td>0</td>\n",
              "      <td>0</td>\n",
              "      <td>0</td>\n",
              "      <td>0</td>\n",
              "      <td>...</td>\n",
              "      <td>0.000000</td>\n",
              "      <td>0.000166</td>\n",
              "      <td>0.003986</td>\n",
              "      <td>0.0</td>\n",
              "      <td>0.016800</td>\n",
              "      <td>0.018054</td>\n",
              "      <td>0.026234</td>\n",
              "      <td>0.028641</td>\n",
              "      <td>0.027772</td>\n",
              "      <td>0.0</td>\n",
              "    </tr>\n",
              "    <tr>\n",
              "      <th>19122</th>\n",
              "      <td>0</td>\n",
              "      <td>0</td>\n",
              "      <td>0</td>\n",
              "      <td>0</td>\n",
              "      <td>0</td>\n",
              "      <td>0</td>\n",
              "      <td>0</td>\n",
              "      <td>0</td>\n",
              "      <td>0</td>\n",
              "      <td>0</td>\n",
              "      <td>...</td>\n",
              "      <td>0.000000</td>\n",
              "      <td>0.000000</td>\n",
              "      <td>0.007006</td>\n",
              "      <td>1.0</td>\n",
              "      <td>0.016800</td>\n",
              "      <td>0.018054</td>\n",
              "      <td>0.026234</td>\n",
              "      <td>0.028641</td>\n",
              "      <td>0.027772</td>\n",
              "      <td>0.0</td>\n",
              "    </tr>\n",
              "    <tr>\n",
              "      <th>19123</th>\n",
              "      <td>0</td>\n",
              "      <td>0</td>\n",
              "      <td>0</td>\n",
              "      <td>0</td>\n",
              "      <td>0</td>\n",
              "      <td>0</td>\n",
              "      <td>0</td>\n",
              "      <td>0</td>\n",
              "      <td>0</td>\n",
              "      <td>0</td>\n",
              "      <td>...</td>\n",
              "      <td>0.000000</td>\n",
              "      <td>0.000000</td>\n",
              "      <td>0.000121</td>\n",
              "      <td>1.0</td>\n",
              "      <td>0.016800</td>\n",
              "      <td>0.018054</td>\n",
              "      <td>0.026234</td>\n",
              "      <td>0.028641</td>\n",
              "      <td>0.027772</td>\n",
              "      <td>0.0</td>\n",
              "    </tr>\n",
              "  </tbody>\n",
              "</table>\n",
              "<p>19124 rows × 440 columns</p>\n",
              "</div>"
            ],
            "text/plain": [
              "       country_1  country_4  country_5  country_6  country_7  country_8  \\\n",
              "0              0          0          0          0          0          0   \n",
              "1              0          0          0          0          0          0   \n",
              "2              0          0          0          0          0          0   \n",
              "3              0          0          0          0          0          0   \n",
              "4              0          0          0          0          0          0   \n",
              "...          ...        ...        ...        ...        ...        ...   \n",
              "19119          0          0          0          0          0          0   \n",
              "19120          0          0          0          0          0          0   \n",
              "19121          0          0          0          0          0          0   \n",
              "19122          0          0          0          0          0          0   \n",
              "19123          0          0          0          0          0          0   \n",
              "\n",
              "       country_10  country_13  country_15  country_16  ...  \\\n",
              "0               0           0           0           0  ...   \n",
              "1               0           0           0           0  ...   \n",
              "2               0           0           0           0  ...   \n",
              "3               0           0           0           0  ...   \n",
              "4               0           0           0           0  ...   \n",
              "...           ...         ...         ...         ...  ...   \n",
              "19119           0           0           0           0  ...   \n",
              "19120           0           0           0           0  ...   \n",
              "19121           0           0           0           0  ...   \n",
              "19122           0           0           0           0  ...   \n",
              "19123           0           0           0           0  ...   \n",
              "\n",
              "       dp_transtime_diff_4  dp_transtime_diff_5  dp_transtime_avg  \\\n",
              "0                 0.000359             0.000499          0.001449   \n",
              "1                 0.000000             0.000166          0.003986   \n",
              "2                 0.000000             0.000832          0.001691   \n",
              "3                 0.003054             0.001829          0.015461   \n",
              "4                 0.000000             0.000000          0.001087   \n",
              "...                    ...                  ...               ...   \n",
              "19119             0.000000             0.000000          0.001449   \n",
              "19120             0.000180             0.000499          0.002899   \n",
              "19121             0.000000             0.000166          0.003986   \n",
              "19122             0.000000             0.000000          0.007006   \n",
              "19123             0.000000             0.000000          0.000121   \n",
              "\n",
              "       dp_trans_num  trade_amount_usd_1  trade_amount_usd_2  \\\n",
              "0               1.0            0.016800            0.018054   \n",
              "1               0.0            0.016800            0.018054   \n",
              "2               1.0            0.033643            0.033644   \n",
              "3               1.0            0.016800            0.018054   \n",
              "4               1.0            0.034697            0.025981   \n",
              "...             ...                 ...                 ...   \n",
              "19119           1.0            0.016800            0.018054   \n",
              "19120           1.0            0.016800            0.018054   \n",
              "19121           0.0            0.016800            0.018054   \n",
              "19122           1.0            0.016800            0.018054   \n",
              "19123           1.0            0.016800            0.018054   \n",
              "\n",
              "       trade_amount_usd_3  trade_amount_usd_4  trade_amount_usd_5  \\\n",
              "0                0.026234            0.028641            0.027772   \n",
              "1                0.026234            0.028641            0.027772   \n",
              "2                0.047690            0.022863            0.024825   \n",
              "3                0.026234            0.028641            0.027772   \n",
              "4                0.064444            0.093803            0.070404   \n",
              "...                   ...                 ...                 ...   \n",
              "19119            0.026234            0.028641            0.027772   \n",
              "19120            0.026234            0.028641            0.027772   \n",
              "19121            0.026234            0.028641            0.027772   \n",
              "19122            0.026234            0.028641            0.027772   \n",
              "19123            0.026234            0.028641            0.027772   \n",
              "\n",
              "       remit_trans_num  \n",
              "0                  0.0  \n",
              "1                  0.0  \n",
              "2                  1.0  \n",
              "3                  0.0  \n",
              "4                  1.0  \n",
              "...                ...  \n",
              "19119              0.0  \n",
              "19120              0.0  \n",
              "19121              0.0  \n",
              "19122              0.0  \n",
              "19123              0.0  \n",
              "\n",
              "[19124 rows x 440 columns]"
            ]
          },
          "execution_count": 279,
          "metadata": {},
          "output_type": "execute_result"
        }
      ],
      "source": [
        "train_set"
      ]
    },
    {
      "cell_type": "markdown",
      "metadata": {
        "id": "2k2BpcuGLaIg"
      },
      "source": [
        "# Resampling"
      ]
    },
    {
      "cell_type": "code",
      "execution_count": 280,
      "metadata": {
        "colab": {
          "base_uri": "https://localhost:8080/"
        },
        "id": "fVdw-m3HLZg8",
        "outputId": "cdeb60f9-5713-46a5-ff06-ccf3418b39b4"
      },
      "outputs": [
        {
          "data": {
            "text/plain": [
              "0.0    18948\n",
              "1.0      176\n",
              "Name: labels, dtype: int64"
            ]
          },
          "execution_count": 280,
          "metadata": {},
          "output_type": "execute_result"
        }
      ],
      "source": [
        "# train_x_y = pd.concat([train, train_label], axis=1)\n",
        "train_x_y = pd.concat([train_set, train_label], axis=1)\n",
        "train_x_y['labels'].value_counts()"
      ]
    },
    {
      "cell_type": "code",
      "execution_count": 281,
      "metadata": {
        "id": "i45Kk_fDNez_"
      },
      "outputs": [],
      "source": [
        "from sklearn.utils import resample\n",
        "\n",
        "def resampling(data, y_col, ratio='100_100'):\n",
        "  ##################################################\n",
        "  #  data: target DataFrame          #\n",
        "  #  y_col: the name of y column     　#\n",
        "  #  ratio: expected ratio of two classes .#\n",
        "  ##################################################\n",
        "  # String process\n",
        "  [ratio_0, ratio_1] = ratio.split('_')\n",
        "  ratio_0, ratio_1 = int(ratio_0), int(ratio_1)\n",
        "  num_0, num_1 = data[y_col].value_counts()\n",
        "  \n",
        "  # Initialization\n",
        "  n_samples = [0, 0]\n",
        "  group = {}\n",
        "\n",
        "  # Num of samples of class 0/1\n",
        "  # (Switch n_samples values if minor class is 0)\n",
        "  max_n = max(num_0, num_1)    # Bigger number of sample\n",
        "  seg = max_n // 100       # Cut this number into 100 pieces\n",
        "  n_samples[0] = num_0 if ratio_0 == 100 \\\n",
        "              else seg * ratio_0  # Use all samples if ratio_0 == 100, downsample if not\n",
        "  n_samples[1] = seg * ratio_1  # Oversampling of minor class\n",
        "  \n",
        "  # Resample\n",
        "  for i in [0, 1]:\n",
        "    g = data[data[y_col] == i]\n",
        "    group[str(i)] = resample(g, replace=True, n_samples=n_samples[i])\n",
        "\n",
        "  # Concat two class into a DataFrame\n",
        "  # (Shuffle as you wish)\n",
        "  up = pd.concat(group.values())\n",
        "\n",
        "  return up"
      ]
    },
    {
      "cell_type": "markdown",
      "metadata": {
        "id": "TdrXBLgrRUE0"
      },
      "source": [
        "## Data"
      ]
    },
    {
      "cell_type": "code",
      "execution_count": 282,
      "metadata": {
        "id": "JufOYZ3CQLjV"
      },
      "outputs": [
        {
          "data": {
            "text/plain": [
              "0.0    13230\n",
              "1.0     9450\n",
              "Name: labels, dtype: int64"
            ]
          },
          "execution_count": 282,
          "metadata": {},
          "output_type": "execute_result"
        }
      ],
      "source": [
        "upsampled_data = resampling(train_x_y, 'labels', ratio='70_50')\n",
        "upsampled_data['labels'].value_counts()"
      ]
    },
    {
      "cell_type": "code",
      "execution_count": 283,
      "metadata": {
        "colab": {
          "base_uri": "https://localhost:8080/"
        },
        "id": "CtNsQ5XABWI6",
        "outputId": "7f109f31-99cc-47cd-fb65-0540f4ffadd8"
      },
      "outputs": [],
      "source": [
        "# !pip install xgboost==1.7.2\n",
        "import xgboost as xgb"
      ]
    },
    {
      "cell_type": "code",
      "execution_count": 284,
      "metadata": {
        "id": "QvreEq8M3c31"
      },
      "outputs": [],
      "source": [
        "# Reassign if resampled\n",
        "train_set = upsampled_data"
      ]
    },
    {
      "cell_type": "code",
      "execution_count": 285,
      "metadata": {
        "id": "HCjiBlDvqexM"
      },
      "outputs": [],
      "source": [
        "# train_X, train_y = train_set, train_label\n",
        "train_X, train_y = train_set.drop(columns=['labels']), train_set['labels']\n",
        "# val_X, val_y = val_set, val_label\n",
        "\n",
        "# all_X, all_y = all_set, all_label"
      ]
    },
    {
      "cell_type": "markdown",
      "metadata": {
        "id": "lq44hkF9RQiD"
      },
      "source": [
        "## Training"
      ]
    },
    {
      "cell_type": "code",
      "execution_count": 286,
      "metadata": {
        "id": "puAL-5BwRSZz"
      },
      "outputs": [],
      "source": [
        "from sklearn.metrics import recall_score"
      ]
    },
    {
      "cell_type": "code",
      "execution_count": 287,
      "metadata": {
        "id": "TohefFcQsHPD"
      },
      "outputs": [],
      "source": [
        "def recall_n(output, target):\n",
        "    comb = list(zip(output, target))\n",
        "    comb.sort(key=lambda x:x[0])\n",
        "    flag = False\n",
        "    for i, (out, gt) in enumerate(comb):\n",
        "        if gt == 1:\n",
        "            if flag:\n",
        "                break\n",
        "            flag = True\n",
        "    \n",
        "    return (sum(target)-1) / (len(target)-i)"
      ]
    },
    {
      "cell_type": "code",
      "execution_count": 288,
      "metadata": {
        "id": "7DTP873kBfjz"
      },
      "outputs": [
        {
          "data": {
            "text/plain": [
              "XGBClassifier(base_score=0.5, booster='gbtree', callbacks=None,\n",
              "              colsample_bylevel=1, colsample_bynode=1, colsample_bytree=1,\n",
              "              early_stopping_rounds=None, enable_categorical=False,\n",
              "              eval_metric=None, feature_types=None, gamma=0, gpu_id=-1,\n",
              "              grow_policy='depthwise', importance_type=None,\n",
              "              interaction_constraints='', learning_rate=0.300000012,\n",
              "              max_bin=256, max_cat_threshold=64, max_cat_to_onehot=4,\n",
              "              max_delta_step=1, max_depth=6, max_leaves=0, min_child_weight=1,\n",
              "              missing=nan, monotone_constraints='()', n_estimators=100,\n",
              "              n_jobs=0, num_parallel_tree=1, predictor='auto', random_state=0, ...)"
            ]
          },
          "execution_count": 288,
          "metadata": {},
          "output_type": "execute_result"
        }
      ],
      "source": [
        "# XGBoost\n",
        "\n",
        "xgbModel = xgb.XGBClassifier(max_delta_step=1, random_state=0)\n",
        "xgbModel.fit(train_X, train_y)"
      ]
    },
    {
      "cell_type": "code",
      "execution_count": 289,
      "metadata": {
        "id": "niZJY-tUGHWe"
      },
      "outputs": [],
      "source": [
        "# XGBoost predict\n",
        "\n",
        "# test = xgbModel.predict(val_X)\n",
        "# val_pred = xgbModel.predict_proba(val_X)\n",
        "train_pred = xgbModel.predict_proba(train_X)"
      ]
    },
    {
      "cell_type": "code",
      "execution_count": 290,
      "metadata": {
        "colab": {
          "base_uri": "https://localhost:8080/"
        },
        "id": "nF01hxO5GOXH",
        "outputId": "21afa874-4fb5-437b-ea25-f4f96a5c5a40"
      },
      "outputs": [],
      "source": [
        "# print(recall_n(val_pred[:, 1].reshape(-1, 1), val_y.to_numpy()))\n",
        "# val_pred[:, 1].reshape(-1, 1)\n",
        "# val_y.shape\n",
        "# print(val_y.to_numpy().shape)"
      ]
    },
    {
      "cell_type": "code",
      "execution_count": 291,
      "metadata": {
        "id": "VQpwb4LHTvmQ"
      },
      "outputs": [],
      "source": [
        "# XGBoost grid search\n",
        "params ={\n",
        "        'min_child_weight':range(1,9,1),\n",
        "        'gamma': [0.5, 1, 1.5, 2, 5],\n",
        "        'subsample':np.linspace(0.7,0.9,20),\n",
        "        'colsample_bytree':np.linspace(0.5,0.98,10),\n",
        "        'max_depth':range(2,10,1),\n",
        "        'learning_rate':np.linspace(0.01,2,20),\n",
        "        'n_estimators':range(400,1000,4),\n",
        "        'max_delta_step':range(1, 10, 1)\n",
        "        }"
      ]
    },
    {
      "cell_type": "code",
      "execution_count": 292,
      "metadata": {
        "colab": {
          "base_uri": "https://localhost:8080/",
          "height": 382
        },
        "id": "7LJ7DI5bT9YC",
        "outputId": "71f39a35-3766-4512-f524-24ff0aa2d413"
      },
      "outputs": [
        {
          "name": "stdout",
          "output_type": "stream",
          "text": [
            "Fitting 5 folds for each of 30 candidates, totalling 150 fits\n",
            "[22:54:55] WARNING: C:/buildkite-agent/builds/buildkite-windows-cpu-autoscaling-group-i-030221e36e1a46bfb-1/xgboost/xgboost-ci-windows/src/learner.cc:767: \n",
            "Parameters: { \"silent\" } are not used.\n",
            "\n"
          ]
        },
        {
          "data": {
            "text/plain": [
              "RandomizedSearchCV(cv=<generator object _BaseKFold.split at 0x0000028EF3346F20>,\n",
              "                   estimator=XGBClassifier(base_score=None, booster=None,\n",
              "                                           callbacks=None,\n",
              "                                           colsample_bylevel=None,\n",
              "                                           colsample_bynode=None,\n",
              "                                           colsample_bytree=None,\n",
              "                                           early_stopping_rounds=None,\n",
              "                                           enable_categorical=False,\n",
              "                                           eval_metric=None, feature_types=None,\n",
              "                                           gamma=None, gpu_id=None,\n",
              "                                           grow_policy=None,\n",
              "                                           importance_...\n",
              "                                        'max_depth': range(2, 10),\n",
              "                                        'min_child_weight': range(1, 9),\n",
              "                                        'n_estimators': range(400, 1000, 4),\n",
              "                                        'subsample': array([0.7       , 0.71052632, 0.72105263, 0.73157895, 0.74210526,\n",
              "       0.75263158, 0.76315789, 0.77368421, 0.78421053, 0.79473684,\n",
              "       0.80526316, 0.81578947, 0.82631579, 0.83684211, 0.84736842,\n",
              "       0.85789474, 0.86842105, 0.87894737, 0.88947368, 0.9       ])},\n",
              "                   random_state=42, scoring='recall', verbose=3)"
            ]
          },
          "execution_count": 292,
          "metadata": {},
          "output_type": "execute_result"
        }
      ],
      "source": [
        "from sklearn.model_selection import RandomizedSearchCV, GridSearchCV\n",
        "from sklearn.model_selection import StratifiedKFold\n",
        "\n",
        "xgbModel = xgb.XGBClassifier(learning_rate=0.02, n_estimators=600, \n",
        "                objective='binary:logistic', silent=True, nthread=1)\n",
        "\n",
        "param_comb = 30\n",
        "folds = 5\n",
        "skf = StratifiedKFold(n_splits=folds, shuffle = True, random_state = 42)\n",
        "random_search = RandomizedSearchCV(xgbModel, param_distributions=params, n_iter=param_comb, scoring='recall',\n",
        "                #   n_jobs=-1, cv=skf.split(all_X, all_y), verbose=3, random_state=42)\n",
        "                n_jobs=-1, cv=skf.split(train_X, train_y), verbose=3, random_state=42)\n",
        "random_search.fit(train_X, train_y)"
      ]
    },
    {
      "cell_type": "code",
      "execution_count": 293,
      "metadata": {
        "colab": {
          "base_uri": "https://localhost:8080/"
        },
        "id": "I3fFKj7mYkie",
        "outputId": "6676b6f3-4f9e-4d00-d657-09f5edb48a44"
      },
      "outputs": [
        {
          "data": {
            "text/plain": [
              "0.9573544973544973"
            ]
          },
          "execution_count": 293,
          "metadata": {},
          "output_type": "execute_result"
        }
      ],
      "source": [
        "random_search.best_score_"
      ]
    },
    {
      "cell_type": "code",
      "execution_count": 294,
      "metadata": {
        "colab": {
          "base_uri": "https://localhost:8080/"
        },
        "id": "b5D3XHRL6Gom",
        "outputId": "f82543b2-9d4a-47b1-e2b1-b2eab0942a80"
      },
      "outputs": [
        {
          "data": {
            "text/plain": [
              "array([352342, 352866, 352696, ..., 364673, 364626, 364986], dtype=int64)"
            ]
          },
          "execution_count": 294,
          "metadata": {},
          "output_type": "execute_result"
        }
      ],
      "source": [
        "test_keys['alert_key'].to_numpy()"
      ]
    },
    {
      "cell_type": "code",
      "execution_count": 295,
      "metadata": {},
      "outputs": [
        {
          "data": {
            "text/html": [
              "<div>\n",
              "<style scoped>\n",
              "    .dataframe tbody tr th:only-of-type {\n",
              "        vertical-align: middle;\n",
              "    }\n",
              "\n",
              "    .dataframe tbody tr th {\n",
              "        vertical-align: top;\n",
              "    }\n",
              "\n",
              "    .dataframe thead th {\n",
              "        text-align: right;\n",
              "    }\n",
              "</style>\n",
              "<table border=\"1\" class=\"dataframe\">\n",
              "  <thead>\n",
              "    <tr style=\"text-align: right;\">\n",
              "      <th></th>\n",
              "      <th>country_1</th>\n",
              "      <th>country_4</th>\n",
              "      <th>country_5</th>\n",
              "      <th>country_6</th>\n",
              "      <th>country_7</th>\n",
              "      <th>country_8</th>\n",
              "      <th>country_10</th>\n",
              "      <th>country_13</th>\n",
              "      <th>country_15</th>\n",
              "      <th>country_16</th>\n",
              "      <th>...</th>\n",
              "      <th>dp_transtime_diff_4</th>\n",
              "      <th>dp_transtime_diff_5</th>\n",
              "      <th>dp_transtime_avg</th>\n",
              "      <th>dp_trans_num</th>\n",
              "      <th>trade_amount_usd_1</th>\n",
              "      <th>trade_amount_usd_2</th>\n",
              "      <th>trade_amount_usd_3</th>\n",
              "      <th>trade_amount_usd_4</th>\n",
              "      <th>trade_amount_usd_5</th>\n",
              "      <th>remit_trans_num</th>\n",
              "    </tr>\n",
              "  </thead>\n",
              "  <tbody>\n",
              "    <tr>\n",
              "      <th>0</th>\n",
              "      <td>0</td>\n",
              "      <td>0</td>\n",
              "      <td>0</td>\n",
              "      <td>0</td>\n",
              "      <td>0</td>\n",
              "      <td>0</td>\n",
              "      <td>0</td>\n",
              "      <td>0</td>\n",
              "      <td>0</td>\n",
              "      <td>0</td>\n",
              "      <td>...</td>\n",
              "      <td>0.000000</td>\n",
              "      <td>0.000000</td>\n",
              "      <td>0.000966</td>\n",
              "      <td>1.0</td>\n",
              "      <td>0.015602</td>\n",
              "      <td>0.015619</td>\n",
              "      <td>0.028630</td>\n",
              "      <td>0.022102</td>\n",
              "      <td>0.021981</td>\n",
              "      <td>1.0</td>\n",
              "    </tr>\n",
              "    <tr>\n",
              "      <th>1</th>\n",
              "      <td>0</td>\n",
              "      <td>0</td>\n",
              "      <td>0</td>\n",
              "      <td>0</td>\n",
              "      <td>0</td>\n",
              "      <td>0</td>\n",
              "      <td>0</td>\n",
              "      <td>0</td>\n",
              "      <td>0</td>\n",
              "      <td>0</td>\n",
              "      <td>...</td>\n",
              "      <td>0.120711</td>\n",
              "      <td>0.000000</td>\n",
              "      <td>0.124290</td>\n",
              "      <td>1.0</td>\n",
              "      <td>0.016800</td>\n",
              "      <td>0.018054</td>\n",
              "      <td>0.026234</td>\n",
              "      <td>0.028641</td>\n",
              "      <td>0.027772</td>\n",
              "      <td>0.0</td>\n",
              "    </tr>\n",
              "    <tr>\n",
              "      <th>2</th>\n",
              "      <td>0</td>\n",
              "      <td>0</td>\n",
              "      <td>0</td>\n",
              "      <td>0</td>\n",
              "      <td>0</td>\n",
              "      <td>0</td>\n",
              "      <td>0</td>\n",
              "      <td>0</td>\n",
              "      <td>0</td>\n",
              "      <td>0</td>\n",
              "      <td>...</td>\n",
              "      <td>0.000000</td>\n",
              "      <td>0.000000</td>\n",
              "      <td>0.001087</td>\n",
              "      <td>1.0</td>\n",
              "      <td>0.031389</td>\n",
              "      <td>0.031424</td>\n",
              "      <td>0.043878</td>\n",
              "      <td>0.043515</td>\n",
              "      <td>0.043794</td>\n",
              "      <td>1.0</td>\n",
              "    </tr>\n",
              "    <tr>\n",
              "      <th>3</th>\n",
              "      <td>0</td>\n",
              "      <td>0</td>\n",
              "      <td>0</td>\n",
              "      <td>0</td>\n",
              "      <td>0</td>\n",
              "      <td>0</td>\n",
              "      <td>0</td>\n",
              "      <td>0</td>\n",
              "      <td>0</td>\n",
              "      <td>0</td>\n",
              "      <td>...</td>\n",
              "      <td>0.029819</td>\n",
              "      <td>0.008981</td>\n",
              "      <td>0.030318</td>\n",
              "      <td>1.0</td>\n",
              "      <td>0.016800</td>\n",
              "      <td>0.018054</td>\n",
              "      <td>0.026234</td>\n",
              "      <td>0.028641</td>\n",
              "      <td>0.027772</td>\n",
              "      <td>0.0</td>\n",
              "    </tr>\n",
              "    <tr>\n",
              "      <th>4</th>\n",
              "      <td>0</td>\n",
              "      <td>0</td>\n",
              "      <td>0</td>\n",
              "      <td>0</td>\n",
              "      <td>0</td>\n",
              "      <td>0</td>\n",
              "      <td>0</td>\n",
              "      <td>0</td>\n",
              "      <td>0</td>\n",
              "      <td>0</td>\n",
              "      <td>...</td>\n",
              "      <td>0.000000</td>\n",
              "      <td>0.000000</td>\n",
              "      <td>0.000966</td>\n",
              "      <td>1.0</td>\n",
              "      <td>0.022429</td>\n",
              "      <td>0.022515</td>\n",
              "      <td>0.062776</td>\n",
              "      <td>0.063918</td>\n",
              "      <td>0.063926</td>\n",
              "      <td>1.0</td>\n",
              "    </tr>\n",
              "    <tr>\n",
              "      <th>...</th>\n",
              "      <td>...</td>\n",
              "      <td>...</td>\n",
              "      <td>...</td>\n",
              "      <td>...</td>\n",
              "      <td>...</td>\n",
              "      <td>...</td>\n",
              "      <td>...</td>\n",
              "      <td>...</td>\n",
              "      <td>...</td>\n",
              "      <td>...</td>\n",
              "      <td>...</td>\n",
              "      <td>...</td>\n",
              "      <td>...</td>\n",
              "      <td>...</td>\n",
              "      <td>...</td>\n",
              "      <td>...</td>\n",
              "      <td>...</td>\n",
              "      <td>...</td>\n",
              "      <td>...</td>\n",
              "      <td>...</td>\n",
              "      <td>...</td>\n",
              "    </tr>\n",
              "    <tr>\n",
              "      <th>1840</th>\n",
              "      <td>0</td>\n",
              "      <td>0</td>\n",
              "      <td>0</td>\n",
              "      <td>0</td>\n",
              "      <td>0</td>\n",
              "      <td>0</td>\n",
              "      <td>0</td>\n",
              "      <td>0</td>\n",
              "      <td>0</td>\n",
              "      <td>0</td>\n",
              "      <td>...</td>\n",
              "      <td>0.000000</td>\n",
              "      <td>0.000000</td>\n",
              "      <td>0.001449</td>\n",
              "      <td>1.0</td>\n",
              "      <td>0.005457</td>\n",
              "      <td>0.005503</td>\n",
              "      <td>0.007695</td>\n",
              "      <td>0.007946</td>\n",
              "      <td>0.007942</td>\n",
              "      <td>1.0</td>\n",
              "    </tr>\n",
              "    <tr>\n",
              "      <th>1841</th>\n",
              "      <td>0</td>\n",
              "      <td>0</td>\n",
              "      <td>0</td>\n",
              "      <td>0</td>\n",
              "      <td>0</td>\n",
              "      <td>0</td>\n",
              "      <td>0</td>\n",
              "      <td>0</td>\n",
              "      <td>0</td>\n",
              "      <td>0</td>\n",
              "      <td>...</td>\n",
              "      <td>0.000000</td>\n",
              "      <td>0.002162</td>\n",
              "      <td>0.002778</td>\n",
              "      <td>1.0</td>\n",
              "      <td>0.033627</td>\n",
              "      <td>0.001750</td>\n",
              "      <td>0.026234</td>\n",
              "      <td>0.028641</td>\n",
              "      <td>0.027772</td>\n",
              "      <td>0.4</td>\n",
              "    </tr>\n",
              "    <tr>\n",
              "      <th>1842</th>\n",
              "      <td>0</td>\n",
              "      <td>0</td>\n",
              "      <td>0</td>\n",
              "      <td>0</td>\n",
              "      <td>0</td>\n",
              "      <td>0</td>\n",
              "      <td>0</td>\n",
              "      <td>0</td>\n",
              "      <td>0</td>\n",
              "      <td>0</td>\n",
              "      <td>...</td>\n",
              "      <td>0.000000</td>\n",
              "      <td>0.000000</td>\n",
              "      <td>0.000966</td>\n",
              "      <td>1.0</td>\n",
              "      <td>0.024041</td>\n",
              "      <td>0.038803</td>\n",
              "      <td>0.043662</td>\n",
              "      <td>0.015159</td>\n",
              "      <td>0.044147</td>\n",
              "      <td>1.0</td>\n",
              "    </tr>\n",
              "    <tr>\n",
              "      <th>1843</th>\n",
              "      <td>0</td>\n",
              "      <td>0</td>\n",
              "      <td>0</td>\n",
              "      <td>0</td>\n",
              "      <td>0</td>\n",
              "      <td>0</td>\n",
              "      <td>0</td>\n",
              "      <td>0</td>\n",
              "      <td>0</td>\n",
              "      <td>0</td>\n",
              "      <td>...</td>\n",
              "      <td>0.000000</td>\n",
              "      <td>0.000000</td>\n",
              "      <td>0.001087</td>\n",
              "      <td>1.0</td>\n",
              "      <td>0.016800</td>\n",
              "      <td>0.018054</td>\n",
              "      <td>0.026234</td>\n",
              "      <td>0.028641</td>\n",
              "      <td>0.027772</td>\n",
              "      <td>0.0</td>\n",
              "    </tr>\n",
              "    <tr>\n",
              "      <th>1844</th>\n",
              "      <td>0</td>\n",
              "      <td>0</td>\n",
              "      <td>0</td>\n",
              "      <td>0</td>\n",
              "      <td>0</td>\n",
              "      <td>0</td>\n",
              "      <td>0</td>\n",
              "      <td>0</td>\n",
              "      <td>0</td>\n",
              "      <td>0</td>\n",
              "      <td>...</td>\n",
              "      <td>0.000000</td>\n",
              "      <td>0.003326</td>\n",
              "      <td>0.002899</td>\n",
              "      <td>1.0</td>\n",
              "      <td>0.016800</td>\n",
              "      <td>0.018054</td>\n",
              "      <td>0.026234</td>\n",
              "      <td>0.028641</td>\n",
              "      <td>0.027772</td>\n",
              "      <td>0.0</td>\n",
              "    </tr>\n",
              "  </tbody>\n",
              "</table>\n",
              "<p>1845 rows × 440 columns</p>\n",
              "</div>"
            ],
            "text/plain": [
              "      country_1  country_4  country_5  country_6  country_7  country_8  \\\n",
              "0             0          0          0          0          0          0   \n",
              "1             0          0          0          0          0          0   \n",
              "2             0          0          0          0          0          0   \n",
              "3             0          0          0          0          0          0   \n",
              "4             0          0          0          0          0          0   \n",
              "...         ...        ...        ...        ...        ...        ...   \n",
              "1840          0          0          0          0          0          0   \n",
              "1841          0          0          0          0          0          0   \n",
              "1842          0          0          0          0          0          0   \n",
              "1843          0          0          0          0          0          0   \n",
              "1844          0          0          0          0          0          0   \n",
              "\n",
              "      country_10  country_13  country_15  country_16  ...  \\\n",
              "0              0           0           0           0  ...   \n",
              "1              0           0           0           0  ...   \n",
              "2              0           0           0           0  ...   \n",
              "3              0           0           0           0  ...   \n",
              "4              0           0           0           0  ...   \n",
              "...          ...         ...         ...         ...  ...   \n",
              "1840           0           0           0           0  ...   \n",
              "1841           0           0           0           0  ...   \n",
              "1842           0           0           0           0  ...   \n",
              "1843           0           0           0           0  ...   \n",
              "1844           0           0           0           0  ...   \n",
              "\n",
              "      dp_transtime_diff_4  dp_transtime_diff_5  dp_transtime_avg  \\\n",
              "0                0.000000             0.000000          0.000966   \n",
              "1                0.120711             0.000000          0.124290   \n",
              "2                0.000000             0.000000          0.001087   \n",
              "3                0.029819             0.008981          0.030318   \n",
              "4                0.000000             0.000000          0.000966   \n",
              "...                   ...                  ...               ...   \n",
              "1840             0.000000             0.000000          0.001449   \n",
              "1841             0.000000             0.002162          0.002778   \n",
              "1842             0.000000             0.000000          0.000966   \n",
              "1843             0.000000             0.000000          0.001087   \n",
              "1844             0.000000             0.003326          0.002899   \n",
              "\n",
              "      dp_trans_num  trade_amount_usd_1  trade_amount_usd_2  \\\n",
              "0              1.0            0.015602            0.015619   \n",
              "1              1.0            0.016800            0.018054   \n",
              "2              1.0            0.031389            0.031424   \n",
              "3              1.0            0.016800            0.018054   \n",
              "4              1.0            0.022429            0.022515   \n",
              "...            ...                 ...                 ...   \n",
              "1840           1.0            0.005457            0.005503   \n",
              "1841           1.0            0.033627            0.001750   \n",
              "1842           1.0            0.024041            0.038803   \n",
              "1843           1.0            0.016800            0.018054   \n",
              "1844           1.0            0.016800            0.018054   \n",
              "\n",
              "      trade_amount_usd_3  trade_amount_usd_4  trade_amount_usd_5  \\\n",
              "0               0.028630            0.022102            0.021981   \n",
              "1               0.026234            0.028641            0.027772   \n",
              "2               0.043878            0.043515            0.043794   \n",
              "3               0.026234            0.028641            0.027772   \n",
              "4               0.062776            0.063918            0.063926   \n",
              "...                  ...                 ...                 ...   \n",
              "1840            0.007695            0.007946            0.007942   \n",
              "1841            0.026234            0.028641            0.027772   \n",
              "1842            0.043662            0.015159            0.044147   \n",
              "1843            0.026234            0.028641            0.027772   \n",
              "1844            0.026234            0.028641            0.027772   \n",
              "\n",
              "      remit_trans_num  \n",
              "0                 1.0  \n",
              "1                 0.0  \n",
              "2                 1.0  \n",
              "3                 0.0  \n",
              "4                 1.0  \n",
              "...               ...  \n",
              "1840              1.0  \n",
              "1841              0.4  \n",
              "1842              1.0  \n",
              "1843              0.0  \n",
              "1844              0.0  \n",
              "\n",
              "[1845 rows x 440 columns]"
            ]
          },
          "execution_count": 295,
          "metadata": {},
          "output_type": "execute_result"
        }
      ],
      "source": [
        "test_set"
      ]
    },
    {
      "cell_type": "code",
      "execution_count": 297,
      "metadata": {
        "colab": {
          "base_uri": "https://localhost:8080/"
        },
        "id": "2DGxOVYpym1i",
        "outputId": "f1895d87-da9d-4482-a14d-67992a08387c"
      },
      "outputs": [
        {
          "name": "stdout",
          "output_type": "stream",
          "text": [
            "[[354234, 0.9995567], [360271, 0.99773943], [352857, 0.99720556], [356951, 0.9961398], [361028, 0.99442506], [358276, 0.9917679], [358479, 0.99024874], [360645, 0.98194593], [362131, 0.9789929], [359860, 0.9762437], [361011, 0.97457314], [358452, 0.9603984], [355375, 0.9404244], [354447, 0.87987494], [354428, 0.82953346], [358462, 0.8216325], [358466, 0.80478793], [354044, 0.7991337], [364184, 0.74344605], [364995, 0.7306533], [354402, 0.71334314], [353198, 0.7127275], [361313, 0.69881], [360029, 0.5928765], [358242, 0.57965356], [355134, 0.44588494], [360090, 0.38485026], [357107, 0.38039356], [359656, 0.36934057], [354049, 0.31378505], [363682, 0.31033504], [356632, 0.30933553], [357676, 0.3062448], [356384, 0.3062448], [360037, 0.3062448], [358207, 0.3062448], [360827, 0.3062448], [364729, 0.3062448], [362458, 0.27500322], [362225, 0.2652083], [355559, 0.26433173], [353865, 0.2615748], [360278, 0.25419444], [352522, 0.25253427], [365008, 0.25015876], [354679, 0.209499], [354619, 0.20188574], [354595, 0.18744276], [357466, 0.1659534], [363339, 0.13971551], [354211, 0.13874416], [357887, 0.13444996], [355677, 0.12568997], [355378, 0.12092806], [363476, 0.11552186], [357274, 0.11388608], [355501, 0.10980607], [361262, 0.104331635], [355545, 0.10125936], [364299, 0.10125936], [364666, 0.10125936], [355521, 0.09799468], [352249, 0.097934045], [364779, 0.08331546], [358037, 0.080548614], [355673, 0.07824646], [362450, 0.07584864], [364695, 0.07554893], [361146, 0.07215898], [364961, 0.07175083], [362003, 0.06995206], [352497, 0.069780275], [362481, 0.06881272], [361718, 0.06203371], [360082, 0.06096823], [358600, 0.05640192], [354618, 0.05424613], [364467, 0.05173072], [364624, 0.046468414], [352309, 0.04637807], [359143, 0.04431625], [352280, 0.043830186], [360814, 0.043728482], [364926, 0.042201154], [355801, 0.04206725], [358192, 0.03986986], [352472, 0.039700046], [362725, 0.039370075], [358593, 0.037011947], [353227, 0.035713095], [352487, 0.033528876], [363770, 0.030671898], [359828, 0.030235756], [356165, 0.030235756], [363167, 0.02662646], [365073, 0.026396317], [354263, 0.026283642], [352699, 0.02592872], [360997, 0.025644332], [353229, 0.025122998], [363740, 0.024626296], [358206, 0.023747468], [353032, 0.023640098], [357261, 0.022213062], [362483, 0.020124895], [353059, 0.020049995], [352872, 0.019301964], [362850, 0.019086817], [355734, 0.01863588], [359925, 0.018015863], [356288, 0.018015863], [360979, 0.017787429], [360594, 0.01767397], [363128, 0.017497987], [356763, 0.017429227], [358212, 0.017429227], [358850, 0.01740954], [356752, 0.01661402], [364599, 0.01562672], [354431, 0.01406735], [352660, 0.0140174795], [361709, 0.013552234], [357458, 0.013223849], [361589, 0.013042464], [362242, 0.013042464], [364722, 0.01254169], [356634, 0.012482198], [358983, 0.012449232], [358717, 0.012155819], [354596, 0.011567736], [361291, 0.01150361], [364724, 0.010700403], [360563, 0.009777009], [361000, 0.009605664], [355362, 0.009455381], [364011, 0.00900103], [361145, 0.008938821], [363588, 0.00879413], [359393, 0.008397951], [358975, 0.008030559], [363569, 0.007666306], [363288, 0.0076308954], [360294, 0.0075353854], [362727, 0.007338129], [364687, 0.007319507], [355827, 0.0071330126], [360661, 0.0070947385], [354430, 0.0066713383], [363863, 0.0065076044], [364307, 0.00633597], [353416, 0.0060647842], [360249, 0.0058050663], [356746, 0.0054783938], [354820, 0.005414642], [363336, 0.005395299], [354978, 0.0051665474], [353855, 0.0050868066], [358431, 0.0049784724], [353566, 0.004671903], [363571, 0.0044317176], [364495, 0.0043570837], [357509, 0.0041875197], [355403, 0.003958048], [357347, 0.0038262843], [361152, 0.0037868514], [357485, 0.0037819834], [358833, 0.0036268116], [364775, 0.0032723977], [357897, 0.0032632218], [355347, 0.0031906595], [356316, 0.003050128], [359961, 0.003050128], [364788, 0.002990505], [359390, 0.0029847752], [358144, 0.0028916579], [356418, 0.0028458608], [360074, 0.0028458608], [354967, 0.0026889956], [360521, 0.0026683665], [352685, 0.0025416273], [354435, 0.0024700076], [356629, 0.002429765], [354576, 0.0023255942], [353831, 0.0023017707], [358988, 0.0022747794], [356183, 0.0022084909], [359852, 0.0022084909], [361867, 0.0021096126], [361408, 0.002088677], [359495, 0.0020640397], [356405, 0.0020632462], [357084, 0.0020632462], [361835, 0.0020598655], [361826, 0.0019244225], [361431, 0.0019215763], [359084, 0.0019200495], [355770, 0.0018756998], [364670, 0.0018533054], [357702, 0.0018339745], [358061, 0.0017919281], [364963, 0.0017755841], [359222, 0.0017674319], [357475, 0.0016954885], [355203, 0.0016774063], [359370, 0.0016695053], [355181, 0.0016576546], [359494, 0.0016523288], [360513, 0.0016308307], [355395, 0.0016305682], [357067, 0.0016122452], [358740, 0.0015336857], [359227, 0.0014512677], [357221, 0.0014174999], [362002, 0.0013991325], [358193, 0.0013499549], [364734, 0.001339364], [354675, 0.0013170124], [360226, 0.0012972616], [358808, 0.0012620258], [363346, 0.0012544648], [358026, 0.0012109771], [355188, 0.0011730029], [357498, 0.0011615693], [357862, 0.0011441229], [352302, 0.0011280027], [356639, 0.0010786328], [355566, 0.001016721], [364176, 0.0009431981], [361278, 0.00092081446], [363696, 0.0009140766], [362153, 0.0009008428], [358005, 0.00089050794], [361312, 0.0008895946], [358444, 0.0008838157], [353549, 0.00087916927], [364041, 0.00087747874], [361303, 0.00086950866], [354673, 0.00084805244], [358480, 0.0008412107], [355800, 0.0008274619], [364640, 0.0008184369], [357116, 0.00081757404], [364978, 0.00081088365], [360597, 0.00079290743], [353872, 0.0007899653], [355202, 0.00078561954], [354470, 0.000783229], [354261, 0.00078041136], [362895, 0.00077502645], [364721, 0.0007745311], [364035, 0.00077127636], [354616, 0.00074878143], [356624, 0.00074175745], [357456, 0.0007296671], [361284, 0.0007233184], [362132, 0.00072013115], [362449, 0.0006887823], [361863, 0.00068308983], [356966, 0.0006812558], [357671, 0.000677846], [354798, 0.0006756732], [364770, 0.00066512177], [353388, 0.00064754946], [356610, 0.000629237], [356968, 0.0006209411], [358624, 0.0006202692], [352710, 0.0006185566], [355808, 0.00061527337], [360923, 0.0006147587], [354229, 0.0006058257], [355196, 0.00058025564], [364323, 0.0005465684], [362736, 0.00054651214], [362154, 0.0005364431], [359610, 0.0005180044], [356018, 0.0005180044], [362015, 0.00051599974], [357661, 0.0005115063], [357321, 0.0005085316], [363160, 0.0004962542], [364464, 0.00048455247], [354959, 0.00045497183], [363442, 0.00045155935], [360406, 0.00043967206], [361114, 0.00042715188], [362735, 0.00041340082], [357474, 0.0004075778], [355380, 0.00040511994], [354446, 0.00039401202], [355546, 0.00038962654], [361294, 0.0003848596], [358044, 0.0003818592], [358195, 0.00037351457], [358610, 0.00036844175], [362144, 0.00036739718], [359131, 0.0003622824], [364447, 0.0003605036], [354238, 0.00035599782], [357101, 0.0003549757], [356795, 0.00035350397], [363695, 0.00035095564], [358819, 0.00034062105], [359863, 0.0003298315], [356189, 0.0003298315], [354642, 0.00032439906], [352254, 0.0003230285], [364320, 0.00031817908], [355567, 0.0003147484], [359762, 0.00031256367], [356216, 0.00031256367], [355364, 0.00030465773], [360225, 0.00029433743], [363467, 0.00029354967], [354951, 0.00028843014], [364289, 0.00028737885], [361298, 0.00028361258], [360233, 0.0002800494], [353056, 0.0002716465], [352343, 0.00027003032], [361552, 0.00026876663], [360588, 0.00026837995], [354226, 0.00026712092], [362463, 0.00026373874], [354930, 0.0002604165], [363480, 0.000257897], [354790, 0.0002540687], [362486, 0.0002494605], [361698, 0.00024275467], [354039, 0.00023678242], [359244, 0.00022029779], [360985, 0.0002180166], [360581, 0.00021565291], [356484, 0.0002144671], [360147, 0.0002144671], [361442, 0.00020925787], [359373, 0.00020308376], [363158, 0.00020248668], [361843, 0.00019909997], [362176, 0.00019849416], [362149, 0.00019677107], [355436, 0.00019621575], [364994, 0.00019530377], [352691, 0.00019391616], [359365, 0.00018489576], [360251, 0.00018093664], [358726, 0.00018012724], [363767, 0.00017540823], [356411, 0.00016775253], [360066, 0.00016775253], [359376, 0.00016642617], [358178, 0.00016553009], [361133, 0.00016553009], [357497, 0.0001635637], [361124, 0.00016017654], [358981, 0.0001588966], [357510, 0.00015760465], [361285, 0.00015622185], [363763, 0.0001520484], [360290, 0.0001496258], [360400, 0.00014683635], [358470, 0.00014594104], [364673, 0.00014330672], [354971, 0.00014009018], [360655, 0.0001374845], [361689, 0.00013744373], [364705, 0.00013736446], [359382, 0.0001350766], [362127, 0.00013399195], [356774, 0.00013024539], [353571, 0.00012250601], [362230, 0.000121617355], [364667, 0.0001209105], [361860, 0.00011945849], [359603, 0.0001145939], [354847, 0.00011290435], [355917, 0.000112868176], [355523, 0.000112572474], [360609, 0.00010917296], [352305, 0.0001083375], [361856, 0.00010527054], [357715, 0.00010436877], [352870, 0.00010238818], [362723, 9.967232e-05], [358836, 9.947652e-05], [358472, 9.8838e-05], [357288, 9.8201795e-05], [357066, 9.516267e-05], [364333, 9.241187e-05], [358481, 8.942929e-05], [355815, 8.8913745e-05], [361864, 8.868468e-05], [353586, 8.633294e-05], [356387, 8.630775e-05], [360040, 8.630775e-05], [358592, 8.545033e-05], [364753, 8.418488e-05], [361270, 8.3839914e-05], [364767, 8.30965e-05], [353550, 8.308969e-05], [356628, 8.291255e-05], [355729, 8.1384875e-05], [353868, 8.122919e-05], [363754, 8.1025646e-05], [363459, 7.85943e-05], [358235, 7.853287e-05], [361822, 7.74673e-05], [364150, 7.701571e-05], [357319, 7.550482e-05], [357327, 7.508621e-05], [363906, 7.411291e-05], [364739, 7.403789e-05], [356314, 7.111258e-05], [359959, 7.111258e-05], [357527, 7.054106e-05], [354218, 7.051906e-05], [361006, 7.044392e-05], [364776, 6.714953e-05], [356736, 6.637321e-05], [360847, 6.592912e-05], [364309, 6.540623e-05], [357484, 6.388358e-05], [364319, 6.278458e-05], [362223, 6.2652514e-05], [359854, 6.2641404e-05], [360592, 6.0520775e-05], [360652, 5.993706e-05], [361263, 5.9925856e-05], [359400, 5.9385082e-05], [364479, 5.8364632e-05], [352686, 5.739783e-05], [363168, 5.7036188e-05], [353399, 5.7034555e-05], [355417, 5.6555662e-05], [359220, 5.576961e-05], [354177, 5.478646e-05], [356180, 5.445581e-05], [359849, 5.445581e-05], [364020, 5.3391086e-05], [361986, 5.1222905e-05], [358233, 5.0619466e-05], [360577, 5.0591956e-05], [360556, 5.0420014e-05], [355748, 4.956249e-05], [364669, 4.9002385e-05], [357290, 4.83149e-05], [357237, 4.8278976e-05], [359247, 4.7807815e-05], [363328, 4.6564855e-05], [360230, 4.640394e-05], [360391, 4.5322948e-05], [357286, 4.4682056e-05], [364332, 4.4656026e-05], [360063, 4.4180597e-05], [356408, 4.4180597e-05], [359858, 4.3559096e-05], [356188, 4.3559096e-05], [358006, 4.2979358e-05], [359377, 4.2155334e-05], [362479, 4.1651278e-05], [352871, 4.1043353e-05], [363776, 4.038025e-05], [360287, 4.0316994e-05], [363032, 4.0245082e-05], [358731, 3.911196e-05], [364480, 3.8050202e-05], [356859, 3.792117e-05], [358849, 3.7347378e-05], [356959, 3.6792448e-05], [361576, 3.644849e-05], [357490, 3.614069e-05], [361150, 3.6019577e-05], [357068, 3.561873e-05], [353589, 3.4137793e-05], [361865, 3.40378e-05], [353545, 3.3962056e-05], [362246, 3.380579e-05], [364460, 3.2907396e-05], [359126, 3.2672062e-05], [359827, 3.241998e-05], [361302, 3.2172786e-05], [360264, 3.1718017e-05], [361575, 3.1466632e-05], [352680, 3.1120104e-05], [356614, 3.055912e-05], [355740, 3.0541523e-05], [354911, 3.0067664e-05], [359642, 2.9421682e-05], [356045, 2.9421682e-05], [363441, 2.919426e-05], [360279, 2.772943e-05], [352298, 2.733267e-05], [357488, 2.726397e-05], [352654, 2.6664691e-05], [364496, 2.5883199e-05], [364314, 2.5510715e-05], [361839, 2.4891133e-05], [362953, 2.4637306e-05], [362955, 2.451071e-05], [353172, 2.4083332e-05], [364728, 2.3880315e-05], [363319, 2.3873097e-05], [363129, 2.3826356e-05], [354459, 2.3503906e-05], [357526, 2.330495e-05], [352683, 2.3033665e-05], [362005, 2.2489934e-05], [360566, 2.2186754e-05], [363909, 2.1965825e-05], [363315, 2.1260215e-05], [354603, 2.123185e-05], [355382, 2.1012573e-05], [362851, 2.0925763e-05], [355221, 2.0754806e-05], [361847, 1.9132292e-05], [363284, 1.8596367e-05], [358734, 1.855141e-05], [353592, 1.8270459e-05], [357507, 1.8156066e-05], [363759, 1.8069803e-05], [358459, 1.7845461e-05], [360954, 1.7705239e-05], [355549, 1.7483957e-05], [356642, 1.7344953e-05], [358071, 1.7344953e-05], [363923, 1.7344953e-05], [358239, 1.7327164e-05], [360516, 1.6962082e-05], [356569, 1.673326e-05], [363155, 1.663125e-05], [356409, 1.6582851e-05], [360064, 1.6582851e-05], [364699, 1.6563063e-05], [363862, 1.6389253e-05], [364172, 1.6385438e-05], [358626, 1.6375034e-05], [364038, 1.6282816e-05], [356765, 1.6070098e-05], [363697, 1.6030439e-05], [358046, 1.6004196e-05], [357209, 1.5816493e-05], [363684, 1.5741181e-05], [360286, 1.5646294e-05], [352329, 1.5573527e-05], [354670, 1.5347945e-05], [362285, 1.48581075e-05], [359653, 1.4503132e-05], [356055, 1.4503132e-05], [359384, 1.4269982e-05], [357493, 1.4247001e-05], [359116, 1.3803551e-05], [364643, 1.3774161e-05], [357064, 1.3597329e-05], [357222, 1.353617e-05], [354804, 1.3443442e-05], [364454, 1.3297928e-05], [360558, 1.3147692e-05], [354942, 1.2676643e-05], [359142, 1.246667e-05], [352282, 1.2365066e-05], [356630, 1.2162632e-05], [355418, 1.1909157e-05], [358260, 1.1735532e-05], [361021, 1.1552666e-05], [362296, 1.1442492e-05], [355812, 1.1433373e-05], [353047, 1.1315723e-05], [354661, 1.1289896e-05], [357455, 1.1128515e-05], [358960, 1.098573e-05], [356781, 1.0958775e-05], [352693, 1.0945908e-05], [362848, 1.094022e-05], [355525, 1.0672991e-05], [364318, 1.0535097e-05], [358172, 1.0088256e-05], [364167, 1.0088256e-05], [356075, 1.0056999e-05], [359680, 1.0056999e-05], [355570, 9.795965e-06], [364044, 9.72537e-06], [355565, 9.521163e-06], [354045, 8.967182e-06], [353879, 8.9497025e-06], [355204, 8.828143e-06], [361160, 8.703901e-06], [364194, 8.688823e-06], [356756, 8.643088e-06], [358451, 8.546844e-06], [354810, 8.379073e-06], [356962, 8.307177e-06], [361998, 7.9902775e-06], [363304, 7.843045e-06], [362872, 7.81369e-06], [355212, 7.5891817e-06], [359853, 7.5094686e-06], [362701, 7.4828326e-06], [363039, 7.456076e-06], [358463, 7.4433733e-06], [353051, 7.4431327e-06], [354826, 7.296122e-06], [354958, 7.2920593e-06], [355793, 7.2417392e-06], [358036, 7.2064176e-06], [361137, 7.191081e-06], [364312, 6.951581e-06], [362941, 6.94134e-06], [363914, 6.872061e-06], [364472, 6.8222257e-06], [355909, 6.657723e-06], [364693, 6.656453e-06], [361141, 6.628972e-06], [358001, 6.449436e-06], [357094, 6.4390683e-06], [362151, 6.437325e-06], [354973, 6.3029024e-06], [356638, 6.241198e-06], [359499, 6.0886387e-06], [358222, 5.982137e-06], [354939, 5.884099e-06], [360293, 5.809733e-06], [353200, 5.5771156e-06], [352880, 5.5732553e-06], [364603, 5.478548e-06], [363479, 5.473127e-06], [361827, 5.355978e-06], [364195, 5.2786777e-06], [361866, 5.2346127e-06], [356960, 5.234408e-06], [363455, 5.192079e-06], [360269, 5.1529664e-06], [353851, 5.151404e-06], [356612, 5.1478482e-06], [355794, 5.12551e-06], [361706, 5.094866e-06], [353236, 5.060514e-06], [359272, 5.001758e-06], [363771, 4.922476e-06], [362864, 4.8966776e-06], [355667, 4.8355055e-06], [355789, 4.784469e-06], [358421, 4.7838944e-06], [352465, 4.7330964e-06], [361025, 4.6937557e-06], [358214, 4.6895725e-06], [352484, 4.6732994e-06], [363157, 4.6716145e-06], [352253, 4.652683e-06], [357128, 4.6470955e-06], [361280, 4.646936e-06], [361286, 4.5953957e-06], [358008, 4.5579127e-06], [358443, 4.49718e-06], [358064, 4.4441886e-06], [358228, 4.423309e-06], [363896, 4.3510795e-06], [354968, 4.262798e-06], [363149, 4.258702e-06], [358911, 4.1874187e-06], [363102, 4.1576145e-06], [363472, 4.1430567e-06], [355379, 4.120793e-06], [360649, 4.108166e-06], [358138, 4.1057456e-06], [352316, 4.0941254e-06], [358237, 4.0293603e-06], [355761, 3.956328e-06], [360034, 3.8684448e-06], [357889, 3.7207053e-06], [355376, 3.7011416e-06], [355434, 3.6514837e-06], [360855, 3.5666458e-06], [358736, 3.5382927e-06], [354792, 3.4294148e-06], [357700, 3.349021e-06], [355762, 3.3479064e-06], [364252, 3.3444376e-06], [356413, 3.29554e-06], [360069, 3.29554e-06], [352651, 3.1769887e-06], [357291, 3.1640961e-06], [357861, 3.1361933e-06], [364686, 3.0339916e-06], [356033, 3.0308627e-06], [359625, 3.0308627e-06], [356070, 2.9938385e-06], [361617, 2.9890114e-06], [354143, 2.88163e-06], [364304, 2.8607733e-06], [357092, 2.8535228e-06], [362470, 2.8423653e-06], [355222, 2.8306308e-06], [361261, 2.815073e-06], [363345, 2.8070656e-06], [357656, 2.7889314e-06], [355724, 2.7518824e-06], [357233, 2.70119e-06], [358723, 2.647073e-06], [362220, 2.6027851e-06], [361143, 2.5743861e-06], [355563, 2.5499128e-06], [352342, 2.5475015e-06], [358199, 2.5150387e-06], [364678, 2.476382e-06], [358229, 2.4679932e-06], [354630, 2.420902e-06], [363752, 2.3822404e-06], [360651, 2.3589366e-06], [359340, 2.3264768e-06], [356249, 2.2899342e-06], [359785, 2.2899342e-06], [357109, 2.2291047e-06], [357223, 2.191402e-06], [359361, 2.1529697e-06], [359674, 2.1370322e-06], [360049, 2.0763457e-06], [356395, 2.0763457e-06], [357281, 2.0690538e-06], [356944, 2.026689e-06], [354569, 1.9924844e-06], [355557, 1.9842394e-06], [361594, 1.9675217e-06], [357457, 1.9611748e-06], [363161, 1.9269269e-06], [364706, 1.9269269e-06], [361118, 1.9199692e-06], [358989, 1.8932393e-06], [361445, 1.8913536e-06], [362734, 1.887501e-06], [360260, 1.8376595e-06], [359626, 1.7801426e-06], [356034, 1.7801426e-06], [354668, 1.7786916e-06], [361158, 1.7656546e-06], [355542, 1.7545258e-06], [355916, 1.6990857e-06], [356315, 1.6990857e-06], [359960, 1.6990857e-06], [363866, 1.6706667e-06], [359481, 1.6590367e-06], [361854, 1.6282535e-06], [361287, 1.6125974e-06], [361855, 1.6125974e-06], [362477, 1.6125974e-06], [363152, 1.6125974e-06], [357119, 1.6103875e-06], [355123, 1.6071043e-06], [358837, 1.6048682e-06], [361545, 1.6040099e-06], [364468, 1.5994211e-06], [361859, 1.5696183e-06], [363145, 1.568939e-06], [359487, 1.5497349e-06], [356924, 1.5072447e-06], [361024, 1.5017852e-06], [357907, 1.4883968e-06], [361147, 1.4803843e-06], [354220, 1.4760537e-06], [362733, 1.465928e-06], [355522, 1.4485953e-06], [359260, 1.4238836e-06], [355420, 1.3488494e-06], [362219, 1.3238948e-06], [358621, 1.3069009e-06], [352888, 1.2990477e-06], [354837, 1.2973787e-06], [357693, 1.2902962e-06], [364999, 1.2620279e-06], [361551, 1.2598393e-06], [357852, 1.2466304e-06], [357448, 1.232652e-06], [359469, 1.1943105e-06], [360065, 1.1862668e-06], [355915, 1.1819982e-06], [354928, 1.1679601e-06], [364458, 1.1679111e-06], [354262, 1.1629762e-06], [357103, 1.1440117e-06], [363788, 1.1410632e-06], [354607, 1.1228608e-06], [353030, 1.1004372e-06], [355361, 1.1004372e-06], [363033, 1.0977434e-06], [355397, 1.0974671e-06], [360232, 1.0963101e-06], [360951, 1.0780368e-06], [360567, 1.0736936e-06], [361162, 1.0653807e-06], [357320, 1.020547e-06], [359135, 9.82475e-07], [358616, 9.65678e-07], [357904, 9.550668e-07], [357100, 9.432579e-07], [353587, 9.3446e-07], [354468, 9.2470134e-07], [363898, 9.2318584e-07], [363276, 8.923664e-07], [357871, 8.8647647e-07], [357788, 8.7690694e-07], [355725, 8.758246e-07], [356195, 8.6937445e-07], [353579, 8.6838753e-07], [358604, 8.6738027e-07], [355426, 8.626319e-07], [354245, 8.617193e-07], [355753, 8.5165226e-07], [363905, 8.500603e-07], [360492, 8.3829593e-07], [364189, 8.362143e-07], [354246, 8.209686e-07], [353213, 8.182937e-07], [363756, 8.180394e-07], [360402, 8.140284e-07], [353407, 7.988167e-07], [363124, 7.899132e-07], [355755, 7.8394766e-07], [356606, 7.7402564e-07], [355168, 7.623817e-07], [352819, 7.603769e-07], [357519, 7.602935e-07], [361123, 7.4204985e-07], [354413, 7.387101e-07], [361012, 7.289517e-07], [360409, 7.2731984e-07], [361432, 7.2092723e-07], [362858, 7.1869556e-07], [365001, 6.939182e-07], [360053, 6.887933e-07], [356399, 6.887933e-07], [364193, 6.690526e-07], [356065, 6.668753e-07], [359668, 6.668753e-07], [352816, 6.664684e-07], [364462, 6.646404e-07], [358569, 6.637631e-07], [359784, 6.4599044e-07], [356248, 6.4599044e-07], [359673, 6.4548175e-07], [361556, 6.4482464e-07], [364253, 6.4162134e-07], [361550, 6.3585395e-07], [358620, 6.2279713e-07], [352874, 6.1438595e-07], [362241, 6.0401345e-07], [353541, 5.92193e-07], [361705, 5.844972e-07], [358059, 5.790367e-07], [359831, 5.697525e-07], [356953, 5.535228e-07], [360846, 5.5317656e-07], [357849, 5.486472e-07], [365009, 5.4496513e-07], [360825, 5.400763e-07], [356637, 5.299916e-07], [361295, 5.2148533e-07], [357292, 5.210911e-07], [353386, 5.116311e-07], [358252, 5.10437e-07], [357058, 5.102638e-07], [355540, 5.02235e-07], [353558, 5.0029416e-07], [360388, 4.926459e-07], [352307, 4.900845e-07], [353241, 4.7606744e-07], [362273, 4.7245544e-07], [355558, 4.6664758e-07], [361010, 4.6546262e-07], [361306, 4.5843248e-07], [364316, 4.5822048e-07], [363590, 4.5427015e-07], [359268, 4.5101712e-07], [360810, 4.4834022e-07], [355561, 4.4555773e-07], [354178, 4.4326487e-07], [352877, 4.3714576e-07], [359398, 4.3649257e-07], [357888, 4.3589105e-07], [356779, 4.348141e-07], [354260, 4.2945993e-07], [361456, 4.2647315e-07], [358464, 4.2215467e-07], [352557, 4.1252218e-07], [354256, 4.1240378e-07], [357688, 4.1229487e-07], [363036, 4.1193604e-07], [355672, 4.109535e-07], [361018, 4.0990997e-07], [363902, 4.098963e-07], [357287, 4.0983414e-07], [353578, 4.0645403e-07], [364986, 3.9928725e-07], [358281, 3.9360702e-07], [358063, 3.8487877e-07], [356617, 3.8470188e-07], [359223, 3.8278236e-07], [353878, 3.791243e-07], [364022, 3.756097e-07], [362928, 3.7492325e-07], [363774, 3.7478384e-07], [363780, 3.699289e-07], [361117, 3.69779e-07], [355731, 3.6584754e-07], [356214, 3.6584754e-07], [359759, 3.6584754e-07], [353404, 3.6382224e-07], [360976, 3.5361836e-07], [358253, 3.429757e-07], [361128, 3.358612e-07], [364692, 3.3214462e-07], [353178, 3.3204168e-07], [355193, 3.292746e-07], [364778, 3.200992e-07], [354565, 3.1621968e-07], [356745, 3.1159607e-07], [362171, 3.1126817e-07], [354453, 3.0664268e-07], [359950, 3.049608e-07], [358625, 3.0064226e-07], [359371, 2.9825316e-07], [358454, 2.9780182e-07], [361234, 2.9630885e-07], [357093, 2.9346455e-07], [362125, 2.9219194e-07], [362233, 2.892302e-07], [358980, 2.8518963e-07], [361857, 2.8297563e-07], [362227, 2.8258947e-07], [364735, 2.8258947e-07], [356611, 2.8161986e-07], [354417, 2.8112854e-07], [355899, 2.7928067e-07], [358438, 2.7887268e-07], [364286, 2.7887268e-07], [358410, 2.7453999e-07], [357858, 2.7160402e-07], [355776, 2.699668e-07], [356054, 2.659038e-07], [359652, 2.659038e-07], [358721, 2.6567187e-07], [355816, 2.5734235e-07], [357442, 2.570125e-07], [355178, 2.480811e-07], [353247, 2.4478948e-07], [363900, 2.395179e-07], [364592, 2.3904872e-07], [357695, 2.3845445e-07], [357567, 2.3403463e-07], [356565, 2.334063e-07], [358331, 2.329582e-07], [363751, 2.276034e-07], [359837, 2.175169e-07], [362155, 2.1595511e-07], [364036, 2.1303123e-07], [361565, 2.1239872e-07], [358457, 2.1076347e-07], [358213, 2.1028524e-07], [353875, 2.0491898e-07], [354842, 2.0442866e-07], [354938, 2.0178896e-07], [361437, 2.0072679e-07], [355182, 1.9944375e-07], [352558, 1.985463e-07], [357856, 1.9831637e-07], [352503, 1.9692474e-07], [357468, 1.9102863e-07], [352866, 1.8996133e-07], [357471, 1.8380577e-07], [364179, 1.8350975e-07], [354814, 1.824361e-07], [356037, 1.8009136e-07], [354795, 1.7993291e-07], [359385, 1.7981695e-07], [364672, 1.7871221e-07], [357499, 1.770798e-07], [362853, 1.7218099e-07], [358946, 1.7154555e-07], [353074, 1.7065022e-07], [354047, 1.6988801e-07], [357295, 1.6835997e-07], [354652, 1.6698161e-07], [356589, 1.6623387e-07], [361778, 1.6527058e-07], [361020, 1.6420353e-07], [362929, 1.596008e-07], [363583, 1.5944289e-07], [363755, 1.5355921e-07], [360610, 1.5054373e-07], [354780, 1.5002061e-07], [354935, 1.487873e-07], [360046, 1.4784301e-07], [352670, 1.4644843e-07], [361308, 1.4423986e-07], [353065, 1.4165465e-07], [355373, 1.3998884e-07], [354239, 1.387845e-07], [358300, 1.3743107e-07], [357682, 1.3538171e-07], [356179, 1.3527149e-07], [359848, 1.3527149e-07], [357322, 1.3260275e-07], [363040, 1.3240916e-07], [355678, 1.2696994e-07], [357885, 1.2552181e-07], [357095, 1.2305902e-07], [364452, 1.2143688e-07], [362472, 1.155272e-07], [357521, 1.1528793e-07], [357709, 1.1499782e-07], [358733, 1.14512346e-07], [353083, 1.14443566e-07], [360653, 1.12851886e-07], [361266, 1.1247078e-07], [363712, 1.1163236e-07], [358725, 1.1155871e-07], [357705, 1.1137376e-07], [354831, 1.096868e-07], [356421, 1.0931421e-07], [360078, 1.0931421e-07], [363317, 1.08206464e-07], [356220, 1.0529039e-07], [359767, 1.0529039e-07], [359638, 1.03165895e-07], [356043, 1.03165895e-07], [353561, 1.03005846e-07], [357307, 9.7345385e-08], [360562, 9.718287e-08], [354024, 9.705986e-08], [358456, 9.5262294e-08], [364303, 9.5023836e-08], [364169, 9.2971625e-08], [359945, 9.264079e-08], [356303, 9.264079e-08], [356789, 9.226237e-08], [362301, 9.1922836e-08], [358250, 9.190162e-08], [356386, 9.185974e-08], [360039, 9.185974e-08], [362947, 9.113167e-08], [358471, 9.0072874e-08], [352704, 8.931142e-08], [362823, 8.923412e-08], [364702, 8.910317e-08], [361459, 8.866272e-08], [364163, 8.844298e-08], [363478, 8.6884505e-08], [361828, 8.5424006e-08], [355090, 8.514974e-08], [358430, 8.397941e-08], [354950, 8.227095e-08], [356918, 8.22297e-08], [359369, 8.141753e-08], [357324, 8.087011e-08], [359130, 8.064169e-08], [364628, 8.0193196e-08], [361837, 7.941689e-08], [354040, 7.867287e-08], [356307, 7.8659966e-08], [357870, 7.532433e-08], [358254, 7.498975e-08], [364976, 7.425264e-08], [362914, 7.19094e-08], [363916, 7.180839e-08], [360081, 7.098858e-08], [356424, 7.098858e-08], [363868, 7.052998e-08], [357091, 7.0449445e-08], [352332, 7.0435064e-08], [357259, 7.030179e-08], [357882, 6.901294e-08], [361282, 6.830447e-08], [363738, 6.780991e-08], [354834, 6.769786e-08], [352330, 6.710291e-08], [355905, 6.650862e-08], [362586, 6.6306846e-08], [364295, 6.4788516e-08], [354625, 6.474059e-08], [358033, 6.465088e-08], [353833, 6.45219e-08], [352488, 6.398866e-08], [357302, 6.2237625e-08], [354947, 6.130603e-08], [356742, 6.002047e-08], [358568, 5.960078e-08], [353405, 5.939299e-08], [355424, 5.9357763e-08], [354258, 5.9136955e-08], [353556, 5.83008e-08], [364015, 5.7993148e-08], [357318, 5.7584433e-08], [356783, 5.75436e-08], [359134, 5.710439e-08], [355411, 5.6620024e-08], [355705, 5.65584e-08], [356950, 5.47489e-08], [362203, 5.4743264e-08], [353867, 5.4702454e-08], [364203, 5.427499e-08], [354254, 5.4212812e-08], [354448, 5.3682996e-08], [355810, 5.3536766e-08], [364223, 5.3064756e-08], [354604, 5.2164395e-08], [362855, 5.2033133e-08], [361450, 5.1968158e-08], [353890, 5.1711186e-08], [352865, 5.164012e-08], [356229, 5.1386817e-08], [359775, 5.1386817e-08], [360062, 5.1279116e-08], [356407, 5.1279116e-08], [353569, 5.026341e-08], [358040, 4.9600477e-08], [357313, 4.819139e-08], [364032, 4.7826763e-08], [359270, 4.762231e-08], [358268, 4.7325045e-08], [352658, 4.6639617e-08], [360250, 4.6405976e-08], [352495, 4.6349005e-08], [355773, 4.6015955e-08], [353847, 4.4707765e-08], [357489, 4.4660467e-08], [357262, 4.408235e-08], [354667, 4.369669e-08], [361566, 4.3580496e-08], [354013, 4.282129e-08], [353166, 4.2170676e-08], [358709, 4.1926462e-08], [359141, 4.172225e-08], [357712, 4.1676753e-08], [353075, 4.1416197e-08], [355555, 4.0413138e-08], [358167, 4.030568e-08], [358996, 4.0118152e-08], [360646, 3.941182e-08], [354401, 3.9381614e-08], [364196, 3.789475e-08], [354855, 3.6892015e-08], [360582, 3.64028e-08], [363757, 3.6077164e-08], [354440, 3.581567e-08], [363130, 3.5186766e-08], [355527, 3.4872876e-08], [356773, 3.4823756e-08], [364008, 3.475972e-08], [354788, 3.4331304e-08], [358842, 3.3807495e-08], [358974, 3.3555857e-08], [356749, 3.3375663e-08], [359648, 3.3350016e-08], [354235, 3.242509e-08], [357079, 3.2352812e-08], [357668, 3.2301575e-08], [358066, 3.201214e-08], [357692, 3.0798695e-08], [361003, 3.0132103e-08], [364717, 2.9700958e-08], [362298, 2.9453808e-08], [359681, 2.8960743e-08], [362245, 2.8463337e-08], [364251, 2.8408232e-08], [357090, 2.8264413e-08], [356601, 2.7702772e-08], [360854, 2.7690517e-08], [361433, 2.7673408e-08], [353568, 2.7484566e-08], [362074, 2.714007e-08], [361577, 2.7098276e-08], [354421, 2.7025704e-08], [355780, 2.7025704e-08], [364610, 2.6848705e-08], [360596, 2.6805978e-08], [359654, 2.6767864e-08], [355388, 2.665171e-08], [360786, 2.6579167e-08], [364311, 2.6411993e-08], [354658, 2.5747607e-08], [364977, 2.554417e-08], [364305, 2.5387912e-08], [358264, 2.504093e-08], [364993, 2.460803e-08], [352684, 2.4375208e-08], [355150, 2.4178277e-08], [361314, 2.3993689e-08], [359771, 2.393847e-08], [356225, 2.393847e-08], [364186, 2.3757208e-08], [360991, 2.3644057e-08], [364478, 2.325752e-08], [356304, 2.2978016e-08], [359946, 2.2978016e-08], [353596, 2.2579442e-08], [357275, 2.2409454e-08], [361720, 2.2151502e-08], [354962, 2.2077563e-08], [364190, 2.1981174e-08], [362473, 2.189226e-08], [352705, 2.158552e-08], [362488, 2.1413658e-08], [360576, 2.1331761e-08], [355197, 2.121276e-08], [353054, 2.0348153e-08], [354633, 2.0348153e-08], [355392, 2.0348153e-08], [363307, 1.944095e-08], [352715, 1.9374282e-08], [353835, 1.9328661e-08], [354054, 1.9319778e-08], [364703, 1.91174e-08], [357106, 1.8863815e-08], [357278, 1.8847631e-08], [360468, 1.8788372e-08], [355431, 1.872548e-08], [363730, 1.8680531e-08], [361989, 1.8668633e-08], [360583, 1.8527912e-08], [364302, 1.7654823e-08], [354854, 1.739733e-08], [355152, 1.718458e-08], [356771, 1.6708048e-08], [353494, 1.6671375e-08], [356911, 1.6547602e-08], [363918, 1.6167762e-08], [362208, 1.5923238e-08], [354048, 1.5417326e-08], [354613, 1.5277315e-08], [357081, 1.5133843e-08], [355147, 1.5057942e-08], [361836, 1.5051656e-08], [358455, 1.5048613e-08], [358977, 1.5048613e-08], [355413, 1.4714205e-08], [356608, 1.4588202e-08], [357892, 1.4554712e-08], [356600, 1.4386408e-08], [354663, 1.42721905e-08], [358054, 1.3776288e-08], [360386, 1.33223415e-08], [355156, 1.30764315e-08], [353861, 1.2997383e-08], [354821, 1.2997383e-08], [362918, 1.2990146e-08], [355183, 1.2697074e-08], [360998, 1.25762245e-08], [363477, 1.22567405e-08], [352501, 1.1993018e-08], [362247, 1.177261e-08], [354606, 1.1738528e-08], [358458, 1.1694281e-08], [359856, 1.1538457e-08], [356186, 1.1538457e-08], [357216, 1.14106875e-08], [357297, 1.130631e-08], [359263, 1.0940177e-08], [360273, 1.0940177e-08], [362934, 1.09370255e-08], [361711, 1.0865107e-08], [356245, 1.0823284e-08], [359781, 1.0823284e-08], [355216, 1.071984e-08], [358841, 1.0677009e-08], [353376, 1.0554631e-08], [354629, 1.0271642e-08], [352508, 1.0153775e-08], [352337, 9.923199e-09], [358248, 9.812642e-09], [364109, 9.743246e-09], [352476, 9.660622e-09], [359269, 9.561084e-09], [360584, 9.535987e-09], [364964, 9.419301e-09], [361581, 9.088445e-09], [359483, 9.0211065e-09], [358157, 8.933695e-09], [355792, 8.882383e-09], [361296, 8.707724e-09], [359488, 8.650778e-09], [360075, 8.574915e-09], [355756, 8.5611065e-09], [362930, 8.560616e-09], [353383, 8.553549e-09], [364698, 8.360555e-09], [352696, 8.228096e-09], [363282, 7.986772e-09], [355166, 7.977165e-09], [364006, 7.956363e-09], [355791, 7.897789e-09], [359110, 7.894596e-09], [361849, 7.740587e-09], [352876, 7.542724e-09], [355716, 7.4795015e-09], [363131, 7.442531e-09], [361015, 7.3168938e-09], [352291, 7.13729e-09], [358258, 7.0005908e-09], [357482, 6.8030364e-09], [358968, 6.753727e-09], [353045, 6.5212746e-09], [360849, 6.3918733e-09], [358846, 6.279252e-09], [363338, 6.214507e-09], [353825, 6.1474266e-09], [364743, 6.1326704e-09], [364748, 5.9661365e-09], [360601, 5.954416e-09], [362214, 5.945292e-09], [353033, 5.9374727e-09], [358588, 5.858681e-09], [360833, 5.834015e-09], [353582, 5.6441984e-09], [363895, 5.5606693e-09], [362891, 5.346317e-09], [363147, 5.153688e-09], [355895, 4.9044475e-09], [364321, 4.855128e-09], [355795, 4.8376383e-09], [360591, 4.7889905e-09], [360654, 4.7829385e-09], [355429, 4.7657456e-09], [364047, 4.731861e-09], [354407, 4.6469992e-09], [359477, 4.6452446e-09], [363337, 4.5762634e-09], [363038, 4.525874e-09], [356044, 4.2905968e-09], [359639, 4.2905968e-09], [352344, 4.2619357e-09], [353359, 4.0902526e-09], [355428, 4.05747e-09], [359737, 3.9667913e-09], [356140, 3.9667913e-09], [363439, 3.922529e-09], [353366, 3.8219197e-09], [355759, 3.806119e-09], [357086, 3.7929295e-09], [360534, 3.7813646e-09], [360590, 3.7766004e-09], [364633, 3.6875396e-09], [356410, 3.6694028e-09], [356599, 3.6618941e-09], [362925, 3.620081e-09], [364626, 3.5259038e-09], [359391, 3.4774952e-09], [362284, 3.4582803e-09], [358034, 3.4567178e-09], [364601, 3.4437926e-09], [354022, 3.3828702e-09], [357447, 3.2992975e-09], [359506, 3.1572016e-09], [364182, 3.1399061e-09], [357341, 3.0416067e-09], [363453, 2.948735e-09], [363465, 2.9302274e-09], [358987, 2.8849803e-09], [360730, 2.810597e-09], [356120, 2.6885023e-09], [359732, 2.6885023e-09], [356949, 2.6863394e-09], [352331, 2.6695754e-09], [356068, 2.6346723e-09], [360085, 2.5725162e-09], [356426, 2.5725162e-09], [354817, 2.5058497e-09], [361848, 2.4878577e-09], [355532, 2.4822884e-09], [362147, 2.482099e-09], [355900, 2.4820044e-09], [352692, 2.456909e-09], [355201, 2.4038385e-09], [364780, 2.3669315e-09], [364201, 2.275839e-09], [357850, 2.2239293e-09], [358030, 2.2193698e-09], [354643, 2.2158253e-09], [359657, 2.2158253e-09], [356057, 2.2158253e-09], [358048, 2.2158253e-09], [361001, 2.2158253e-09], [362226, 2.2158253e-09], [352494, 2.1812308e-09], [355814, 2.1540758e-09], [356753, 2.1247855e-09], [354223, 2.1187434e-09], [358742, 2.0973772e-09], [359954, 2.0893158e-09], [356311, 2.0893158e-09], [353394, 2.085239e-09], [354007, 2.0820319e-09], [361463, 2.0768005e-09], [354432, 2.0411541e-09], [364488, 2.033464e-09], [353205, 2.0292217e-09], [358298, 2.0089228e-09], [358273, 2.006338e-09], [359675, 1.9854158e-09], [357112, 1.9851243e-09], [361999, 1.9579036e-09], [362860, 1.957127e-09], [364597, 1.9559998e-09], [354628, 1.9531852e-09], [359201, 1.9017705e-09], [364455, 1.8903714e-09], [358223, 1.8758e-09], [355389, 1.8743014e-09], [358956, 1.8695812e-09], [359467, 1.8695812e-09], [357513, 1.8514371e-09], [352301, 1.8442367e-09], [359253, 1.8182886e-09], [355671, 1.8127967e-09], [358834, 1.8119601e-09], [354970, 1.7966492e-09], [353870, 1.7927332e-09], [362926, 1.7802076e-09], [364045, 1.7390985e-09], [363289, 1.7169337e-09], [360292, 1.6883238e-09], [358847, 1.6704533e-09], [360559, 1.6633095e-09], [358216, 1.6157119e-09], [360820, 1.605911e-09], [354828, 1.5890979e-09], [355772, 1.5890979e-09], [358442, 1.5860999e-09], [361690, 1.5730757e-09], [354796, 1.5604349e-09], [355741, 1.5604349e-09], [362490, 1.545922e-09], [361845, 1.5364976e-09], [352858, 1.458647e-09], [354415, 1.4429792e-09], [364033, 1.4361697e-09], [360529, 1.433876e-09], [362175, 1.4087034e-09], [363138, 1.3948618e-09], [356388, 1.3932929e-09], [360041, 1.3932929e-09], [363773, 1.391787e-09], [353560, 1.3751236e-09], [356644, 1.3734617e-09], [354944, 1.3616509e-09], [354672, 1.3520883e-09], [360843, 1.3518896e-09], [354662, 1.330116e-09], [360553, 1.3203088e-09], [357115, 1.3096418e-09], [356890, 1.3048869e-09], [360990, 1.2891385e-09], [358844, 1.2791673e-09], [358067, 1.2699635e-09], [354212, 1.233356e-09], [355806, 1.2107055e-09], [364751, 1.2073641e-09], [354014, 1.1881447e-09], [355751, 1.1727468e-09], [361851, 1.1567781e-09], [363322, 1.1174112e-09], [356372, 1.0970825e-09], [360018, 1.0970825e-09], [357314, 1.0945055e-09], [360011, 1.0745587e-09], [357098, 1.0560747e-09], [354609, 1.0269638e-09], [353084, 1.0235827e-09], [353234, 9.975285e-10], [360079, 9.936186e-10], [356422, 9.936186e-10], [357089, 9.808707e-10], [352520, 9.769293e-10], [360393, 9.653434e-10], [355404, 9.603335e-10], [363341, 9.489353e-10], [361559, 9.413261e-10], [363023, 9.347741e-10], [362916, 9.1791874e-10], [362890, 9.0766766e-10], [353823, 8.8766194e-10], [361273, 8.838237e-10], [357863, 8.796729e-10], [361277, 8.688094e-10], [355458, 8.5531365e-10], [364715, 8.2543267e-10], [361710, 7.8404955e-10], [356052, 7.3841155e-10], [359650, 7.3841155e-10], [354443, 7.3439865e-10], [364639, 7.1626655e-10], [362717, 7.1105055e-10], [356932, 6.9575384e-10], [358828, 6.526908e-10], [361299, 6.489024e-10], [364048, 6.4365857e-10], [358835, 6.396175e-10], [358269, 6.163567e-10], [363123, 6.1584315e-10], [363580, 6.1313454e-10], [359255, 5.7863264e-10], [353540, 5.697313e-10], [357701, 5.6632393e-10], [364023, 5.5578675e-10], [364983, 5.512912e-10], [357525, 5.459045e-10], [356884, 5.432185e-10], [363261, 5.4213684e-10], [361290, 5.3847227e-10], [361861, 5.2538696e-10], [357304, 5.244548e-10], [361976, 5.018922e-10], [363143, 4.9780696e-10], [364493, 4.8449034e-10], [354027, 4.8346566e-10], [358453, 4.7480686e-10], [356969, 4.3565412e-10], [355556, 4.2840365e-10], [359774, 4.2430595e-10], [356228, 4.2430595e-10], [358197, 4.2239945e-10], [359536, 4.1837273e-10], [360396, 4.1180165e-10], [359658, 4.0801446e-10], [356058, 4.0801446e-10], [363154, 3.9752948e-10], [355884, 3.94193e-10], [353072, 3.89414e-10], [362136, 3.8866385e-10], [363320, 3.7522224e-10], [352470, 3.717679e-10], [356306, 3.6932604e-10], [359362, 3.6735887e-10], [355757, 3.6158762e-10], [357124, 3.6067085e-10], [353518, 3.4613143e-10], [357869, 3.3965425e-10], [352320, 3.3944828e-10], [362952, 3.2464353e-10], [359491, 3.1336822e-10], [360263, 3.1286118e-10], [353888, 3.1137645e-10], [358256, 3.106782e-10], [360015, 3.0069494e-10], [356369, 3.0069494e-10], [363136, 2.961918e-10], [359500, 2.8424463e-10], [359819, 2.6528643e-10], [356156, 2.6528643e-10], [356734, 2.6528643e-10], [354669, 2.6274144e-10], [355519, 2.6104358e-10], [354612, 2.6081712e-10], [365004, 2.5607902e-10], [356313, 2.5260033e-10], [359956, 2.5260033e-10], [352312, 2.5058056e-10], [354442, 2.4706154e-10], [354759, 2.469254e-10], [357817, 2.456397e-10], [353396, 2.4521044e-10], [360094, 2.440556e-10], [353041, 2.395233e-10], [358227, 2.3824934e-10], [354799, 2.3469346e-10], [360575, 2.184373e-10], [357108, 2.1810924e-10], [360600, 2.1740648e-10], [352886, 2.1585701e-10], [359782, 2.0729646e-10], [356246, 2.0729646e-10], [361129, 1.9590829e-10], [353043, 1.9245906e-10], [356957, 1.857832e-10], [362824, 1.8401142e-10], [355091, 1.7748296e-10], [353864, 1.6894375e-10], [352480, 1.6644924e-10], [364261, 1.6003543e-10], [362174, 1.5761711e-10], [354943, 1.5694096e-10], [357300, 1.5468592e-10], [354801, 1.5210572e-10], [359339, 1.5047104e-10], [353385, 1.4506335e-10], [356014, 1.3823678e-10], [359605, 1.3823678e-10], [359607, 1.3645465e-10], [356016, 1.3645465e-10], [359468, 1.2372973e-10], [357294, 1.2145536e-10], [358769, 1.2108273e-10], [358708, 1.1910122e-10], [354824, 1.1852265e-10], [363137, 1.1489976e-10], [360235, 1.1131561e-10], [359851, 1.0470146e-10], [356182, 1.0470146e-10], [356777, 1.0470146e-10], [363446, 1.02295186e-10], [356784, 1.00298825e-10], [358984, 9.8876324e-11], [361569, 9.8838604e-11], [361592, 9.4329364e-11], [362243, 9.3095885e-11], [362451, 9.298639e-11], [363121, 9.192972e-11], [355633, 9.188379e-11], [353243, 9.171325e-11], [353885, 9.171325e-11], [354850, 9.171325e-11], [355911, 9.171325e-11], [355402, 9.055939e-11], [355769, 8.933753e-11], [353415, 8.8730606e-11], [356792, 8.644139e-11], [357303, 8.5786205e-11], [356941, 8.330574e-11], [364135, 8.213693e-11], [357069, 8.152448e-11], [358434, 8.152448e-11], [353077, 7.688021e-11], [358432, 7.350906e-11], [356390, 7.321549e-11], [360043, 7.321549e-11], [357441, 7.093366e-11], [361715, 6.972081e-11], [364694, 6.8927995e-11], [362469, 6.806171e-11], [359132, 6.804496e-11], [360401, 6.804496e-11], [358605, 6.795391e-11], [360989, 6.4514546e-11], [361292, 6.2912696e-11], [364898, 6.2414414e-11], [363146, 6.160684e-11], [356602, 6.098452e-11], [362142, 5.8789924e-11], [361547, 5.6751635e-11], [358622, 5.6455174e-11], [354966, 5.2249757e-11], [362866, 5.221927e-11], [353231, 4.7436402e-11], [357628, 4.4114587e-11], [355215, 4.152949e-11], [355822, 4.152949e-11], [356429, 4.152949e-11], [360088, 4.152949e-11], [357122, 4.152949e-11], [354756, 3.9985473e-11], [356119, 3.9985473e-11], [359731, 3.9985473e-11], [354465, 3.927181e-11], [362800, 3.8807103e-11], [359389, 3.82673e-11], [353843, 3.7890933e-11], [353248, 3.6476e-11], [355813, 3.6179993e-11], [362478, 3.5739186e-11], [355155, 3.4718454e-11], [355384, 3.4130292e-11], [357445, 3.368457e-11], [362468, 3.3567135e-11], [361140, 3.2999048e-11], [362207, 3.276936e-11], [356403, 3.1085114e-11], [360058, 3.1085114e-11], [356305, 3.066869e-11], [359947, 3.066869e-11], [355179, 2.8795952e-11], [352492, 2.8513879e-11], [352859, 2.6829108e-11], [355679, 2.6582828e-11], [354818, 2.362045e-11], [355538, 2.284548e-11], [360387, 2.279338e-11], [357670, 2.1785592e-11], [356017, 2.1485466e-11], [359608, 2.1485466e-11], [353220, 2.044312e-11], [364030, 1.9824472e-11], [353413, 1.916834e-11], [363034, 1.8630686e-11], [355548, 1.8120758e-11], [353209, 1.7050302e-11], [360604, 1.6897364e-11], [357478, 1.625363e-11], [359121, 1.5914985e-11], [361574, 1.5775119e-11], [354423, 1.51292e-11], [364612, 1.5079563e-11], [354061, 1.4776845e-11], [360281, 1.4623506e-11], [358993, 1.458053e-11], [354819, 1.4278296e-11], [360072, 1.3783915e-11], [357893, 1.3564678e-11], [358602, 1.3551076e-11], [364293, 1.3418105e-11], [361580, 1.33363555e-11], [364148, 1.1933194e-11], [354807, 1.1663123e-11], [358232, 1.1456992e-11], [364718, 1.1285802e-11], [358211, 1.1101532e-11], [363153, 1.0751378e-11], [360288, 9.8728525e-12], [358693, 9.122366e-12], [361002, 8.89785e-12], [361446, 8.89785e-12], [357077, 8.550338e-12], [364709, 8.515705e-12], [357874, 8.404014e-12], [360282, 8.384049e-12], [359113, 8.279531e-12], [353080, 8.019563e-12], [354015, 7.924183e-12], [361721, 7.855021e-12], [355775, 7.639662e-12], [360839, 7.4293575e-12], [357717, 7.353216e-12], [355787, 7.2968975e-12], [362101, 7.1736506e-12], [357841, 6.704981e-12], [363886, 6.5389634e-12], [361996, 6.154609e-12], [361460, 6.0705967e-12], [356187, 6.028734e-12], [359857, 6.028734e-12], [364675, 5.772629e-12], [357706, 5.745541e-12], [355146, 5.09425e-12], [354449, 4.9517005e-12], [363753, 4.7422444e-12], [357506, 4.7175163e-12], [361269, 4.600858e-12], [357848, 4.3022517e-12], [357677, 3.8933713e-12], [361436, 3.767105e-12], [353233, 3.6673893e-12], [360955, 3.6008896e-12], [352700, 3.5694548e-12], [352507, 3.539334e-12], [359498, 3.1628743e-12], [359633, 3.1556136e-12], [356420, 3.0759006e-12], [360077, 3.0759006e-12], [358970, 2.9850885e-12], [361570, 2.9724359e-12], [355198, 2.855218e-12], [356790, 2.7394803e-12], [358282, 2.7051796e-12], [364200, 2.7051796e-12], [361008, 2.645207e-12], [363584, 2.5107308e-12], [352493, 2.45439e-12], [355171, 2.4535896e-12], [356588, 2.3909217e-12], [359636, 2.3745652e-12], [364485, 2.1200903e-12], [360395, 2.0724208e-12], [358029, 1.9428714e-12], [356594, 1.7930279e-12], [360589, 1.791975e-12], [357282, 1.7618323e-12], [354622, 1.6596436e-12], [358220, 1.4169959e-12], [354573, 1.4031503e-12], [357699, 1.3490233e-12], [362869, 1.3346705e-12], [364031, 1.3241022e-12], [363746, 1.2970288e-12], [356605, 1.2816173e-12], [357905, 1.2405618e-12], [362461, 1.0972881e-12], [354452, 1.0692619e-12], [364191, 1.069113e-12], [357502, 1.0256391e-12], [361136, 9.15955e-13], [358467, 8.3420765e-13], [360648, 7.4629425e-13], [353857, 7.3807675e-13], [358601, 6.68405e-13], [360254, 6.4496883e-13], [359507, 6.0618e-13], [357883, 5.321341e-13], [356221, 4.654148e-13], [359768, 4.654148e-13], [353848, 4.6289876e-13], [358265, 4.5003075e-13], [355737, 4.3731183e-13], [357658, 3.9175342e-13], [353403, 3.6453845e-13], [353860, 3.5395143e-13], [356776, 3.1422e-13], [360593, 3.0981972e-13], [360789, 2.9110365e-13], [354813, 2.883346e-13], [364315, 2.350349e-13], [354471, 2.1915851e-13], [363764, 2.0053737e-13], [359777, 1.8268331e-13], [362287, 1.7446266e-13], [362871, 1.719962e-13], [364475, 1.719962e-13], [356050, 1.6096427e-13], [359647, 1.6096427e-13], [362724, 1.5179191e-13], [364996, 1.5179191e-13], [356757, 1.4981816e-13], [355745, 1.4537057e-13], [363020, 1.3081588e-13], [360812, 1.03392914e-13], [361685, 1.03392914e-13], [357285, 8.787622e-14], [353201, 8.58224e-14], [361166, 8.001893e-14], [356787, 7.4111913e-14], [354853, 6.8744726e-14], [364689, 6.6307027e-14], [361144, 5.7825855e-14], [354836, 5.6861525e-14], [360598, 5.648891e-14], [359941, 5.5843358e-14], [356300, 5.5843358e-14], [364012, 5.4142786e-14], [362715, 5.048752e-14], [355386, 4.5693003e-14], [357902, 4.1843814e-14], [362859, 3.8738415e-14], [360231, 3.4454397e-14], [364484, 3.3245064e-14], [364631, 2.4012525e-14], [355901, 1.7977724e-14], [357866, 1.636419e-14], [364278, 1.0007905e-14], [359841, 8.973971e-15], [356173, 8.973971e-15], [358280, 8.08322e-15], [362480, 5.7231653e-15], [360842, 5.4812442e-15], [364470, 4.6685818e-15], [354778, 2.6933238e-15], [360572, 9.265014e-16], [362152, 6.1123644e-16], [361707, 3.3628955e-16], [361692, 1.213619e-16], [358482, 7.0564376e-17], [364165, 3.3883773e-17]]\n",
            "3850\n"
          ]
        }
      ],
      "source": [
        "# Predict probability\n",
        "output = []\n",
        "\n",
        "for i, _x in enumerate(random_search.predict_proba(test_set)):\n",
        "# for i, _x in enumerate(xgbModel.predict_proba(test_set)):\n",
        "    output.append([test_keys.iloc[i].item(), _x[1]])\n",
        "output = sorted(output, reverse=True, key= lambda s: s[1])\n",
        "print(output)\n",
        "\n",
        "# 考慮private alert key部分，滿足上傳條件\n",
        "public_private_alert_key = sample_output['alert_key'].values\n",
        "# print(len(public_private_alert_key))\n",
        "\n",
        "# For alert key not in public, add zeros\n",
        "for key in public_private_alert_key:\n",
        "  # print(key)\n",
        "  if key not in test_keys['alert_key'].to_numpy():\n",
        "    output.append([key, 0])\n",
        "\n",
        "print(len(output))\n",
        "\n",
        "predict_alert_key, predict_probability = [], []\n",
        "for key, prob in output:\n",
        "  predict_alert_key.append(key)\n",
        "  predict_probability.append(prob)\n",
        "\n",
        "df_predicted = pd.DataFrame({\n",
        "    \"alert_key\": predict_alert_key,\n",
        "    \"probability\": predict_probability\n",
        "})\n",
        "\n",
        "df_predicted.to_csv('tree-basedmodel with resample methods.csv', index=False)"
      ]
    }
  ],
  "metadata": {
    "colab": {
      "collapsed_sections": [
        "usz778TT95E6"
      ],
      "provenance": []
    },
    "gpuClass": "standard",
    "kernelspec": {
      "display_name": "base",
      "language": "python",
      "name": "python3"
    },
    "language_info": {
      "codemirror_mode": {
        "name": "ipython",
        "version": 3
      },
      "file_extension": ".py",
      "mimetype": "text/x-python",
      "name": "python",
      "nbconvert_exporter": "python",
      "pygments_lexer": "ipython3",
      "version": "3.8.8"
    },
    "vscode": {
      "interpreter": {
        "hash": "a077222d77dfe082b8f1dd562ad70e458ac2ab76993a0b248ab0476e32e9e8dd"
      }
    }
  },
  "nbformat": 4,
  "nbformat_minor": 0
}
